{
 "cells": [
  {
   "cell_type": "markdown",
   "metadata": {},
   "source": [
    "<h1>Brief Me The Case: AI Text Summarizer  "
   ]
  },
  {
   "cell_type": "markdown",
   "metadata": {},
   "source": [
    "### Importing Required Libraries "
   ]
  },
  {
   "cell_type": "code",
   "execution_count": null,
   "metadata": {},
   "outputs": [],
   "source": [
    "!pip install datasets"
   ]
  },
  {
   "cell_type": "code",
   "execution_count": 2,
   "metadata": {
    "execution": {
     "iopub.execute_input": "2025-04-26T20:00:08.015498Z",
     "iopub.status.busy": "2025-04-26T20:00:08.015247Z",
     "iopub.status.idle": "2025-04-26T20:01:41.259430Z",
     "shell.execute_reply": "2025-04-26T20:01:41.258720Z",
     "shell.execute_reply.started": "2025-04-26T20:00:08.015472Z"
    }
   },
   "outputs": [
    {
     "name": "stdout",
     "output_type": "stream",
     "text": [
      "Collecting huggingface_hub==0.19.4\n",
      "  Downloading huggingface_hub-0.19.4-py3-none-any.whl.metadata (14 kB)\n",
      "Requirement already satisfied: filelock in /usr/local/lib/python3.11/dist-packages (from huggingface_hub==0.19.4) (3.18.0)\n",
      "Requirement already satisfied: fsspec>=2023.5.0 in /usr/local/lib/python3.11/dist-packages (from huggingface_hub==0.19.4) (2024.12.0)\n",
      "Requirement already satisfied: requests in /usr/local/lib/python3.11/dist-packages (from huggingface_hub==0.19.4) (2.32.3)\n",
      "Requirement already satisfied: tqdm>=4.42.1 in /usr/local/lib/python3.11/dist-packages (from huggingface_hub==0.19.4) (4.67.1)\n",
      "Requirement already satisfied: pyyaml>=5.1 in /usr/local/lib/python3.11/dist-packages (from huggingface_hub==0.19.4) (6.0.2)\n",
      "Requirement already satisfied: typing-extensions>=3.7.4.3 in /usr/local/lib/python3.11/dist-packages (from huggingface_hub==0.19.4) (4.13.1)\n",
      "Requirement already satisfied: packaging>=20.9 in /usr/local/lib/python3.11/dist-packages (from huggingface_hub==0.19.4) (24.2)\n",
      "Requirement already satisfied: charset-normalizer<4,>=2 in /usr/local/lib/python3.11/dist-packages (from requests->huggingface_hub==0.19.4) (3.4.1)\n",
      "Requirement already satisfied: idna<4,>=2.5 in /usr/local/lib/python3.11/dist-packages (from requests->huggingface_hub==0.19.4) (3.10)\n",
      "Requirement already satisfied: urllib3<3,>=1.21.1 in /usr/local/lib/python3.11/dist-packages (from requests->huggingface_hub==0.19.4) (2.3.0)\n",
      "Requirement already satisfied: certifi>=2017.4.17 in /usr/local/lib/python3.11/dist-packages (from requests->huggingface_hub==0.19.4) (2025.1.31)\n",
      "Downloading huggingface_hub-0.19.4-py3-none-any.whl (311 kB)\n",
      "\u001b[2K   \u001b[90m━━━━━━━━━━━━━━━━━━━━━━━━━━━━━━━━━━━━━━━━\u001b[0m \u001b[32m311.7/311.7 kB\u001b[0m \u001b[31m8.7 MB/s\u001b[0m eta \u001b[36m0:00:00\u001b[0m:00:01\u001b[0m\n",
      "\u001b[?25hInstalling collected packages: huggingface_hub\n",
      "  Attempting uninstall: huggingface_hub\n",
      "    Found existing installation: huggingface-hub 0.30.2\n",
      "    Uninstalling huggingface-hub-0.30.2:\n",
      "      Successfully uninstalled huggingface-hub-0.30.2\n",
      "\u001b[31mERROR: pip's dependency resolver does not currently take into account all the packages that are installed. This behaviour is the source of the following dependency conflicts.\n",
      "datasets 3.5.0 requires huggingface-hub>=0.24.0, but you have huggingface-hub 0.19.4 which is incompatible.\n",
      "transformers 4.51.1 requires huggingface-hub<1.0,>=0.30.0, but you have huggingface-hub 0.19.4 which is incompatible.\n",
      "diffusers 0.32.2 requires huggingface-hub>=0.23.2, but you have huggingface-hub 0.19.4 which is incompatible.\n",
      "sentence-transformers 3.4.1 requires huggingface-hub>=0.20.0, but you have huggingface-hub 0.19.4 which is incompatible.\n",
      "accelerate 1.3.0 requires huggingface-hub>=0.21.0, but you have huggingface-hub 0.19.4 which is incompatible.\n",
      "peft 0.14.0 requires huggingface-hub>=0.25.0, but you have huggingface-hub 0.19.4 which is incompatible.\u001b[0m\u001b[31m\n",
      "\u001b[0mSuccessfully installed huggingface_hub-0.19.4\n",
      "Collecting transformers==4.30.2\n",
      "  Downloading transformers-4.30.2-py3-none-any.whl.metadata (113 kB)\n",
      "\u001b[2K     \u001b[90m━━━━━━━━━━━━━━━━━━━━━━━━━━━━━━━━━━━━━━━━\u001b[0m \u001b[32m113.6/113.6 kB\u001b[0m \u001b[31m4.2 MB/s\u001b[0m eta \u001b[36m0:00:00\u001b[0m\n",
      "\u001b[?25hRequirement already satisfied: filelock in /usr/local/lib/python3.11/dist-packages (from transformers==4.30.2) (3.18.0)\n",
      "Requirement already satisfied: huggingface-hub<1.0,>=0.14.1 in /usr/local/lib/python3.11/dist-packages (from transformers==4.30.2) (0.19.4)\n",
      "Requirement already satisfied: numpy>=1.17 in /usr/local/lib/python3.11/dist-packages (from transformers==4.30.2) (1.26.4)\n",
      "Requirement already satisfied: packaging>=20.0 in /usr/local/lib/python3.11/dist-packages (from transformers==4.30.2) (24.2)\n",
      "Requirement already satisfied: pyyaml>=5.1 in /usr/local/lib/python3.11/dist-packages (from transformers==4.30.2) (6.0.2)\n",
      "Requirement already satisfied: regex!=2019.12.17 in /usr/local/lib/python3.11/dist-packages (from transformers==4.30.2) (2024.11.6)\n",
      "Requirement already satisfied: requests in /usr/local/lib/python3.11/dist-packages (from transformers==4.30.2) (2.32.3)\n",
      "Collecting tokenizers!=0.11.3,<0.14,>=0.11.1 (from transformers==4.30.2)\n",
      "  Downloading tokenizers-0.13.3-cp311-cp311-manylinux_2_17_x86_64.manylinux2014_x86_64.whl.metadata (6.7 kB)\n",
      "Requirement already satisfied: safetensors>=0.3.1 in /usr/local/lib/python3.11/dist-packages (from transformers==4.30.2) (0.5.2)\n",
      "Requirement already satisfied: tqdm>=4.27 in /usr/local/lib/python3.11/dist-packages (from transformers==4.30.2) (4.67.1)\n",
      "Requirement already satisfied: fsspec>=2023.5.0 in /usr/local/lib/python3.11/dist-packages (from huggingface-hub<1.0,>=0.14.1->transformers==4.30.2) (2024.12.0)\n",
      "Requirement already satisfied: typing-extensions>=3.7.4.3 in /usr/local/lib/python3.11/dist-packages (from huggingface-hub<1.0,>=0.14.1->transformers==4.30.2) (4.13.1)\n",
      "Requirement already satisfied: mkl_fft in /usr/local/lib/python3.11/dist-packages (from numpy>=1.17->transformers==4.30.2) (1.3.8)\n",
      "Requirement already satisfied: mkl_random in /usr/local/lib/python3.11/dist-packages (from numpy>=1.17->transformers==4.30.2) (1.2.4)\n",
      "Requirement already satisfied: mkl_umath in /usr/local/lib/python3.11/dist-packages (from numpy>=1.17->transformers==4.30.2) (0.1.1)\n",
      "Requirement already satisfied: mkl in /usr/local/lib/python3.11/dist-packages (from numpy>=1.17->transformers==4.30.2) (2025.1.0)\n",
      "Requirement already satisfied: tbb4py in /usr/local/lib/python3.11/dist-packages (from numpy>=1.17->transformers==4.30.2) (2022.1.0)\n",
      "Requirement already satisfied: mkl-service in /usr/local/lib/python3.11/dist-packages (from numpy>=1.17->transformers==4.30.2) (2.4.1)\n",
      "Requirement already satisfied: charset-normalizer<4,>=2 in /usr/local/lib/python3.11/dist-packages (from requests->transformers==4.30.2) (3.4.1)\n",
      "Requirement already satisfied: idna<4,>=2.5 in /usr/local/lib/python3.11/dist-packages (from requests->transformers==4.30.2) (3.10)\n",
      "Requirement already satisfied: urllib3<3,>=1.21.1 in /usr/local/lib/python3.11/dist-packages (from requests->transformers==4.30.2) (2.3.0)\n",
      "Requirement already satisfied: certifi>=2017.4.17 in /usr/local/lib/python3.11/dist-packages (from requests->transformers==4.30.2) (2025.1.31)\n",
      "Requirement already satisfied: intel-openmp<2026,>=2024 in /usr/local/lib/python3.11/dist-packages (from mkl->numpy>=1.17->transformers==4.30.2) (2024.2.0)\n",
      "Requirement already satisfied: tbb==2022.* in /usr/local/lib/python3.11/dist-packages (from mkl->numpy>=1.17->transformers==4.30.2) (2022.1.0)\n",
      "Requirement already satisfied: tcmlib==1.* in /usr/local/lib/python3.11/dist-packages (from tbb==2022.*->mkl->numpy>=1.17->transformers==4.30.2) (1.2.0)\n",
      "Requirement already satisfied: intel-cmplr-lib-rt in /usr/local/lib/python3.11/dist-packages (from mkl_umath->numpy>=1.17->transformers==4.30.2) (2024.2.0)\n",
      "Requirement already satisfied: intel-cmplr-lib-ur==2024.2.0 in /usr/local/lib/python3.11/dist-packages (from intel-openmp<2026,>=2024->mkl->numpy>=1.17->transformers==4.30.2) (2024.2.0)\n",
      "Downloading transformers-4.30.2-py3-none-any.whl (7.2 MB)\n",
      "\u001b[2K   \u001b[90m━━━━━━━━━━━━━━━━━━━━━━━━━━━━━━━━━━━━━━━━\u001b[0m \u001b[32m7.2/7.2 MB\u001b[0m \u001b[31m81.3 MB/s\u001b[0m eta \u001b[36m0:00:00\u001b[0m:00:01\u001b[0m0:01\u001b[0m\n",
      "\u001b[?25hDownloading tokenizers-0.13.3-cp311-cp311-manylinux_2_17_x86_64.manylinux2014_x86_64.whl (7.8 MB)\n",
      "\u001b[2K   \u001b[90m━━━━━━━━━━━━━━━━━━━━━━━━━━━━━━━━━━━━━━━━\u001b[0m \u001b[32m7.8/7.8 MB\u001b[0m \u001b[31m110.6 MB/s\u001b[0m eta \u001b[36m0:00:00\u001b[0m00:01\u001b[0m\n",
      "\u001b[?25hInstalling collected packages: tokenizers, transformers\n",
      "  Attempting uninstall: tokenizers\n",
      "    Found existing installation: tokenizers 0.21.0\n",
      "    Uninstalling tokenizers-0.21.0:\n",
      "      Successfully uninstalled tokenizers-0.21.0\n",
      "  Attempting uninstall: transformers\n",
      "    Found existing installation: transformers 4.51.1\n",
      "    Uninstalling transformers-4.51.1:\n",
      "      Successfully uninstalled transformers-4.51.1\n",
      "\u001b[31mERROR: pip's dependency resolver does not currently take into account all the packages that are installed. This behaviour is the source of the following dependency conflicts.\n",
      "kaggle-environments 1.16.11 requires transformers>=4.33.1, but you have transformers 4.30.2 which is incompatible.\n",
      "sentence-transformers 3.4.1 requires huggingface-hub>=0.20.0, but you have huggingface-hub 0.19.4 which is incompatible.\n",
      "sentence-transformers 3.4.1 requires transformers<5.0.0,>=4.41.0, but you have transformers 4.30.2 which is incompatible.\n",
      "peft 0.14.0 requires huggingface-hub>=0.25.0, but you have huggingface-hub 0.19.4 which is incompatible.\u001b[0m\u001b[31m\n",
      "\u001b[0mSuccessfully installed tokenizers-0.13.3 transformers-4.30.2\n",
      "Collecting datasets==2.14.5\n",
      "  Downloading datasets-2.14.5-py3-none-any.whl.metadata (19 kB)\n",
      "Requirement already satisfied: numpy>=1.17 in /usr/local/lib/python3.11/dist-packages (from datasets==2.14.5) (1.26.4)\n",
      "Requirement already satisfied: pyarrow>=8.0.0 in /usr/local/lib/python3.11/dist-packages (from datasets==2.14.5) (19.0.1)\n",
      "Collecting dill<0.3.8,>=0.3.0 (from datasets==2.14.5)\n",
      "  Downloading dill-0.3.7-py3-none-any.whl.metadata (9.9 kB)\n",
      "Requirement already satisfied: pandas in /usr/local/lib/python3.11/dist-packages (from datasets==2.14.5) (2.2.3)\n",
      "Requirement already satisfied: requests>=2.19.0 in /usr/local/lib/python3.11/dist-packages (from datasets==2.14.5) (2.32.3)\n",
      "Requirement already satisfied: tqdm>=4.62.1 in /usr/local/lib/python3.11/dist-packages (from datasets==2.14.5) (4.67.1)\n",
      "Requirement already satisfied: xxhash in /usr/local/lib/python3.11/dist-packages (from datasets==2.14.5) (3.5.0)\n",
      "Requirement already satisfied: multiprocess in /usr/local/lib/python3.11/dist-packages (from datasets==2.14.5) (0.70.16)\n",
      "Collecting fsspec<2023.9.0,>=2023.1.0 (from fsspec[http]<2023.9.0,>=2023.1.0->datasets==2.14.5)\n",
      "  Downloading fsspec-2023.6.0-py3-none-any.whl.metadata (6.7 kB)\n",
      "Requirement already satisfied: aiohttp in /usr/local/lib/python3.11/dist-packages (from datasets==2.14.5) (3.11.16)\n",
      "Requirement already satisfied: huggingface-hub<1.0.0,>=0.14.0 in /usr/local/lib/python3.11/dist-packages (from datasets==2.14.5) (0.19.4)\n",
      "Requirement already satisfied: packaging in /usr/local/lib/python3.11/dist-packages (from datasets==2.14.5) (24.2)\n",
      "Requirement already satisfied: pyyaml>=5.1 in /usr/local/lib/python3.11/dist-packages (from datasets==2.14.5) (6.0.2)\n",
      "Requirement already satisfied: aiohappyeyeballs>=2.3.0 in /usr/local/lib/python3.11/dist-packages (from aiohttp->datasets==2.14.5) (2.6.1)\n",
      "Requirement already satisfied: aiosignal>=1.1.2 in /usr/local/lib/python3.11/dist-packages (from aiohttp->datasets==2.14.5) (1.3.2)\n",
      "Requirement already satisfied: attrs>=17.3.0 in /usr/local/lib/python3.11/dist-packages (from aiohttp->datasets==2.14.5) (25.3.0)\n",
      "Requirement already satisfied: frozenlist>=1.1.1 in /usr/local/lib/python3.11/dist-packages (from aiohttp->datasets==2.14.5) (1.5.0)\n",
      "Requirement already satisfied: multidict<7.0,>=4.5 in /usr/local/lib/python3.11/dist-packages (from aiohttp->datasets==2.14.5) (6.2.0)\n",
      "Requirement already satisfied: propcache>=0.2.0 in /usr/local/lib/python3.11/dist-packages (from aiohttp->datasets==2.14.5) (0.3.1)\n",
      "Requirement already satisfied: yarl<2.0,>=1.17.0 in /usr/local/lib/python3.11/dist-packages (from aiohttp->datasets==2.14.5) (1.19.0)\n",
      "Requirement already satisfied: filelock in /usr/local/lib/python3.11/dist-packages (from huggingface-hub<1.0.0,>=0.14.0->datasets==2.14.5) (3.18.0)\n",
      "Requirement already satisfied: typing-extensions>=3.7.4.3 in /usr/local/lib/python3.11/dist-packages (from huggingface-hub<1.0.0,>=0.14.0->datasets==2.14.5) (4.13.1)\n",
      "Requirement already satisfied: mkl_fft in /usr/local/lib/python3.11/dist-packages (from numpy>=1.17->datasets==2.14.5) (1.3.8)\n",
      "Requirement already satisfied: mkl_random in /usr/local/lib/python3.11/dist-packages (from numpy>=1.17->datasets==2.14.5) (1.2.4)\n",
      "Requirement already satisfied: mkl_umath in /usr/local/lib/python3.11/dist-packages (from numpy>=1.17->datasets==2.14.5) (0.1.1)\n",
      "Requirement already satisfied: mkl in /usr/local/lib/python3.11/dist-packages (from numpy>=1.17->datasets==2.14.5) (2025.1.0)\n",
      "Requirement already satisfied: tbb4py in /usr/local/lib/python3.11/dist-packages (from numpy>=1.17->datasets==2.14.5) (2022.1.0)\n",
      "Requirement already satisfied: mkl-service in /usr/local/lib/python3.11/dist-packages (from numpy>=1.17->datasets==2.14.5) (2.4.1)\n",
      "Requirement already satisfied: charset-normalizer<4,>=2 in /usr/local/lib/python3.11/dist-packages (from requests>=2.19.0->datasets==2.14.5) (3.4.1)\n",
      "Requirement already satisfied: idna<4,>=2.5 in /usr/local/lib/python3.11/dist-packages (from requests>=2.19.0->datasets==2.14.5) (3.10)\n",
      "Requirement already satisfied: urllib3<3,>=1.21.1 in /usr/local/lib/python3.11/dist-packages (from requests>=2.19.0->datasets==2.14.5) (2.3.0)\n",
      "Requirement already satisfied: certifi>=2017.4.17 in /usr/local/lib/python3.11/dist-packages (from requests>=2.19.0->datasets==2.14.5) (2025.1.31)\n",
      "INFO: pip is looking at multiple versions of multiprocess to determine which version is compatible with other requirements. This could take a while.\n",
      "Collecting multiprocess (from datasets==2.14.5)\n",
      "  Downloading multiprocess-0.70.18-py311-none-any.whl.metadata (7.5 kB)\n",
      "  Downloading multiprocess-0.70.17-py311-none-any.whl.metadata (7.2 kB)\n",
      "  Downloading multiprocess-0.70.15-py311-none-any.whl.metadata (7.2 kB)\n",
      "Requirement already satisfied: python-dateutil>=2.8.2 in /usr/local/lib/python3.11/dist-packages (from pandas->datasets==2.14.5) (2.9.0.post0)\n",
      "Requirement already satisfied: pytz>=2020.1 in /usr/local/lib/python3.11/dist-packages (from pandas->datasets==2.14.5) (2025.2)\n",
      "Requirement already satisfied: tzdata>=2022.7 in /usr/local/lib/python3.11/dist-packages (from pandas->datasets==2.14.5) (2025.2)\n",
      "Requirement already satisfied: six>=1.5 in /usr/local/lib/python3.11/dist-packages (from python-dateutil>=2.8.2->pandas->datasets==2.14.5) (1.17.0)\n",
      "Requirement already satisfied: intel-openmp<2026,>=2024 in /usr/local/lib/python3.11/dist-packages (from mkl->numpy>=1.17->datasets==2.14.5) (2024.2.0)\n",
      "Requirement already satisfied: tbb==2022.* in /usr/local/lib/python3.11/dist-packages (from mkl->numpy>=1.17->datasets==2.14.5) (2022.1.0)\n",
      "Requirement already satisfied: tcmlib==1.* in /usr/local/lib/python3.11/dist-packages (from tbb==2022.*->mkl->numpy>=1.17->datasets==2.14.5) (1.2.0)\n",
      "Requirement already satisfied: intel-cmplr-lib-rt in /usr/local/lib/python3.11/dist-packages (from mkl_umath->numpy>=1.17->datasets==2.14.5) (2024.2.0)\n",
      "Requirement already satisfied: intel-cmplr-lib-ur==2024.2.0 in /usr/local/lib/python3.11/dist-packages (from intel-openmp<2026,>=2024->mkl->numpy>=1.17->datasets==2.14.5) (2024.2.0)\n",
      "Downloading datasets-2.14.5-py3-none-any.whl (519 kB)\n",
      "\u001b[2K   \u001b[90m━━━━━━━━━━━━━━━━━━━━━━━━━━━━━━━━━━━━━━━━\u001b[0m \u001b[32m519.6/519.6 kB\u001b[0m \u001b[31m13.4 MB/s\u001b[0m eta \u001b[36m0:00:00\u001b[0m00:01\u001b[0m\n",
      "\u001b[?25hDownloading dill-0.3.7-py3-none-any.whl (115 kB)\n",
      "\u001b[2K   \u001b[90m━━━━━━━━━━━━━━━━━━━━━━━━━━━━━━━━━━━━━━━━\u001b[0m \u001b[32m115.3/115.3 kB\u001b[0m \u001b[31m6.2 MB/s\u001b[0m eta \u001b[36m0:00:00\u001b[0m\n",
      "\u001b[?25hDownloading fsspec-2023.6.0-py3-none-any.whl (163 kB)\n",
      "\u001b[2K   \u001b[90m━━━━━━━━━━━━━━━━━━━━━━━━━━━━━━━━━━━━━━━━\u001b[0m \u001b[32m163.8/163.8 kB\u001b[0m \u001b[31m12.0 MB/s\u001b[0m eta \u001b[36m0:00:00\u001b[0m\n",
      "\u001b[?25hDownloading multiprocess-0.70.15-py311-none-any.whl (135 kB)\n",
      "\u001b[2K   \u001b[90m━━━━━━━━━━━━━━━━━━━━━━━━━━━━━━━━━━━━━━━━\u001b[0m \u001b[32m135.4/135.4 kB\u001b[0m \u001b[31m10.1 MB/s\u001b[0m eta \u001b[36m0:00:00\u001b[0m\n",
      "\u001b[?25hInstalling collected packages: fsspec, dill, multiprocess, datasets\n",
      "  Attempting uninstall: fsspec\n",
      "    Found existing installation: fsspec 2024.12.0\n",
      "    Uninstalling fsspec-2024.12.0:\n",
      "      Successfully uninstalled fsspec-2024.12.0\n",
      "  Attempting uninstall: dill\n",
      "    Found existing installation: dill 0.3.8\n",
      "    Uninstalling dill-0.3.8:\n",
      "      Successfully uninstalled dill-0.3.8\n",
      "  Attempting uninstall: multiprocess\n",
      "    Found existing installation: multiprocess 0.70.16\n",
      "    Uninstalling multiprocess-0.70.16:\n",
      "      Successfully uninstalled multiprocess-0.70.16\n",
      "  Attempting uninstall: datasets\n",
      "    Found existing installation: datasets 3.5.0\n",
      "    Uninstalling datasets-3.5.0:\n",
      "      Successfully uninstalled datasets-3.5.0\n",
      "\u001b[31mERROR: pip's dependency resolver does not currently take into account all the packages that are installed. This behaviour is the source of the following dependency conflicts.\n",
      "pathos 0.3.2 requires dill>=0.3.8, but you have dill 0.3.7 which is incompatible.\n",
      "pathos 0.3.2 requires multiprocess>=0.70.16, but you have multiprocess 0.70.15 which is incompatible.\n",
      "kaggle-environments 1.16.11 requires transformers>=4.33.1, but you have transformers 4.30.2 which is incompatible.\n",
      "diffusers 0.32.2 requires huggingface-hub>=0.23.2, but you have huggingface-hub 0.19.4 which is incompatible.\n",
      "sentence-transformers 3.4.1 requires huggingface-hub>=0.20.0, but you have huggingface-hub 0.19.4 which is incompatible.\n",
      "sentence-transformers 3.4.1 requires transformers<5.0.0,>=4.41.0, but you have transformers 4.30.2 which is incompatible.\n",
      "accelerate 1.3.0 requires huggingface-hub>=0.21.0, but you have huggingface-hub 0.19.4 which is incompatible.\n",
      "gcsfs 2024.10.0 requires fsspec==2024.10.0, but you have fsspec 2023.6.0 which is incompatible.\n",
      "torch 2.5.1+cu124 requires nvidia-cublas-cu12==12.4.5.8; platform_system == \"Linux\" and platform_machine == \"x86_64\", but you have nvidia-cublas-cu12 12.8.4.1 which is incompatible.\n",
      "torch 2.5.1+cu124 requires nvidia-cudnn-cu12==9.1.0.70; platform_system == \"Linux\" and platform_machine == \"x86_64\", but you have nvidia-cudnn-cu12 9.3.0.75 which is incompatible.\n",
      "torch 2.5.1+cu124 requires nvidia-cufft-cu12==11.2.1.3; platform_system == \"Linux\" and platform_machine == \"x86_64\", but you have nvidia-cufft-cu12 11.3.3.83 which is incompatible.\n",
      "torch 2.5.1+cu124 requires nvidia-curand-cu12==10.3.5.147; platform_system == \"Linux\" and platform_machine == \"x86_64\", but you have nvidia-curand-cu12 10.3.9.90 which is incompatible.\n",
      "torch 2.5.1+cu124 requires nvidia-cusolver-cu12==11.6.1.9; platform_system == \"Linux\" and platform_machine == \"x86_64\", but you have nvidia-cusolver-cu12 11.7.3.90 which is incompatible.\n",
      "torch 2.5.1+cu124 requires nvidia-cusparse-cu12==12.3.1.170; platform_system == \"Linux\" and platform_machine == \"x86_64\", but you have nvidia-cusparse-cu12 12.5.8.93 which is incompatible.\n",
      "torch 2.5.1+cu124 requires nvidia-nvjitlink-cu12==12.4.127; platform_system == \"Linux\" and platform_machine == \"x86_64\", but you have nvidia-nvjitlink-cu12 12.8.93 which is incompatible.\n",
      "bigframes 1.36.0 requires rich<14,>=12.4.4, but you have rich 14.0.0 which is incompatible.\n",
      "peft 0.14.0 requires huggingface-hub>=0.25.0, but you have huggingface-hub 0.19.4 which is incompatible.\u001b[0m\u001b[31m\n",
      "\u001b[0mSuccessfully installed datasets-2.14.5 dill-0.3.7 fsspec-2023.6.0 multiprocess-0.70.15\n",
      "Collecting accelerate==0.24.1\n",
      "  Downloading accelerate-0.24.1-py3-none-any.whl.metadata (18 kB)\n",
      "Requirement already satisfied: numpy>=1.17 in /usr/local/lib/python3.11/dist-packages (from accelerate==0.24.1) (1.26.4)\n",
      "Requirement already satisfied: packaging>=20.0 in /usr/local/lib/python3.11/dist-packages (from accelerate==0.24.1) (24.2)\n",
      "Requirement already satisfied: psutil in /usr/local/lib/python3.11/dist-packages (from accelerate==0.24.1) (7.0.0)\n",
      "Requirement already satisfied: pyyaml in /usr/local/lib/python3.11/dist-packages (from accelerate==0.24.1) (6.0.2)\n",
      "Requirement already satisfied: torch>=1.10.0 in /usr/local/lib/python3.11/dist-packages (from accelerate==0.24.1) (2.5.1+cu124)\n",
      "Requirement already satisfied: huggingface-hub in /usr/local/lib/python3.11/dist-packages (from accelerate==0.24.1) (0.19.4)\n",
      "Requirement already satisfied: mkl_fft in /usr/local/lib/python3.11/dist-packages (from numpy>=1.17->accelerate==0.24.1) (1.3.8)\n",
      "Requirement already satisfied: mkl_random in /usr/local/lib/python3.11/dist-packages (from numpy>=1.17->accelerate==0.24.1) (1.2.4)\n",
      "Requirement already satisfied: mkl_umath in /usr/local/lib/python3.11/dist-packages (from numpy>=1.17->accelerate==0.24.1) (0.1.1)\n",
      "Requirement already satisfied: mkl in /usr/local/lib/python3.11/dist-packages (from numpy>=1.17->accelerate==0.24.1) (2025.1.0)\n",
      "Requirement already satisfied: tbb4py in /usr/local/lib/python3.11/dist-packages (from numpy>=1.17->accelerate==0.24.1) (2022.1.0)\n",
      "Requirement already satisfied: mkl-service in /usr/local/lib/python3.11/dist-packages (from numpy>=1.17->accelerate==0.24.1) (2.4.1)\n",
      "Requirement already satisfied: filelock in /usr/local/lib/python3.11/dist-packages (from torch>=1.10.0->accelerate==0.24.1) (3.18.0)\n",
      "Requirement already satisfied: typing-extensions>=4.8.0 in /usr/local/lib/python3.11/dist-packages (from torch>=1.10.0->accelerate==0.24.1) (4.13.1)\n",
      "Requirement already satisfied: networkx in /usr/local/lib/python3.11/dist-packages (from torch>=1.10.0->accelerate==0.24.1) (3.4.2)\n",
      "Requirement already satisfied: jinja2 in /usr/local/lib/python3.11/dist-packages (from torch>=1.10.0->accelerate==0.24.1) (3.1.6)\n",
      "Requirement already satisfied: fsspec in /usr/local/lib/python3.11/dist-packages (from torch>=1.10.0->accelerate==0.24.1) (2023.6.0)\n",
      "Requirement already satisfied: nvidia-cuda-nvrtc-cu12==12.4.127 in /usr/local/lib/python3.11/dist-packages (from torch>=1.10.0->accelerate==0.24.1) (12.4.127)\n",
      "Requirement already satisfied: nvidia-cuda-runtime-cu12==12.4.127 in /usr/local/lib/python3.11/dist-packages (from torch>=1.10.0->accelerate==0.24.1) (12.4.127)\n",
      "Requirement already satisfied: nvidia-cuda-cupti-cu12==12.4.127 in /usr/local/lib/python3.11/dist-packages (from torch>=1.10.0->accelerate==0.24.1) (12.4.127)\n",
      "Collecting nvidia-cudnn-cu12==9.1.0.70 (from torch>=1.10.0->accelerate==0.24.1)\n",
      "  Downloading nvidia_cudnn_cu12-9.1.0.70-py3-none-manylinux2014_x86_64.whl.metadata (1.6 kB)\n",
      "Collecting nvidia-cublas-cu12==12.4.5.8 (from torch>=1.10.0->accelerate==0.24.1)\n",
      "  Downloading nvidia_cublas_cu12-12.4.5.8-py3-none-manylinux2014_x86_64.whl.metadata (1.5 kB)\n",
      "Collecting nvidia-cufft-cu12==11.2.1.3 (from torch>=1.10.0->accelerate==0.24.1)\n",
      "  Downloading nvidia_cufft_cu12-11.2.1.3-py3-none-manylinux2014_x86_64.whl.metadata (1.5 kB)\n",
      "Collecting nvidia-curand-cu12==10.3.5.147 (from torch>=1.10.0->accelerate==0.24.1)\n",
      "  Downloading nvidia_curand_cu12-10.3.5.147-py3-none-manylinux2014_x86_64.whl.metadata (1.5 kB)\n",
      "Collecting nvidia-cusolver-cu12==11.6.1.9 (from torch>=1.10.0->accelerate==0.24.1)\n",
      "  Downloading nvidia_cusolver_cu12-11.6.1.9-py3-none-manylinux2014_x86_64.whl.metadata (1.6 kB)\n",
      "Collecting nvidia-cusparse-cu12==12.3.1.170 (from torch>=1.10.0->accelerate==0.24.1)\n",
      "  Downloading nvidia_cusparse_cu12-12.3.1.170-py3-none-manylinux2014_x86_64.whl.metadata (1.6 kB)\n",
      "Requirement already satisfied: nvidia-nccl-cu12==2.21.5 in /usr/local/lib/python3.11/dist-packages (from torch>=1.10.0->accelerate==0.24.1) (2.21.5)\n",
      "Requirement already satisfied: nvidia-nvtx-cu12==12.4.127 in /usr/local/lib/python3.11/dist-packages (from torch>=1.10.0->accelerate==0.24.1) (12.4.127)\n",
      "Collecting nvidia-nvjitlink-cu12==12.4.127 (from torch>=1.10.0->accelerate==0.24.1)\n",
      "  Downloading nvidia_nvjitlink_cu12-12.4.127-py3-none-manylinux2014_x86_64.whl.metadata (1.5 kB)\n",
      "Requirement already satisfied: triton==3.1.0 in /usr/local/lib/python3.11/dist-packages (from torch>=1.10.0->accelerate==0.24.1) (3.1.0)\n",
      "Requirement already satisfied: sympy==1.13.1 in /usr/local/lib/python3.11/dist-packages (from torch>=1.10.0->accelerate==0.24.1) (1.13.1)\n",
      "Requirement already satisfied: mpmath<1.4,>=1.1.0 in /usr/local/lib/python3.11/dist-packages (from sympy==1.13.1->torch>=1.10.0->accelerate==0.24.1) (1.3.0)\n",
      "Requirement already satisfied: requests in /usr/local/lib/python3.11/dist-packages (from huggingface-hub->accelerate==0.24.1) (2.32.3)\n",
      "Requirement already satisfied: tqdm>=4.42.1 in /usr/local/lib/python3.11/dist-packages (from huggingface-hub->accelerate==0.24.1) (4.67.1)\n",
      "Requirement already satisfied: MarkupSafe>=2.0 in /usr/local/lib/python3.11/dist-packages (from jinja2->torch>=1.10.0->accelerate==0.24.1) (3.0.2)\n",
      "Requirement already satisfied: intel-openmp<2026,>=2024 in /usr/local/lib/python3.11/dist-packages (from mkl->numpy>=1.17->accelerate==0.24.1) (2024.2.0)\n",
      "Requirement already satisfied: tbb==2022.* in /usr/local/lib/python3.11/dist-packages (from mkl->numpy>=1.17->accelerate==0.24.1) (2022.1.0)\n",
      "Requirement already satisfied: tcmlib==1.* in /usr/local/lib/python3.11/dist-packages (from tbb==2022.*->mkl->numpy>=1.17->accelerate==0.24.1) (1.2.0)\n",
      "Requirement already satisfied: intel-cmplr-lib-rt in /usr/local/lib/python3.11/dist-packages (from mkl_umath->numpy>=1.17->accelerate==0.24.1) (2024.2.0)\n",
      "Requirement already satisfied: charset-normalizer<4,>=2 in /usr/local/lib/python3.11/dist-packages (from requests->huggingface-hub->accelerate==0.24.1) (3.4.1)\n",
      "Requirement already satisfied: idna<4,>=2.5 in /usr/local/lib/python3.11/dist-packages (from requests->huggingface-hub->accelerate==0.24.1) (3.10)\n",
      "Requirement already satisfied: urllib3<3,>=1.21.1 in /usr/local/lib/python3.11/dist-packages (from requests->huggingface-hub->accelerate==0.24.1) (2.3.0)\n",
      "Requirement already satisfied: certifi>=2017.4.17 in /usr/local/lib/python3.11/dist-packages (from requests->huggingface-hub->accelerate==0.24.1) (2025.1.31)\n",
      "Requirement already satisfied: intel-cmplr-lib-ur==2024.2.0 in /usr/local/lib/python3.11/dist-packages (from intel-openmp<2026,>=2024->mkl->numpy>=1.17->accelerate==0.24.1) (2024.2.0)\n",
      "Downloading accelerate-0.24.1-py3-none-any.whl (261 kB)\n",
      "\u001b[2K   \u001b[90m━━━━━━━━━━━━━━━━━━━━━━━━━━━━━━━━━━━━━━━━\u001b[0m \u001b[32m261.4/261.4 kB\u001b[0m \u001b[31m9.2 MB/s\u001b[0m eta \u001b[36m0:00:00\u001b[0m\n",
      "\u001b[?25hDownloading nvidia_cublas_cu12-12.4.5.8-py3-none-manylinux2014_x86_64.whl (363.4 MB)\n",
      "\u001b[2K   \u001b[90m━━━━━━━━━━━━━━━━━━━━━━━━━━━━━━━━━━━━━━━━\u001b[0m \u001b[32m363.4/363.4 MB\u001b[0m \u001b[31m4.2 MB/s\u001b[0m eta \u001b[36m0:00:00\u001b[0m0:00:01\u001b[0m00:01\u001b[0m\n",
      "\u001b[?25hDownloading nvidia_cudnn_cu12-9.1.0.70-py3-none-manylinux2014_x86_64.whl (664.8 MB)\n",
      "\u001b[2K   \u001b[90m━━━━━━━━━━━━━━━━━━━━━━━━━━━━━━━━━━━━━━━━\u001b[0m \u001b[32m664.8/664.8 MB\u001b[0m \u001b[31m2.1 MB/s\u001b[0m eta \u001b[36m0:00:00\u001b[0m0:00:01\u001b[0m00:01\u001b[0m\n",
      "\u001b[?25hDownloading nvidia_cufft_cu12-11.2.1.3-py3-none-manylinux2014_x86_64.whl (211.5 MB)\n",
      "\u001b[2K   \u001b[90m━━━━━━━━━━━━━━━━━━━━━━━━━━━━━━━━━━━━━━━━\u001b[0m \u001b[32m211.5/211.5 MB\u001b[0m \u001b[31m6.9 MB/s\u001b[0m eta \u001b[36m0:00:00\u001b[0m0:00:01\u001b[0m00:01\u001b[0m\n",
      "\u001b[?25hDownloading nvidia_curand_cu12-10.3.5.147-py3-none-manylinux2014_x86_64.whl (56.3 MB)\n",
      "\u001b[2K   \u001b[90m━━━━━━━━━━━━━━━━━━━━━━━━━━━━━━━━━━━━━━━━\u001b[0m \u001b[32m56.3/56.3 MB\u001b[0m \u001b[31m28.6 MB/s\u001b[0m eta \u001b[36m0:00:00\u001b[0m:00:01\u001b[0m00:01\u001b[0m\n",
      "\u001b[?25hDownloading nvidia_cusolver_cu12-11.6.1.9-py3-none-manylinux2014_x86_64.whl (127.9 MB)\n",
      "\u001b[2K   \u001b[90m━━━━━━━━━━━━━━━━━━━━━━━━━━━━━━━━━━━━━━━━\u001b[0m \u001b[32m127.9/127.9 MB\u001b[0m \u001b[31m9.8 MB/s\u001b[0m eta \u001b[36m0:00:00\u001b[0m0:00:01\u001b[0m00:01\u001b[0m\n",
      "\u001b[?25hDownloading nvidia_cusparse_cu12-12.3.1.170-py3-none-manylinux2014_x86_64.whl (207.5 MB)\n",
      "\u001b[2K   \u001b[90m━━━━━━━━━━━━━━━━━━━━━━━━━━━━━━━━━━━━━━━━\u001b[0m \u001b[32m207.5/207.5 MB\u001b[0m \u001b[31m3.0 MB/s\u001b[0m eta \u001b[36m0:00:00\u001b[0m0:00:01\u001b[0m00:01\u001b[0m\n",
      "\u001b[?25hDownloading nvidia_nvjitlink_cu12-12.4.127-py3-none-manylinux2014_x86_64.whl (21.1 MB)\n",
      "\u001b[2K   \u001b[90m━━━━━━━━━━━━━━━━━━━━━━━━━━━━━━━━━━━━━━━━\u001b[0m \u001b[32m21.1/21.1 MB\u001b[0m \u001b[31m80.9 MB/s\u001b[0m eta \u001b[36m0:00:00\u001b[0m:00:01\u001b[0m00:01\u001b[0m\n",
      "\u001b[?25hInstalling collected packages: nvidia-nvjitlink-cu12, nvidia-curand-cu12, nvidia-cufft-cu12, nvidia-cublas-cu12, nvidia-cusparse-cu12, nvidia-cudnn-cu12, nvidia-cusolver-cu12, accelerate\n",
      "  Attempting uninstall: nvidia-nvjitlink-cu12\n",
      "    Found existing installation: nvidia-nvjitlink-cu12 12.8.93\n",
      "    Uninstalling nvidia-nvjitlink-cu12-12.8.93:\n",
      "      Successfully uninstalled nvidia-nvjitlink-cu12-12.8.93\n",
      "  Attempting uninstall: nvidia-curand-cu12\n",
      "    Found existing installation: nvidia-curand-cu12 10.3.9.90\n",
      "    Uninstalling nvidia-curand-cu12-10.3.9.90:\n",
      "      Successfully uninstalled nvidia-curand-cu12-10.3.9.90\n",
      "  Attempting uninstall: nvidia-cufft-cu12\n",
      "    Found existing installation: nvidia-cufft-cu12 11.3.3.83\n",
      "    Uninstalling nvidia-cufft-cu12-11.3.3.83:\n",
      "      Successfully uninstalled nvidia-cufft-cu12-11.3.3.83\n",
      "  Attempting uninstall: nvidia-cublas-cu12\n",
      "    Found existing installation: nvidia-cublas-cu12 12.8.4.1\n",
      "    Uninstalling nvidia-cublas-cu12-12.8.4.1:\n",
      "      Successfully uninstalled nvidia-cublas-cu12-12.8.4.1\n",
      "  Attempting uninstall: nvidia-cusparse-cu12\n",
      "    Found existing installation: nvidia-cusparse-cu12 12.5.8.93\n",
      "    Uninstalling nvidia-cusparse-cu12-12.5.8.93:\n",
      "      Successfully uninstalled nvidia-cusparse-cu12-12.5.8.93\n",
      "  Attempting uninstall: nvidia-cudnn-cu12\n",
      "    Found existing installation: nvidia-cudnn-cu12 9.3.0.75\n",
      "    Uninstalling nvidia-cudnn-cu12-9.3.0.75:\n",
      "      Successfully uninstalled nvidia-cudnn-cu12-9.3.0.75\n",
      "  Attempting uninstall: nvidia-cusolver-cu12\n",
      "    Found existing installation: nvidia-cusolver-cu12 11.7.3.90\n",
      "    Uninstalling nvidia-cusolver-cu12-11.7.3.90:\n",
      "      Successfully uninstalled nvidia-cusolver-cu12-11.7.3.90\n",
      "  Attempting uninstall: accelerate\n",
      "    Found existing installation: accelerate 1.3.0\n",
      "    Uninstalling accelerate-1.3.0:\n",
      "      Successfully uninstalled accelerate-1.3.0\n",
      "\u001b[31mERROR: pip's dependency resolver does not currently take into account all the packages that are installed. This behaviour is the source of the following dependency conflicts.\n",
      "peft 0.14.0 requires huggingface-hub>=0.25.0, but you have huggingface-hub 0.19.4 which is incompatible.\n",
      "pylibcugraph-cu12 24.12.0 requires pylibraft-cu12==24.12.*, but you have pylibraft-cu12 25.2.0 which is incompatible.\n",
      "pylibcugraph-cu12 24.12.0 requires rmm-cu12==24.12.*, but you have rmm-cu12 25.2.0 which is incompatible.\u001b[0m\u001b[31m\n",
      "\u001b[0mSuccessfully installed accelerate-0.24.1 nvidia-cublas-cu12-12.4.5.8 nvidia-cudnn-cu12-9.1.0.70 nvidia-cufft-cu12-11.2.1.3 nvidia-curand-cu12-10.3.5.147 nvidia-cusolver-cu12-11.6.1.9 nvidia-cusparse-cu12-12.3.1.170 nvidia-nvjitlink-cu12-12.4.127\n"
     ]
    }
   ],
   "source": [
    "!pip install huggingface_hub==0.19.4\n",
    "!pip install transformers==4.30.2\n",
    "!pip install datasets==2.14.5\n",
    "!pip install accelerate==0.24.1"
   ]
  },
  {
   "cell_type": "code",
   "execution_count": 3,
   "metadata": {
    "execution": {
     "iopub.execute_input": "2025-04-26T20:01:47.730589Z",
     "iopub.status.busy": "2025-04-26T20:01:47.729871Z",
     "iopub.status.idle": "2025-04-26T20:01:59.779362Z",
     "shell.execute_reply": "2025-04-26T20:01:59.778511Z",
     "shell.execute_reply.started": "2025-04-26T20:01:47.730555Z"
    }
   },
   "outputs": [
    {
     "name": "stdout",
     "output_type": "stream",
     "text": [
      "0.19.4\n",
      "4.30.2\n",
      "2.14.5\n",
      "0.24.1\n"
     ]
    }
   ],
   "source": [
    "import huggingface_hub, transformers, datasets, accelerate\n",
    "print(huggingface_hub.__version__)   # 0.19.4\n",
    "print(transformers.__version__)      # 4.30.2\n",
    "print(datasets.__version__)          # 2.14.5\n",
    "print(accelerate.__version__)        # 0.24.1\n"
   ]
  },
  {
   "cell_type": "markdown",
   "metadata": {},
   "source": [
    "### Loading the Datasets and Combined the datasets of the Billsum and MultiNews"
   ]
  },
  {
   "cell_type": "code",
   "execution_count": 9,
   "metadata": {
    "execution": {
     "iopub.execute_input": "2025-04-26T20:02:56.937244Z",
     "iopub.status.busy": "2025-04-26T20:02:56.936673Z",
     "iopub.status.idle": "2025-04-26T20:03:02.007177Z",
     "shell.execute_reply": "2025-04-26T20:03:02.006486Z",
     "shell.execute_reply.started": "2025-04-26T20:02:56.937222Z"
    }
   },
   "outputs": [],
   "source": [
    "from datasets import load_dataset, concatenate_datasets, DatasetDict\n",
    "from datasets import Dataset\n",
    "import random\n",
    "\n",
    "billsum_train = load_dataset(\"billsum\", split=\"train\")\n",
    "billsum_test = load_dataset(\"billsum\", split=\"test\")\n",
    "\n",
    "multinews_train = load_dataset(\"multi_news\", split=\"train\")\n",
    "multinews_val = load_dataset(\"multi_news\", split=\"validation\")\n",
    "multinews_test = load_dataset(\"multi_news\", split=\"test\")\n",
    "\n",
    "billsum_all = concatenate_datasets([billsum_train, billsum_test])\n",
    "multinews_all = concatenate_datasets([multinews_train, multinews_val, multinews_test])"
   ]
  },
  {
   "cell_type": "code",
   "execution_count": 10,
   "metadata": {
    "execution": {
     "iopub.execute_input": "2025-04-26T20:03:04.456056Z",
     "iopub.status.busy": "2025-04-26T20:03:04.455319Z",
     "iopub.status.idle": "2025-04-26T20:03:04.463659Z",
     "shell.execute_reply": "2025-04-26T20:03:04.462954Z",
     "shell.execute_reply.started": "2025-04-26T20:03:04.456028Z"
    }
   },
   "outputs": [],
   "source": [
    "billsum_all = billsum_all.rename_columns({\"text\": \"document\"})\n",
    "billsum_all = billsum_all.remove_columns([\"title\"])"
   ]
  },
  {
   "cell_type": "code",
   "execution_count": 11,
   "metadata": {
    "execution": {
     "iopub.execute_input": "2025-04-26T20:03:06.049996Z",
     "iopub.status.busy": "2025-04-26T20:03:06.049723Z",
     "iopub.status.idle": "2025-04-26T20:03:06.066355Z",
     "shell.execute_reply": "2025-04-26T20:03:06.065802Z",
     "shell.execute_reply.started": "2025-04-26T20:03:06.049977Z"
    }
   },
   "outputs": [],
   "source": [
    "def clean_dataset(ds):\n",
    "    ds = ds.filter(lambda x: x[\"document\"] and x[\"summary\"] and x[\"document\"].strip() and x[\"summary\"].strip())\n",
    "    \n",
    "    def clean_example(example):\n",
    "        return {\n",
    "            \"document\": example[\"document\"].strip(),\n",
    "            \"summary\": example[\"summary\"].strip()\n",
    "        }\n",
    "\n",
    "    return ds.map(clean_example)\n",
    "\n",
    "billsum_clean = clean_dataset(billsum_all)\n",
    "multinews_clean = clean_dataset(multinews_all)"
   ]
  },
  {
   "cell_type": "code",
   "execution_count": 12,
   "metadata": {
    "execution": {
     "iopub.execute_input": "2025-04-26T20:03:09.589013Z",
     "iopub.status.busy": "2025-04-26T20:03:09.588181Z",
     "iopub.status.idle": "2025-04-26T20:03:09.655963Z",
     "shell.execute_reply": "2025-04-26T20:03:09.655238Z",
     "shell.execute_reply.started": "2025-04-26T20:03:09.588987Z"
    }
   },
   "outputs": [
    {
     "name": "stdout",
     "output_type": "stream",
     "text": [
      "Train: 62739\n",
      "Validation: 7842\n",
      "Test: 7843\n"
     ]
    }
   ],
   "source": [
    "billsum_clean = clean_dataset(billsum_all)\n",
    "multinews_clean = clean_dataset(multinews_all)\n",
    "\n",
    "\n",
    "combined = concatenate_datasets([billsum_clean, multinews_clean]).shuffle(seed=42)\n",
    "\n",
    "\n",
    "split = combined.train_test_split(test_size=0.2, seed=42)\n",
    "val_test = split[\"test\"].train_test_split(test_size=0.5, seed=42)\n",
    "\n",
    "final_dataset = DatasetDict({\n",
    "    \"train\": split[\"train\"],\n",
    "    \"validation\": val_test[\"train\"],\n",
    "    \"test\": val_test[\"test\"]\n",
    "})\n",
    "\n",
    "\n",
    "print(f\"Train: {len(final_dataset['train'])}\")\n",
    "print(f\"Validation: {len(final_dataset['validation'])}\")\n",
    "print(f\"Test: {len(final_dataset['test'])}\")"
   ]
  },
  {
   "cell_type": "code",
   "execution_count": 13,
   "metadata": {
    "execution": {
     "iopub.execute_input": "2025-04-26T20:03:11.684014Z",
     "iopub.status.busy": "2025-04-26T20:03:11.683744Z",
     "iopub.status.idle": "2025-04-26T20:03:11.688417Z",
     "shell.execute_reply": "2025-04-26T20:03:11.687573Z",
     "shell.execute_reply.started": "2025-04-26T20:03:11.683991Z"
    }
   },
   "outputs": [
    {
     "name": "stdout",
     "output_type": "stream",
     "text": [
      "DatasetDict({\n",
      "    train: Dataset({\n",
      "        features: ['document', 'summary'],\n",
      "        num_rows: 62739\n",
      "    })\n",
      "    validation: Dataset({\n",
      "        features: ['document', 'summary'],\n",
      "        num_rows: 7842\n",
      "    })\n",
      "    test: Dataset({\n",
      "        features: ['document', 'summary'],\n",
      "        num_rows: 7843\n",
      "    })\n",
      "})\n"
     ]
    }
   ],
   "source": [
    "print(final_dataset)"
   ]
  },
  {
   "cell_type": "code",
   "execution_count": 21,
   "metadata": {
    "execution": {
     "iopub.execute_input": "2025-04-26T04:33:45.071749Z",
     "iopub.status.busy": "2025-04-26T04:33:45.071403Z",
     "iopub.status.idle": "2025-04-26T04:34:22.438760Z",
     "shell.execute_reply": "2025-04-26T04:34:22.437639Z",
     "shell.execute_reply.started": "2025-04-26T04:33:45.071722Z"
    }
   },
   "outputs": [
    {
     "data": {
      "application/vnd.jupyter.widget-view+json": {
       "model_id": "0f86abe9f196403fbfcb9c61ced1eb34",
       "version_major": 2,
       "version_minor": 0
      },
      "text/plain": [
       "Creating CSV from Arrow format:   0%|          | 0/63 [00:00<?, ?ba/s]"
      ]
     },
     "metadata": {},
     "output_type": "display_data"
    },
    {
     "data": {
      "application/vnd.jupyter.widget-view+json": {
       "model_id": "4382daa8fe97428ea18a39bc609b3df9",
       "version_major": 2,
       "version_minor": 0
      },
      "text/plain": [
       "Creating CSV from Arrow format:   0%|          | 0/8 [00:00<?, ?ba/s]"
      ]
     },
     "metadata": {},
     "output_type": "display_data"
    },
    {
     "data": {
      "application/vnd.jupyter.widget-view+json": {
       "model_id": "a8647e8e895c407fa0f8f591d5feb021",
       "version_major": 2,
       "version_minor": 0
      },
      "text/plain": [
       "Creating CSV from Arrow format:   0%|          | 0/8 [00:00<?, ?ba/s]"
      ]
     },
     "metadata": {},
     "output_type": "display_data"
    },
    {
     "data": {
      "text/plain": [
       "94890428"
      ]
     },
     "execution_count": 21,
     "metadata": {},
     "output_type": "execute_result"
    }
   ],
   "source": [
    "\n",
    "final_dataset[\"train\"].to_csv(\"/kaggle/working/train_data.csv\", index=False)\n",
    "final_dataset[\"validation\"].to_csv(\"/kaggle/working/val_data.csv\", index=False)\n",
    "final_dataset[\"test\"].to_csv(\"/kaggle/working/test_data.csv\", index=False)\n"
   ]
  },
  {
   "cell_type": "code",
   "execution_count": 14,
   "metadata": {
    "execution": {
     "iopub.execute_input": "2025-04-26T20:03:24.178264Z",
     "iopub.status.busy": "2025-04-26T20:03:24.177717Z",
     "iopub.status.idle": "2025-04-26T20:03:30.923645Z",
     "shell.execute_reply": "2025-04-26T20:03:30.922942Z",
     "shell.execute_reply.started": "2025-04-26T20:03:24.178242Z"
    }
   },
   "outputs": [
    {
     "name": "stdout",
     "output_type": "stream",
     "text": [
      "Train Size: 62739\n",
      "Validation Size: 7842\n",
      "Test Size: 7843\n"
     ]
    }
   ],
   "source": [
    "import pandas as pd\n",
    "import matplotlib.pyplot as plt\n",
    "\n",
    "\n",
    "train_df = pd.DataFrame(final_dataset['train'])\n",
    "val_df = pd.DataFrame(final_dataset['validation'])\n",
    "test_df = pd.DataFrame(final_dataset['test'])\n",
    "\n",
    "\n",
    "print(\"Train Size:\", len(train_df))\n",
    "print(\"Validation Size:\", len(val_df))\n",
    "print(\"Test Size:\", len(test_df))\n",
    "\n"
   ]
  },
  {
   "cell_type": "markdown",
   "metadata": {},
   "source": [
    "### Exploratory Data Analysis "
   ]
  },
  {
   "cell_type": "code",
   "execution_count": 15,
   "metadata": {
    "execution": {
     "iopub.execute_input": "2025-04-26T20:03:32.213188Z",
     "iopub.status.busy": "2025-04-26T20:03:32.212595Z",
     "iopub.status.idle": "2025-04-26T20:03:32.222424Z",
     "shell.execute_reply": "2025-04-26T20:03:32.221422Z",
     "shell.execute_reply.started": "2025-04-26T20:03:32.213165Z"
    }
   },
   "outputs": [
    {
     "name": "stdout",
     "output_type": "stream",
     "text": [
      "\n",
      "Sample Documents and Summaries:\n",
      "\n",
      "Example 1\n",
      "Document: SECTION 1. WATERFRONT BROWNFIELDS GRANT.\n",
      "\n",
      "    Section 104(k) of the Comprehensive Environmental Response, \n",
      "Compensation, and Liability Act of 1980 (42 U.S.C. 9604(k)) is \n",
      "amended--\n",
      "            (1) by redesignating paragraphs (4) through (12) as \n",
      "        paragraphs (5) through (13);\n",
      "            (2) in paragraph (3) by striking ``paragraphs (4) and (5)'' \n",
      "        and inserting ``paragraphs (5) and (6)'';\n",
      "            (3) by inserting after paragraph (3) the following:\n",
      "            ``(4) Grants for w ...\n",
      "Summary: Amends the Comprehensive Environmental Response, Compensation, and Liability Act of 1980 to require the President to establish a grant program for the revitalization of waterfront brownfield sites. Authorizes such grants to be used for reuse planning, site characterization and assessment, or remediation at waterfront brownfields sites, including the integration of activities related to the design and implementation of water quality improvements, low impact development approaches, green infrastructure, remediation and management of sediments, or flood damage prevention associated with brownfields remediation and reuse.\n",
      "\n",
      "Authorizes the Administrator of the Environmental Protection Agency (EPA) to provide training, research, and technical assistance to individuals and organizations to facilitate waterfront brownfields revitalization.\n",
      "\n",
      "Authorizes funding for brownfields revitalization for FY2008-FY2012.\n",
      "\n",
      "Requires the Administrator to establish and serve as chairperson of a task force on waterfront brownfields revitalization that shall identify: (1) funding and technical assistance resources; (2) barriers to and solutions for revitalization; and (3) methods to coordinate interagency efforts.\n",
      "\n",
      "Example 2\n",
      "Document: \"These are the games of reconciliation,\" Alon Meyer, president of Maccabi Germany, said of the 10-day event where a record 2,300 athletes from 36 countries will compete in 19 disciplines, from football to chess. \n",
      " \n",
      " \n",
      " \n",
      " It is the first time Germany will host the Jewish Olympiad, which was launched in 1929 in Prague for European Jews, followed by the first world games held in 1932 Tel Aviv in what was then British-mandated Palestine. \n",
      " \n",
      " \n",
      " \n",
      " To be held under tight security, the 14th European Macc ...\n",
      "Summary: – Berlin is kicking off the all-Jewish European Maccabi Games tomorrow—a 10-day event where 2,300 athletes from nearly 40 countries will compete in 19 disciplines, from soccer and basketball to chess and bridge, reports the Local. If Berlin seems like an odd venue, well, \"these are the games of reconciliation,\" says Alon Meyer, president of Maccabi Germany. Olympic Park, built for the XI Olympiad in 1936, was at the time off-limits to most Jewish athletes, reports NBC News, although Jewish athlete Endre Kabos from Hungary won the gold medal in both individual and team saber, while part-Jewish fencer Helene Mayer was allowed to represent Germany. Some Jews have expressed disapproval of the Games being in Berlin, and a 25% increase in anti-Semitic crimes over the last year means increased security measures. After a memorial service today in the former Sachsenhausen concentration camp, German President Joachim Gauck will kick off the games tomorrow in front of 15,000 people at the outdoor amphitheater Waldbuehne, near the stadium where Adolf Hitler opened the 1936 Games. This is the first time the Maccabi Games, formed in the late 1800s as a ban on Jewish athletes grew widespread, are to be played in Berlin. The Games are not just a quest for the \"muscular Jew,\" as Meyer puts it, but an egalitarian honoring of athletes across generations and disciplines. Organizers are also trying for a non-sports record: what they hope will be the biggest Shabbat party ever, slated for Friday. (The Holocaust may have been far worse than previously thought.)\n",
      "\n",
      "Example 3\n",
      "Document: (Photo by Chelsea Lauren/WireImage) \n",
      " \n",
      " During a recent concert in Manila, Philippines, veteran Canadian songstress Nelly Furtado unleashed her multicultural side and performed Korean pop (K-Pop) artist Psy's viral hit \"Gangnam Style\" in front of an energetic crowd. \n",
      " \n",
      " See more: One Direction suffers backlash for Oasis 'Wonderwall' cover \n",
      " \n",
      " Showing off Psy's famous \"Gangnam Style\" horse racing dance moves with two dancers sporting neon wigs behind her, Furtado looks like she's having an amazin ...\n",
      "Summary: – The latest dance craze involves … galloping around as if you were riding a horse. Sounds awkward, but it's caught on, thanks to South Korean rapper Psy (that's short for Psycho; real name Park Jae-sang). \"There's a saying in Korean. 'Let's ride a horse' means 'let's have a drink and have some fun,' hence the dance,\" he tells CNN. His \"Gangnam Style\" video, featuring many examples of the horse dance, is a total hit, and gyms in Seoul are incorporating the dance into their workout classes. Plus, other celebrities are jumping on the bandwagon: Nelly Furtado performed her version of the dance at a recent Philippines concert, Yahoo reports, and the CBC adds that Justin Bieber may collaborate with Psy. As for the title of the song, it refers to Gangnam, an affluent district in Seoul, and the recurring lyric \"Oppan Gangnam Style\" loosely translates to, \"Girls, your big brother is Gangnam Style.\" As Psy explained to ABC News, “Gangnam means, it's like Beverly Hills of Korea. But the guy doesn't look like Beverly Hills. Dance doesn't look like Beverly Hills. ... But he keeps saying I'm Beverly Hills style. So that's the point. It's sort of a twist.\"\n"
     ]
    }
   ],
   "source": [
    "print(\"\\nSample Documents and Summaries:\")\n",
    "for idx in range(3):\n",
    "    print(f\"\\nExample {idx+1}\")\n",
    "    print(\"Document:\", train_df.iloc[idx]['document'][:500], \"...\")\n",
    "    print(\"Summary:\", train_df.iloc[idx]['summary'])\n"
   ]
  },
  {
   "cell_type": "code",
   "execution_count": 16,
   "metadata": {
    "execution": {
     "iopub.execute_input": "2025-04-26T20:03:35.337859Z",
     "iopub.status.busy": "2025-04-26T20:03:35.337149Z",
     "iopub.status.idle": "2025-04-26T20:03:42.521395Z",
     "shell.execute_reply": "2025-04-26T20:03:42.520554Z",
     "shell.execute_reply.started": "2025-04-26T20:03:35.337832Z"
    }
   },
   "outputs": [
    {
     "name": "stdout",
     "output_type": "stream",
     "text": [
      "\n",
      "--- Document Length Statistics ---\n",
      "count     62739.000000\n",
      "mean       1650.829293\n",
      "std        2620.652554\n",
      "min          20.000000\n",
      "25%         829.000000\n",
      "50%        1268.000000\n",
      "75%        1932.000000\n",
      "max      449621.000000\n",
      "Name: doc_length, dtype: float64\n",
      "\n",
      "--- Summary Length Statistics ---\n",
      "count    62739.000000\n",
      "mean       207.302443\n",
      "std         86.012142\n",
      "min          8.000000\n",
      "25%        149.000000\n",
      "50%        209.000000\n",
      "75%        259.000000\n",
      "max        973.000000\n",
      "Name: summary_length, dtype: float64\n"
     ]
    }
   ],
   "source": [
    "import seaborn as sns\n",
    "\n",
    "\n",
    "train_df['doc_length'] = train_df['document'].apply(lambda x: len(x.split()))\n",
    "train_df['summary_length'] = train_df['summary'].apply(lambda x: len(x.split()))\n",
    "\n",
    "\n",
    "print(\"\\n--- Document Length Statistics ---\")\n",
    "print(train_df['doc_length'].describe())\n",
    "\n",
    "print(\"\\n--- Summary Length Statistics ---\")\n",
    "print(train_df['summary_length'].describe())\n",
    "\n",
    "\n"
   ]
  },
  {
   "cell_type": "markdown",
   "metadata": {},
   "source": [
    "### Document length distribution"
   ]
  },
  {
   "cell_type": "code",
   "execution_count": 17,
   "metadata": {
    "execution": {
     "iopub.execute_input": "2025-04-26T20:03:42.523114Z",
     "iopub.status.busy": "2025-04-26T20:03:42.522688Z",
     "iopub.status.idle": "2025-04-26T20:03:43.138634Z",
     "shell.execute_reply": "2025-04-26T20:03:43.137804Z",
     "shell.execute_reply.started": "2025-04-26T20:03:42.523094Z"
    }
   },
   "outputs": [
    {
     "name": "stderr",
     "output_type": "stream",
     "text": [
      "/usr/local/lib/python3.11/dist-packages/seaborn/_oldcore.py:1119: FutureWarning: use_inf_as_na option is deprecated and will be removed in a future version. Convert inf values to NaN before operating instead.\n",
      "  with pd.option_context('mode.use_inf_as_na', True):\n"
     ]
    },
    {
     "data": {
      "text/plain": [
       "Text(0, 0.5, 'Frequency')"
      ]
     },
     "execution_count": 17,
     "metadata": {},
     "output_type": "execute_result"
    },
    {
     "data": {
      "image/png": "[encoded data removed]",
      "text/plain": [
       "<Figure size 1400x600 with 1 Axes>"
      ]
     },
     "metadata": {},
     "output_type": "display_data"
    }
   ],
   "source": [
    "\n",
    "plt.figure(figsize=(14,6))\n",
    "\n",
    "\n",
    "plt.subplot(1, 2, 1)\n",
    "sns.histplot(train_df['doc_length'], bins=50, kde=True)\n",
    "plt.title('Document Length Distribution (Words)')\n",
    "plt.xlabel('Number of words')\n",
    "plt.ylabel('Frequency')\n"
   ]
  },
  {
   "cell_type": "markdown",
   "metadata": {},
   "source": [
    "### Summary length distribution"
   ]
  },
  {
   "cell_type": "code",
   "execution_count": 18,
   "metadata": {
    "execution": {
     "iopub.execute_input": "2025-04-26T20:03:43.139613Z",
     "iopub.status.busy": "2025-04-26T20:03:43.139355Z",
     "iopub.status.idle": "2025-04-26T20:03:43.662756Z",
     "shell.execute_reply": "2025-04-26T20:03:43.662086Z",
     "shell.execute_reply.started": "2025-04-26T20:03:43.139596Z"
    }
   },
   "outputs": [
    {
     "name": "stderr",
     "output_type": "stream",
     "text": [
      "/usr/local/lib/python3.11/dist-packages/seaborn/_oldcore.py:1119: FutureWarning: use_inf_as_na option is deprecated and will be removed in a future version. Convert inf values to NaN before operating instead.\n",
      "  with pd.option_context('mode.use_inf_as_na', True):\n"
     ]
    },
    {
     "data": {
      "image/png": "[encoded data removed]",
      "text/plain": [
       "<Figure size 640x480 with 1 Axes>"
      ]
     },
     "metadata": {},
     "output_type": "display_data"
    }
   ],
   "source": [
    "\n",
    "plt.subplot(1, 2, 2)\n",
    "sns.histplot(train_df['summary_length'], bins=50, kde=True)\n",
    "plt.title('Summary Length Distribution (Words)')\n",
    "plt.xlabel('Number of words')\n",
    "plt.ylabel('Frequency')\n",
    "\n",
    "plt.tight_layout()\n",
    "plt.show()\n"
   ]
  },
  {
   "cell_type": "markdown",
   "metadata": {},
   "source": [
    "### Length Ratio Statistics "
   ]
  },
  {
   "cell_type": "code",
   "execution_count": 19,
   "metadata": {
    "execution": {
     "iopub.execute_input": "2025-04-26T20:03:43.664160Z",
     "iopub.status.busy": "2025-04-26T20:03:43.663966Z",
     "iopub.status.idle": "2025-04-26T20:03:44.183831Z",
     "shell.execute_reply": "2025-04-26T20:03:44.183042Z",
     "shell.execute_reply.started": "2025-04-26T20:03:43.664144Z"
    }
   },
   "outputs": [
    {
     "name": "stdout",
     "output_type": "stream",
     "text": [
      "\n",
      "--- Length Ratio Statistics (Document Length / Summary Length) ---\n",
      "count    62739.000000\n",
      "mean         8.946448\n",
      "std         11.200514\n",
      "min          0.090551\n",
      "25%          4.322933\n",
      "50%          6.696970\n",
      "75%         10.458856\n",
      "max       1409.470219\n",
      "Name: length_ratio, dtype: float64\n"
     ]
    },
    {
     "name": "stderr",
     "output_type": "stream",
     "text": [
      "/usr/local/lib/python3.11/dist-packages/seaborn/_oldcore.py:1119: FutureWarning: use_inf_as_na option is deprecated and will be removed in a future version. Convert inf values to NaN before operating instead.\n",
      "  with pd.option_context('mode.use_inf_as_na', True):\n"
     ]
    },
    {
     "data": {
      "image/png": "[encoded data removed]",
      "text/plain": [
       "<Figure size 800x500 with 1 Axes>"
      ]
     },
     "metadata": {},
     "output_type": "display_data"
    }
   ],
   "source": [
    "\n",
    "train_df['length_ratio'] = train_df['doc_length'] / train_df['summary_length']\n",
    "\n",
    "\n",
    "print(\"\\n--- Length Ratio Statistics (Document Length / Summary Length) ---\")\n",
    "print(train_df['length_ratio'].describe())\n",
    "\n",
    "\n",
    "plt.figure(figsize=(8,5))\n",
    "sns.histplot(train_df['length_ratio'], bins=50, kde=True)\n",
    "plt.title('Document to Summary Length Ratio')\n",
    "plt.xlabel('Ratio (Document words / Summary words)')\n",
    "plt.ylabel('Frequency')\n",
    "plt.show()\n",
    "\n"
   ]
  },
  {
   "cell_type": "markdown",
   "metadata": {},
   "source": [
    "### Weird Cases"
   ]
  },
  {
   "cell_type": "code",
   "execution_count": 20,
   "metadata": {
    "execution": {
     "iopub.execute_input": "2025-04-26T03:14:18.646665Z",
     "iopub.status.busy": "2025-04-26T03:14:18.646335Z",
     "iopub.status.idle": "2025-04-26T03:14:18.655394Z",
     "shell.execute_reply": "2025-04-26T03:14:18.654797Z",
     "shell.execute_reply.started": "2025-04-26T03:14:18.646643Z"
    }
   },
   "outputs": [
    {
     "name": "stdout",
     "output_type": "stream",
     "text": [
      "\n",
      "Number of weird cases (summary longer than document): 428\n",
      "\n",
      "Examples of Weird Cases:\n",
      "\n",
      "--- Weird Case 1 ---\n",
      "Document: Wow, the @ nytimes is losing thousands of subscribers because of their very poor and highly inaccurate coverage of the \"Trump phenomena\" ||||| President-elect Donald Trump talks with House Speaker Paul Ryan of Wis. on Capitol Hill in Washington, Thursday, Nov. 10, 2016. (AP Photo/Alex Brandon) (Associated Press) \n",
      " \n",
      " President-elect Donald Trump talks with House Speaker Paul Ryan of Wis. on Capitol Hill in Washington, Thursday, Nov. 10, 2016. (AP Photo/Alex Brandon) (Associated Press) \n",
      " \n",
      " WASHING ...\n",
      "Summary: – House Speaker Paul Ryan says the people generating racist graffiti in the wake of Donald Trump's election are \"not Republicans,\" reports the AP, and \"we don't want them in our party.\" The Wisconsin congressman told CNN's State of the Union on Sunday that \"people should really just put their minds at ease. We are pluralistic, we are inclusive... that's the kind of country we are still going to have.\" He says he's \"confident Donald Trump feels the same way.\" \"We are not planning on erecting a deportation force. Donald Trump's not planning on that,\" Ryan said. \"I think we should put people's minds at ease: That is not what our focus is. We're focused on securing the border. We think that's first and foremost, before we get into any other immigration issue, we've got to know who's coming and going into the country.\" Elsewhere on the Sunday dial: Trump campaign rep Kellyanne Conway tells CNN that a decision on his chief of staff is \"imminent,\" with Reince Priebus in the running, but \"several people being considered.\" Breitbart CEO Steve Bannon is also in the running, and Politico notes that Ryan said Sunday he has \"no concerns\" if Bannon were to be the pick. \"I trust Donald's judgment.\" The GOP establishment widely favors Priebus for the job. Conway wasn't done there, telling NBC News, via the Washington Post, that of pro-Hillary Clinton supporters, particularly those demonstrating, \"(Trump is) there for them. And he is going to be a president that listens and takes the counsel of many different people, including those from the other side of the aisle. ... It's time really for President Obama and Secretary Clinton to say to these protesters, 'This man is our president.'\" Meanwhile, Trump himself is busily blasting the New York Times on Twitter, reports the Hill. \"Wow, the @nytimes is losing thousands of subscribers because of their very poor and highly inaccurate coverage of the 'Trump phenomena'.\"\n",
      "\n",
      "--- Weird Case 2 ---\n",
      "Document: Tweet with a location \n",
      " \n",
      " You can add location information to your Tweets, such as your city or precise location, from the web and via third-party applications. You always have the option to delete your Tweet location history. Learn more ||||| Tweet with a location \n",
      " \n",
      " You can add location information to your Tweets, such as your city or precise location, from the web and via third-party applications. You always have the option to delete your Tweet location history. Learn more ||||| Tweet with a ...\n",
      "Summary: – Thursday morning brings a dose of confusion to the debate over the fate of young undocumented immigrants. President Trump tweeted that he and top Democrats had not reached a deal about the fate of the Dreamers, despite Democrats' assertion Wednesday night to the contrary. \"No deal was made last night on DACA,\" the president wrote, referring to the Deferred Action for Childhood Arrivals program. \"Massive border security would have to be agreed to in exchange for consent.\" All this began when Democrats including Nancy Pelosi and Chuck Schumer had a dinner meeting with Trump at the White House on Wednesday, and Democrats emerged afterward to declare that they'd struck a deal to \"enshrine the protections of DACA into law.\" In exchange, they'd agree to a number of border security improvements—excluding the president's proposed border wall. Almost immediately, the White House pushed back on that characterization, with press chief Sarah Huckabee Sanders tweeting that no deal to exclude the border wall was struck, reports the New York Times. Trump reiterated that in his tweet, adding that the wall \"will continue to be built.\" (He didn't, however, address whether funding would be linked to DACA.) But the president also expressed support for Dreamers and suggested that he wanted a deal that would provide some kind of pathway to citizenship for them. \"Does anybody really want to throw out good, educated and accomplished young people who have jobs, some serving in the military? Really!\" he wrote. \"They have been in our country for many years through no fault of their own - brought in by parents at young age.\"\n",
      "\n",
      "--- Weird Case 3 ---\n",
      "Document: (CNN) The number of sexual assaults reported during commercial airline flights is increasing \"at an alarming rate,\" the FBI said Wednesday, and the number of actual cases could be much higher. \n",
      " \n",
      " FBI investigations into midair sexual assaults increased by 66% from fiscal year 2014 to 2017. The bureau said it had opened 63 investigations into sexual assault on aircraft in 2017, compared with 57 in 2016, 40 in 2015 and 38 in 2014. \n",
      " \n",
      " FBI Special Agent David Rodski told reporters the number of se ...\n",
      "Summary: – \"Sexual assault on an aircraft is a federal crime,\" the FBI warns in its new Be Air Aware campaign—and it's a crime that the agency says has increased \"at an alarming rate\" in recent years. The bureau says there has been a steady rise in reported mid-air incidents, with the 38 investigations it opened in 2014 rising to 63 last year; the true number of incidents could be much higher, reports CNN. The FBI says it's not sure what's behind the increase, but it urges passengers to \"hit that call button\" and notify the flight crew immediately when there is an incident. Too often, passengers either fail to report the assault or only report it long after the flight, when it is harder to investigate and prosecute offenders, the bureau says. The FBI says sexual assault is more common on long-haul, overnight flights and often happens when a passenger is asleep. Brian Nadeau, assistant special agent in charge of the Baltimore division, tells the Washington Post that alcohol is often involved, and it is common for victims to be in either the middle or window seats. \"We find offenders will often test their victims, sometimes brushing up against them to see how they will react or if they will wake up,\" Nadeau says. \"Do not give these offenders the benefit of the doubt.\" (This airline has created a service to help women flying alone.)\n"
     ]
    }
   ],
   "source": [
    "\n",
    "weird_cases = train_df[train_df['length_ratio'] < 1]\n",
    "print(f\"\\nNumber of weird cases (summary longer than document): {len(weird_cases)}\")\n",
    "\n",
    "if len(weird_cases) > 0:\n",
    "    print(\"\\nExamples of Weird Cases:\")\n",
    "    for idx in range(min(3, len(weird_cases))): \n",
    "        print(f\"\\n--- Weird Case {idx+1} ---\")\n",
    "        print(\"Document:\", weird_cases.iloc[idx]['document'][:500], \"...\")\n",
    "        print(\"Summary:\", weird_cases.iloc[idx]['summary'])\n"
   ]
  },
  {
   "cell_type": "markdown",
   "metadata": {},
   "source": [
    "### Example of very short document"
   ]
  },
  {
   "cell_type": "code",
   "execution_count": 23,
   "metadata": {
    "execution": {
     "iopub.execute_input": "2025-04-26T03:18:12.451983Z",
     "iopub.status.busy": "2025-04-26T03:18:12.451325Z",
     "iopub.status.idle": "2025-04-26T03:18:12.458436Z",
     "shell.execute_reply": "2025-04-26T03:18:12.457737Z",
     "shell.execute_reply.started": "2025-04-26T03:18:12.451958Z"
    }
   },
   "outputs": [
    {
     "name": "stdout",
     "output_type": "stream",
     "text": [
      "\n",
      "Number of documents with less than 50 words: 36\n",
      "\n",
      "Example of very short document:\n",
      "Rating is available when the video has been rented. \n",
      " \n",
      " This feature is not available right now. Please try again later.\n"
     ]
    }
   ],
   "source": [
    "\n",
    "short_docs = train_df[train_df['doc_length'] < 50]\n",
    "print(f\"\\nNumber of documents with less than 50 words: {len(short_docs)}\")\n",
    "\n",
    "if len(short_docs) > 0:\n",
    "    print(\"\\nExample of very short document:\")\n",
    "    print(short_docs.iloc[0]['document'])\n"
   ]
  },
  {
   "cell_type": "markdown",
   "metadata": {},
   "source": [
    "### Example of very Long document"
   ]
  },
  {
   "cell_type": "code",
   "execution_count": 24,
   "metadata": {
    "execution": {
     "iopub.execute_input": "2025-04-26T03:18:19.496105Z",
     "iopub.status.busy": "2025-04-26T03:18:19.495469Z",
     "iopub.status.idle": "2025-04-26T03:18:19.503775Z",
     "shell.execute_reply": "2025-04-26T03:18:19.503022Z",
     "shell.execute_reply.started": "2025-04-26T03:18:19.496082Z"
    }
   },
   "outputs": [
    {
     "name": "stdout",
     "output_type": "stream",
     "text": [
      "\n",
      "Number of documents with more than 3000 words: 5751\n",
      "\n",
      "Example of very long document:\n",
      "Norristown, Pennsylvania (CNN) Prosecutors in the Bill Cosby indecent assault trial on Monday claimed the 79-year-old actor knew exactly what he was doing when he drugged and assaulted Andrea Constand in 2004, while the defense went after the credibility of Constand and another Cosby accuser. \n",
      " \n",
      " With the streets outside the courthouse lined with television trucks, Cosby arrived arm-in-arm with Keshia Knight Pulliam, who played his daughter Rudy Huxtable on \"The Cosby Show.\" The courtroom was pa ...\n"
     ]
    }
   ],
   "source": [
    "long_docs = train_df[train_df['doc_length'] > 3000]\n",
    "print(f\"\\nNumber of documents with more than 3000 words: {len(long_docs)}\")\n",
    "\n",
    "if len(long_docs) > 0:\n",
    "    print(\"\\nExample of very long document:\")\n",
    "    print(long_docs.iloc[0]['document'][:500], \"...\")"
   ]
  },
  {
   "cell_type": "markdown",
   "metadata": {},
   "source": [
    "### Smaller subsets"
   ]
  },
  {
   "cell_type": "code",
   "execution_count": 20,
   "metadata": {
    "execution": {
     "iopub.execute_input": "2025-04-26T20:04:01.978173Z",
     "iopub.status.busy": "2025-04-26T20:04:01.977500Z",
     "iopub.status.idle": "2025-04-26T20:04:01.988155Z",
     "shell.execute_reply": "2025-04-26T20:04:01.987336Z",
     "shell.execute_reply.started": "2025-04-26T20:04:01.978149Z"
    }
   },
   "outputs": [],
   "source": [
    "\n",
    "train_data_small = final_dataset[\"train\"].select(range(5000))\n",
    "val_data_small = final_dataset[\"validation\"].select(range(1000))\n",
    "test_data_small = final_dataset[\"test\"].select(range(1000))\n"
   ]
  },
  {
   "cell_type": "code",
   "execution_count": 24,
   "metadata": {
    "execution": {
     "iopub.execute_input": "2025-04-26T04:37:12.942739Z",
     "iopub.status.busy": "2025-04-26T04:37:12.942142Z",
     "iopub.status.idle": "2025-04-26T04:37:17.889559Z",
     "shell.execute_reply": "2025-04-26T04:37:17.888561Z",
     "shell.execute_reply.started": "2025-04-26T04:37:12.942716Z"
    }
   },
   "outputs": [
    {
     "data": {
      "application/vnd.jupyter.widget-view+json": {
       "model_id": "53be2f6596254afca0aa0203da273af9",
       "version_major": 2,
       "version_minor": 0
      },
      "text/plain": [
       "Creating CSV from Arrow format:   0%|          | 0/10 [00:00<?, ?ba/s]"
      ]
     },
     "metadata": {},
     "output_type": "display_data"
    },
    {
     "data": {
      "text/plain": [
       "118704284"
      ]
     },
     "execution_count": 24,
     "metadata": {},
     "output_type": "execute_result"
    }
   ],
   "source": [
    "train_data_small .to_csv(\"/kaggle/working/train_data_sma.csv\", index=False)"
   ]
  },
  {
   "cell_type": "code",
   "execution_count": 21,
   "metadata": {
    "execution": {
     "iopub.execute_input": "2025-04-26T20:04:06.476751Z",
     "iopub.status.busy": "2025-04-26T20:04:06.476080Z",
     "iopub.status.idle": "2025-04-26T20:04:21.813649Z",
     "shell.execute_reply": "2025-04-26T20:04:21.812662Z",
     "shell.execute_reply.started": "2025-04-26T20:04:06.476721Z"
    }
   },
   "outputs": [
    {
     "name": "stdout",
     "output_type": "stream",
     "text": [
      "Collecting evaluate\n",
      "  Downloading evaluate-0.4.3-py3-none-any.whl.metadata (9.2 kB)\n",
      "Requirement already satisfied: datasets>=2.0.0 in /usr/local/lib/python3.11/dist-packages (from evaluate) (2.14.5)\n",
      "Requirement already satisfied: numpy>=1.17 in /usr/local/lib/python3.11/dist-packages (from evaluate) (1.26.4)\n",
      "Requirement already satisfied: dill in /usr/local/lib/python3.11/dist-packages (from evaluate) (0.3.7)\n",
      "Requirement already satisfied: pandas in /usr/local/lib/python3.11/dist-packages (from evaluate) (2.2.3)\n",
      "Requirement already satisfied: requests>=2.19.0 in /usr/local/lib/python3.11/dist-packages (from evaluate) (2.32.3)\n",
      "Requirement already satisfied: tqdm>=4.62.1 in /usr/local/lib/python3.11/dist-packages (from evaluate) (4.67.1)\n",
      "Requirement already satisfied: xxhash in /usr/local/lib/python3.11/dist-packages (from evaluate) (3.5.0)\n",
      "Requirement already satisfied: multiprocess in /usr/local/lib/python3.11/dist-packages (from evaluate) (0.70.15)\n",
      "Requirement already satisfied: fsspec>=2021.05.0 in /usr/local/lib/python3.11/dist-packages (from fsspec[http]>=2021.05.0->evaluate) (2023.6.0)\n",
      "Requirement already satisfied: huggingface-hub>=0.7.0 in /usr/local/lib/python3.11/dist-packages (from evaluate) (0.19.4)\n",
      "Requirement already satisfied: packaging in /usr/local/lib/python3.11/dist-packages (from evaluate) (24.2)\n",
      "Requirement already satisfied: pyarrow>=8.0.0 in /usr/local/lib/python3.11/dist-packages (from datasets>=2.0.0->evaluate) (19.0.1)\n",
      "Requirement already satisfied: aiohttp in /usr/local/lib/python3.11/dist-packages (from datasets>=2.0.0->evaluate) (3.11.16)\n",
      "Requirement already satisfied: pyyaml>=5.1 in /usr/local/lib/python3.11/dist-packages (from datasets>=2.0.0->evaluate) (6.0.2)\n",
      "Requirement already satisfied: filelock in /usr/local/lib/python3.11/dist-packages (from huggingface-hub>=0.7.0->evaluate) (3.18.0)\n",
      "Requirement already satisfied: typing-extensions>=3.7.4.3 in /usr/local/lib/python3.11/dist-packages (from huggingface-hub>=0.7.0->evaluate) (4.13.1)\n",
      "Requirement already satisfied: mkl_fft in /usr/local/lib/python3.11/dist-packages (from numpy>=1.17->evaluate) (1.3.8)\n",
      "Requirement already satisfied: mkl_random in /usr/local/lib/python3.11/dist-packages (from numpy>=1.17->evaluate) (1.2.4)\n",
      "Requirement already satisfied: mkl_umath in /usr/local/lib/python3.11/dist-packages (from numpy>=1.17->evaluate) (0.1.1)\n",
      "Requirement already satisfied: mkl in /usr/local/lib/python3.11/dist-packages (from numpy>=1.17->evaluate) (2025.1.0)\n",
      "Requirement already satisfied: tbb4py in /usr/local/lib/python3.11/dist-packages (from numpy>=1.17->evaluate) (2022.1.0)\n",
      "Requirement already satisfied: mkl-service in /usr/local/lib/python3.11/dist-packages (from numpy>=1.17->evaluate) (2.4.1)\n",
      "Requirement already satisfied: charset-normalizer<4,>=2 in /usr/local/lib/python3.11/dist-packages (from requests>=2.19.0->evaluate) (3.4.1)\n",
      "Requirement already satisfied: idna<4,>=2.5 in /usr/local/lib/python3.11/dist-packages (from requests>=2.19.0->evaluate) (3.10)\n",
      "Requirement already satisfied: urllib3<3,>=1.21.1 in /usr/local/lib/python3.11/dist-packages (from requests>=2.19.0->evaluate) (2.3.0)\n",
      "Requirement already satisfied: certifi>=2017.4.17 in /usr/local/lib/python3.11/dist-packages (from requests>=2.19.0->evaluate) (2025.1.31)\n",
      "Requirement already satisfied: python-dateutil>=2.8.2 in /usr/local/lib/python3.11/dist-packages (from pandas->evaluate) (2.9.0.post0)\n",
      "Requirement already satisfied: pytz>=2020.1 in /usr/local/lib/python3.11/dist-packages (from pandas->evaluate) (2025.2)\n",
      "Requirement already satisfied: tzdata>=2022.7 in /usr/local/lib/python3.11/dist-packages (from pandas->evaluate) (2025.2)\n",
      "Requirement already satisfied: aiohappyeyeballs>=2.3.0 in /usr/local/lib/python3.11/dist-packages (from aiohttp->datasets>=2.0.0->evaluate) (2.6.1)\n",
      "Requirement already satisfied: aiosignal>=1.1.2 in /usr/local/lib/python3.11/dist-packages (from aiohttp->datasets>=2.0.0->evaluate) (1.3.2)\n",
      "Requirement already satisfied: attrs>=17.3.0 in /usr/local/lib/python3.11/dist-packages (from aiohttp->datasets>=2.0.0->evaluate) (25.3.0)\n",
      "Requirement already satisfied: frozenlist>=1.1.1 in /usr/local/lib/python3.11/dist-packages (from aiohttp->datasets>=2.0.0->evaluate) (1.5.0)\n",
      "Requirement already satisfied: multidict<7.0,>=4.5 in /usr/local/lib/python3.11/dist-packages (from aiohttp->datasets>=2.0.0->evaluate) (6.2.0)\n",
      "Requirement already satisfied: propcache>=0.2.0 in /usr/local/lib/python3.11/dist-packages (from aiohttp->datasets>=2.0.0->evaluate) (0.3.1)\n",
      "Requirement already satisfied: yarl<2.0,>=1.17.0 in /usr/local/lib/python3.11/dist-packages (from aiohttp->datasets>=2.0.0->evaluate) (1.19.0)\n",
      "Requirement already satisfied: six>=1.5 in /usr/local/lib/python3.11/dist-packages (from python-dateutil>=2.8.2->pandas->evaluate) (1.17.0)\n",
      "Requirement already satisfied: intel-openmp<2026,>=2024 in /usr/local/lib/python3.11/dist-packages (from mkl->numpy>=1.17->evaluate) (2024.2.0)\n",
      "Requirement already satisfied: tbb==2022.* in /usr/local/lib/python3.11/dist-packages (from mkl->numpy>=1.17->evaluate) (2022.1.0)\n",
      "Requirement already satisfied: tcmlib==1.* in /usr/local/lib/python3.11/dist-packages (from tbb==2022.*->mkl->numpy>=1.17->evaluate) (1.2.0)\n",
      "Requirement already satisfied: intel-cmplr-lib-rt in /usr/local/lib/python3.11/dist-packages (from mkl_umath->numpy>=1.17->evaluate) (2024.2.0)\n",
      "Requirement already satisfied: intel-cmplr-lib-ur==2024.2.0 in /usr/local/lib/python3.11/dist-packages (from intel-openmp<2026,>=2024->mkl->numpy>=1.17->evaluate) (2024.2.0)\n",
      "Downloading evaluate-0.4.3-py3-none-any.whl (84 kB)\n",
      "\u001b[2K   \u001b[90m━━━━━━━━━━━━━━━━━━━━━━━━━━━━━━━━━━━━━━━━\u001b[0m \u001b[32m84.0/84.0 kB\u001b[0m \u001b[31m3.6 MB/s\u001b[0m eta \u001b[36m0:00:00\u001b[0m\n",
      "\u001b[?25hInstalling collected packages: evaluate\n",
      "Successfully installed evaluate-0.4.3\n",
      "Collecting textstat\n",
      "  Downloading textstat-0.7.5-py3-none-any.whl.metadata (15 kB)\n",
      "Collecting pyphen (from textstat)\n",
      "  Downloading pyphen-0.17.2-py3-none-any.whl.metadata (3.2 kB)\n",
      "Collecting cmudict (from textstat)\n",
      "  Downloading cmudict-1.0.32-py3-none-any.whl.metadata (3.6 kB)\n",
      "Requirement already satisfied: setuptools in /usr/local/lib/python3.11/dist-packages (from textstat) (75.1.0)\n",
      "Requirement already satisfied: importlib-metadata>=5 in /usr/local/lib/python3.11/dist-packages (from cmudict->textstat) (8.6.1)\n",
      "Requirement already satisfied: importlib-resources>=5 in /usr/local/lib/python3.11/dist-packages (from cmudict->textstat) (6.5.2)\n",
      "Requirement already satisfied: zipp>=3.20 in /usr/local/lib/python3.11/dist-packages (from importlib-metadata>=5->cmudict->textstat) (3.21.0)\n",
      "Downloading textstat-0.7.5-py3-none-any.whl (105 kB)\n",
      "\u001b[2K   \u001b[90m━━━━━━━━━━━━━━━━━━━━━━━━━━━━━━━━━━━━━━━━\u001b[0m \u001b[32m105.3/105.3 kB\u001b[0m \u001b[31m4.9 MB/s\u001b[0m eta \u001b[36m0:00:00\u001b[0m\n",
      "\u001b[?25hDownloading cmudict-1.0.32-py3-none-any.whl (939 kB)\n",
      "\u001b[2K   \u001b[90m━━━━━━━━━━━━━━━━━━━━━━━━━━━━━━━━━━━━━━━━\u001b[0m \u001b[32m939.4/939.4 kB\u001b[0m \u001b[31m29.7 MB/s\u001b[0m eta \u001b[36m0:00:00\u001b[0m\n",
      "\u001b[?25hDownloading pyphen-0.17.2-py3-none-any.whl (2.1 MB)\n",
      "\u001b[2K   \u001b[90m━━━━━━━━━━━━━━━━━━━━━━━━━━━━━━━━━━━━━━━━\u001b[0m \u001b[32m2.1/2.1 MB\u001b[0m \u001b[31m69.3 MB/s\u001b[0m eta \u001b[36m0:00:00\u001b[0m\n",
      "\u001b[?25hInstalling collected packages: pyphen, cmudict, textstat\n",
      "Successfully installed cmudict-1.0.32 pyphen-0.17.2 textstat-0.7.5\n",
      "Collecting rouge_score\n",
      "  Downloading rouge_score-0.1.2.tar.gz (17 kB)\n",
      "  Preparing metadata (setup.py) ... \u001b[?25l\u001b[?25hdone\n",
      "Requirement already satisfied: absl-py in /usr/local/lib/python3.11/dist-packages (from rouge_score) (1.4.0)\n",
      "Requirement already satisfied: nltk in /usr/local/lib/python3.11/dist-packages (from rouge_score) (3.9.1)\n",
      "Requirement already satisfied: numpy in /usr/local/lib/python3.11/dist-packages (from rouge_score) (1.26.4)\n",
      "Requirement already satisfied: six>=1.14.0 in /usr/local/lib/python3.11/dist-packages (from rouge_score) (1.17.0)\n",
      "Requirement already satisfied: click in /usr/local/lib/python3.11/dist-packages (from nltk->rouge_score) (8.1.8)\n",
      "Requirement already satisfied: joblib in /usr/local/lib/python3.11/dist-packages (from nltk->rouge_score) (1.4.2)\n",
      "Requirement already satisfied: regex>=2021.8.3 in /usr/local/lib/python3.11/dist-packages (from nltk->rouge_score) (2024.11.6)\n",
      "Requirement already satisfied: tqdm in /usr/local/lib/python3.11/dist-packages (from nltk->rouge_score) (4.67.1)\n",
      "Requirement already satisfied: mkl_fft in /usr/local/lib/python3.11/dist-packages (from numpy->rouge_score) (1.3.8)\n",
      "Requirement already satisfied: mkl_random in /usr/local/lib/python3.11/dist-packages (from numpy->rouge_score) (1.2.4)\n",
      "Requirement already satisfied: mkl_umath in /usr/local/lib/python3.11/dist-packages (from numpy->rouge_score) (0.1.1)\n",
      "Requirement already satisfied: mkl in /usr/local/lib/python3.11/dist-packages (from numpy->rouge_score) (2025.1.0)\n",
      "Requirement already satisfied: tbb4py in /usr/local/lib/python3.11/dist-packages (from numpy->rouge_score) (2022.1.0)\n",
      "Requirement already satisfied: mkl-service in /usr/local/lib/python3.11/dist-packages (from numpy->rouge_score) (2.4.1)\n",
      "Requirement already satisfied: intel-openmp<2026,>=2024 in /usr/local/lib/python3.11/dist-packages (from mkl->numpy->rouge_score) (2024.2.0)\n",
      "Requirement already satisfied: tbb==2022.* in /usr/local/lib/python3.11/dist-packages (from mkl->numpy->rouge_score) (2022.1.0)\n",
      "Requirement already satisfied: tcmlib==1.* in /usr/local/lib/python3.11/dist-packages (from tbb==2022.*->mkl->numpy->rouge_score) (1.2.0)\n",
      "Requirement already satisfied: intel-cmplr-lib-rt in /usr/local/lib/python3.11/dist-packages (from mkl_umath->numpy->rouge_score) (2024.2.0)\n",
      "Requirement already satisfied: intel-cmplr-lib-ur==2024.2.0 in /usr/local/lib/python3.11/dist-packages (from intel-openmp<2026,>=2024->mkl->numpy->rouge_score) (2024.2.0)\n",
      "Building wheels for collected packages: rouge_score\n",
      "  Building wheel for rouge_score (setup.py) ... \u001b[?25l\u001b[?25hdone\n",
      "  Created wheel for rouge_score: filename=rouge_score-0.1.2-py3-none-any.whl size=24935 sha256=42dbc60e7c50bac042e550073399491c25b4aef2a2b12ac93485f5a3d60cd0ed\n",
      "  Stored in directory: /root/.cache/pip/wheels/1e/19/43/8a442dc83660ca25e163e1bd1f89919284ab0d0c1475475148\n",
      "Successfully built rouge_score\n",
      "Installing collected packages: rouge_score\n",
      "Successfully installed rouge_score-0.1.2\n",
      "Collecting bert_score\n",
      "  Downloading bert_score-0.3.13-py3-none-any.whl.metadata (15 kB)\n",
      "Requirement already satisfied: torch>=1.0.0 in /usr/local/lib/python3.11/dist-packages (from bert_score) (2.5.1+cu124)\n",
      "Requirement already satisfied: pandas>=1.0.1 in /usr/local/lib/python3.11/dist-packages (from bert_score) (2.2.3)\n",
      "Requirement already satisfied: transformers>=3.0.0 in /usr/local/lib/python3.11/dist-packages (from bert_score) (4.30.2)\n",
      "Requirement already satisfied: numpy in /usr/local/lib/python3.11/dist-packages (from bert_score) (1.26.4)\n",
      "Requirement already satisfied: requests in /usr/local/lib/python3.11/dist-packages (from bert_score) (2.32.3)\n",
      "Requirement already satisfied: tqdm>=4.31.1 in /usr/local/lib/python3.11/dist-packages (from bert_score) (4.67.1)\n",
      "Requirement already satisfied: matplotlib in /usr/local/lib/python3.11/dist-packages (from bert_score) (3.7.5)\n",
      "Requirement already satisfied: packaging>=20.9 in /usr/local/lib/python3.11/dist-packages (from bert_score) (24.2)\n",
      "Requirement already satisfied: python-dateutil>=2.8.2 in /usr/local/lib/python3.11/dist-packages (from pandas>=1.0.1->bert_score) (2.9.0.post0)\n",
      "Requirement already satisfied: pytz>=2020.1 in /usr/local/lib/python3.11/dist-packages (from pandas>=1.0.1->bert_score) (2025.2)\n",
      "Requirement already satisfied: tzdata>=2022.7 in /usr/local/lib/python3.11/dist-packages (from pandas>=1.0.1->bert_score) (2025.2)\n",
      "Requirement already satisfied: mkl_fft in /usr/local/lib/python3.11/dist-packages (from numpy->bert_score) (1.3.8)\n",
      "Requirement already satisfied: mkl_random in /usr/local/lib/python3.11/dist-packages (from numpy->bert_score) (1.2.4)\n",
      "Requirement already satisfied: mkl_umath in /usr/local/lib/python3.11/dist-packages (from numpy->bert_score) (0.1.1)\n",
      "Requirement already satisfied: mkl in /usr/local/lib/python3.11/dist-packages (from numpy->bert_score) (2025.1.0)\n",
      "Requirement already satisfied: tbb4py in /usr/local/lib/python3.11/dist-packages (from numpy->bert_score) (2022.1.0)\n",
      "Requirement already satisfied: mkl-service in /usr/local/lib/python3.11/dist-packages (from numpy->bert_score) (2.4.1)\n",
      "Requirement already satisfied: filelock in /usr/local/lib/python3.11/dist-packages (from torch>=1.0.0->bert_score) (3.18.0)\n",
      "Requirement already satisfied: typing-extensions>=4.8.0 in /usr/local/lib/python3.11/dist-packages (from torch>=1.0.0->bert_score) (4.13.1)\n",
      "Requirement already satisfied: networkx in /usr/local/lib/python3.11/dist-packages (from torch>=1.0.0->bert_score) (3.4.2)\n",
      "Requirement already satisfied: jinja2 in /usr/local/lib/python3.11/dist-packages (from torch>=1.0.0->bert_score) (3.1.6)\n",
      "Requirement already satisfied: fsspec in /usr/local/lib/python3.11/dist-packages (from torch>=1.0.0->bert_score) (2023.6.0)\n",
      "Requirement already satisfied: nvidia-cuda-nvrtc-cu12==12.4.127 in /usr/local/lib/python3.11/dist-packages (from torch>=1.0.0->bert_score) (12.4.127)\n",
      "Requirement already satisfied: nvidia-cuda-runtime-cu12==12.4.127 in /usr/local/lib/python3.11/dist-packages (from torch>=1.0.0->bert_score) (12.4.127)\n",
      "Requirement already satisfied: nvidia-cuda-cupti-cu12==12.4.127 in /usr/local/lib/python3.11/dist-packages (from torch>=1.0.0->bert_score) (12.4.127)\n",
      "Requirement already satisfied: nvidia-cudnn-cu12==9.1.0.70 in /usr/local/lib/python3.11/dist-packages (from torch>=1.0.0->bert_score) (9.1.0.70)\n",
      "Requirement already satisfied: nvidia-cublas-cu12==12.4.5.8 in /usr/local/lib/python3.11/dist-packages (from torch>=1.0.0->bert_score) (12.4.5.8)\n",
      "Requirement already satisfied: nvidia-cufft-cu12==11.2.1.3 in /usr/local/lib/python3.11/dist-packages (from torch>=1.0.0->bert_score) (11.2.1.3)\n",
      "Requirement already satisfied: nvidia-curand-cu12==10.3.5.147 in /usr/local/lib/python3.11/dist-packages (from torch>=1.0.0->bert_score) (10.3.5.147)\n",
      "Requirement already satisfied: nvidia-cusolver-cu12==11.6.1.9 in /usr/local/lib/python3.11/dist-packages (from torch>=1.0.0->bert_score) (11.6.1.9)\n",
      "Requirement already satisfied: nvidia-cusparse-cu12==12.3.1.170 in /usr/local/lib/python3.11/dist-packages (from torch>=1.0.0->bert_score) (12.3.1.170)\n",
      "Requirement already satisfied: nvidia-nccl-cu12==2.21.5 in /usr/local/lib/python3.11/dist-packages (from torch>=1.0.0->bert_score) (2.21.5)\n",
      "Requirement already satisfied: nvidia-nvtx-cu12==12.4.127 in /usr/local/lib/python3.11/dist-packages (from torch>=1.0.0->bert_score) (12.4.127)\n",
      "Requirement already satisfied: nvidia-nvjitlink-cu12==12.4.127 in /usr/local/lib/python3.11/dist-packages (from torch>=1.0.0->bert_score) (12.4.127)\n",
      "Requirement already satisfied: triton==3.1.0 in /usr/local/lib/python3.11/dist-packages (from torch>=1.0.0->bert_score) (3.1.0)\n",
      "Requirement already satisfied: sympy==1.13.1 in /usr/local/lib/python3.11/dist-packages (from torch>=1.0.0->bert_score) (1.13.1)\n",
      "Requirement already satisfied: mpmath<1.4,>=1.1.0 in /usr/local/lib/python3.11/dist-packages (from sympy==1.13.1->torch>=1.0.0->bert_score) (1.3.0)\n",
      "Requirement already satisfied: huggingface-hub<1.0,>=0.14.1 in /usr/local/lib/python3.11/dist-packages (from transformers>=3.0.0->bert_score) (0.19.4)\n",
      "Requirement already satisfied: pyyaml>=5.1 in /usr/local/lib/python3.11/dist-packages (from transformers>=3.0.0->bert_score) (6.0.2)\n",
      "Requirement already satisfied: regex!=2019.12.17 in /usr/local/lib/python3.11/dist-packages (from transformers>=3.0.0->bert_score) (2024.11.6)\n",
      "Requirement already satisfied: tokenizers!=0.11.3,<0.14,>=0.11.1 in /usr/local/lib/python3.11/dist-packages (from transformers>=3.0.0->bert_score) (0.13.3)\n",
      "Requirement already satisfied: safetensors>=0.3.1 in /usr/local/lib/python3.11/dist-packages (from transformers>=3.0.0->bert_score) (0.5.2)\n",
      "Requirement already satisfied: contourpy>=1.0.1 in /usr/local/lib/python3.11/dist-packages (from matplotlib->bert_score) (1.3.1)\n",
      "Requirement already satisfied: cycler>=0.10 in /usr/local/lib/python3.11/dist-packages (from matplotlib->bert_score) (0.12.1)\n",
      "Requirement already satisfied: fonttools>=4.22.0 in /usr/local/lib/python3.11/dist-packages (from matplotlib->bert_score) (4.56.0)\n",
      "Requirement already satisfied: kiwisolver>=1.0.1 in /usr/local/lib/python3.11/dist-packages (from matplotlib->bert_score) (1.4.8)\n",
      "Requirement already satisfied: pillow>=6.2.0 in /usr/local/lib/python3.11/dist-packages (from matplotlib->bert_score) (11.1.0)\n",
      "Requirement already satisfied: pyparsing>=2.3.1 in /usr/local/lib/python3.11/dist-packages (from matplotlib->bert_score) (3.2.1)\n",
      "Requirement already satisfied: charset-normalizer<4,>=2 in /usr/local/lib/python3.11/dist-packages (from requests->bert_score) (3.4.1)\n",
      "Requirement already satisfied: idna<4,>=2.5 in /usr/local/lib/python3.11/dist-packages (from requests->bert_score) (3.10)\n",
      "Requirement already satisfied: urllib3<3,>=1.21.1 in /usr/local/lib/python3.11/dist-packages (from requests->bert_score) (2.3.0)\n",
      "Requirement already satisfied: certifi>=2017.4.17 in /usr/local/lib/python3.11/dist-packages (from requests->bert_score) (2025.1.31)\n",
      "Requirement already satisfied: six>=1.5 in /usr/local/lib/python3.11/dist-packages (from python-dateutil>=2.8.2->pandas>=1.0.1->bert_score) (1.17.0)\n",
      "Requirement already satisfied: MarkupSafe>=2.0 in /usr/local/lib/python3.11/dist-packages (from jinja2->torch>=1.0.0->bert_score) (3.0.2)\n",
      "Requirement already satisfied: intel-openmp<2026,>=2024 in /usr/local/lib/python3.11/dist-packages (from mkl->numpy->bert_score) (2024.2.0)\n",
      "Requirement already satisfied: tbb==2022.* in /usr/local/lib/python3.11/dist-packages (from mkl->numpy->bert_score) (2022.1.0)\n",
      "Requirement already satisfied: tcmlib==1.* in /usr/local/lib/python3.11/dist-packages (from tbb==2022.*->mkl->numpy->bert_score) (1.2.0)\n",
      "Requirement already satisfied: intel-cmplr-lib-rt in /usr/local/lib/python3.11/dist-packages (from mkl_umath->numpy->bert_score) (2024.2.0)\n",
      "Requirement already satisfied: intel-cmplr-lib-ur==2024.2.0 in /usr/local/lib/python3.11/dist-packages (from intel-openmp<2026,>=2024->mkl->numpy->bert_score) (2024.2.0)\n",
      "Downloading bert_score-0.3.13-py3-none-any.whl (61 kB)\n",
      "\u001b[2K   \u001b[90m━━━━━━━━━━━━━━━━━━━━━━━━━━━━━━━━━━━━━━━━\u001b[0m \u001b[32m61.1/61.1 kB\u001b[0m \u001b[31m2.7 MB/s\u001b[0m eta \u001b[36m0:00:00\u001b[0m\n",
      "\u001b[?25hInstalling collected packages: bert_score\n",
      "Successfully installed bert_score-0.3.13\n"
     ]
    }
   ],
   "source": [
    "!pip install evaluate\n",
    "!pip install textstat\n",
    "!pip install rouge_score\n",
    "!pip install bert_score"
   ]
  },
  {
   "cell_type": "code",
   "execution_count": 22,
   "metadata": {
    "execution": {
     "iopub.execute_input": "2025-04-26T20:04:24.134716Z",
     "iopub.status.busy": "2025-04-26T20:04:24.133899Z",
     "iopub.status.idle": "2025-04-26T20:04:32.159882Z",
     "shell.execute_reply": "2025-04-26T20:04:32.159001Z",
     "shell.execute_reply.started": "2025-04-26T20:04:24.134686Z"
    }
   },
   "outputs": [
    {
     "name": "stdout",
     "output_type": "stream",
     "text": [
      "Collecting git+https://github.com/google-research/bleurt.git\n",
      "  Cloning https://github.com/google-research/bleurt.git to /tmp/pip-req-build-vcyk4am9\n",
      "  Running command git clone --filter=blob:none --quiet https://github.com/google-research/bleurt.git /tmp/pip-req-build-vcyk4am9\n",
      "  Resolved https://github.com/google-research/bleurt.git to commit cebe7e6f996b40910cfaa520a63db47807e3bf5c\n",
      "  Preparing metadata (setup.py) ... \u001b[?25l\u001b[?25hdone\n",
      "Requirement already satisfied: pandas in /usr/local/lib/python3.11/dist-packages (from BLEURT==0.0.2) (2.2.3)\n",
      "Requirement already satisfied: numpy in /usr/local/lib/python3.11/dist-packages (from BLEURT==0.0.2) (1.26.4)\n",
      "Requirement already satisfied: scipy in /usr/local/lib/python3.11/dist-packages (from BLEURT==0.0.2) (1.15.2)\n",
      "Requirement already satisfied: tensorflow in /usr/local/lib/python3.11/dist-packages (from BLEURT==0.0.2) (2.18.0)\n",
      "Requirement already satisfied: tf-slim>=1.1 in /usr/local/lib/python3.11/dist-packages (from BLEURT==0.0.2) (1.1.0)\n",
      "Requirement already satisfied: sentencepiece in /usr/local/lib/python3.11/dist-packages (from BLEURT==0.0.2) (0.2.0)\n",
      "Requirement already satisfied: absl-py>=0.2.2 in /usr/local/lib/python3.11/dist-packages (from tf-slim>=1.1->BLEURT==0.0.2) (1.4.0)\n",
      "Requirement already satisfied: mkl_fft in /usr/local/lib/python3.11/dist-packages (from numpy->BLEURT==0.0.2) (1.3.8)\n",
      "Requirement already satisfied: mkl_random in /usr/local/lib/python3.11/dist-packages (from numpy->BLEURT==0.0.2) (1.2.4)\n",
      "Requirement already satisfied: mkl_umath in /usr/local/lib/python3.11/dist-packages (from numpy->BLEURT==0.0.2) (0.1.1)\n",
      "Requirement already satisfied: mkl in /usr/local/lib/python3.11/dist-packages (from numpy->BLEURT==0.0.2) (2025.1.0)\n",
      "Requirement already satisfied: tbb4py in /usr/local/lib/python3.11/dist-packages (from numpy->BLEURT==0.0.2) (2022.1.0)\n",
      "Requirement already satisfied: mkl-service in /usr/local/lib/python3.11/dist-packages (from numpy->BLEURT==0.0.2) (2.4.1)\n",
      "Requirement already satisfied: python-dateutil>=2.8.2 in /usr/local/lib/python3.11/dist-packages (from pandas->BLEURT==0.0.2) (2.9.0.post0)\n",
      "Requirement already satisfied: pytz>=2020.1 in /usr/local/lib/python3.11/dist-packages (from pandas->BLEURT==0.0.2) (2025.2)\n",
      "Requirement already satisfied: tzdata>=2022.7 in /usr/local/lib/python3.11/dist-packages (from pandas->BLEURT==0.0.2) (2025.2)\n",
      "Requirement already satisfied: astunparse>=1.6.0 in /usr/local/lib/python3.11/dist-packages (from tensorflow->BLEURT==0.0.2) (1.6.3)\n",
      "Requirement already satisfied: flatbuffers>=24.3.25 in /usr/local/lib/python3.11/dist-packages (from tensorflow->BLEURT==0.0.2) (25.2.10)\n",
      "Requirement already satisfied: gast!=0.5.0,!=0.5.1,!=0.5.2,>=0.2.1 in /usr/local/lib/python3.11/dist-packages (from tensorflow->BLEURT==0.0.2) (0.6.0)\n",
      "Requirement already satisfied: google-pasta>=0.1.1 in /usr/local/lib/python3.11/dist-packages (from tensorflow->BLEURT==0.0.2) (0.2.0)\n",
      "Requirement already satisfied: libclang>=13.0.0 in /usr/local/lib/python3.11/dist-packages (from tensorflow->BLEURT==0.0.2) (18.1.1)\n",
      "Requirement already satisfied: opt-einsum>=2.3.2 in /usr/local/lib/python3.11/dist-packages (from tensorflow->BLEURT==0.0.2) (3.4.0)\n",
      "Requirement already satisfied: packaging in /usr/local/lib/python3.11/dist-packages (from tensorflow->BLEURT==0.0.2) (24.2)\n",
      "Requirement already satisfied: protobuf!=4.21.0,!=4.21.1,!=4.21.2,!=4.21.3,!=4.21.4,!=4.21.5,<6.0.0dev,>=3.20.3 in /usr/local/lib/python3.11/dist-packages (from tensorflow->BLEURT==0.0.2) (3.20.3)\n",
      "Requirement already satisfied: requests<3,>=2.21.0 in /usr/local/lib/python3.11/dist-packages (from tensorflow->BLEURT==0.0.2) (2.32.3)\n",
      "Requirement already satisfied: setuptools in /usr/local/lib/python3.11/dist-packages (from tensorflow->BLEURT==0.0.2) (75.1.0)\n",
      "Requirement already satisfied: six>=1.12.0 in /usr/local/lib/python3.11/dist-packages (from tensorflow->BLEURT==0.0.2) (1.17.0)\n",
      "Requirement already satisfied: termcolor>=1.1.0 in /usr/local/lib/python3.11/dist-packages (from tensorflow->BLEURT==0.0.2) (2.5.0)\n",
      "Requirement already satisfied: typing-extensions>=3.6.6 in /usr/local/lib/python3.11/dist-packages (from tensorflow->BLEURT==0.0.2) (4.13.1)\n",
      "Requirement already satisfied: wrapt>=1.11.0 in /usr/local/lib/python3.11/dist-packages (from tensorflow->BLEURT==0.0.2) (1.17.2)\n",
      "Requirement already satisfied: grpcio<2.0,>=1.24.3 in /usr/local/lib/python3.11/dist-packages (from tensorflow->BLEURT==0.0.2) (1.70.0)\n",
      "Requirement already satisfied: tensorboard<2.19,>=2.18 in /usr/local/lib/python3.11/dist-packages (from tensorflow->BLEURT==0.0.2) (2.18.0)\n",
      "Requirement already satisfied: keras>=3.5.0 in /usr/local/lib/python3.11/dist-packages (from tensorflow->BLEURT==0.0.2) (3.5.0)\n",
      "Requirement already satisfied: h5py>=3.11.0 in /usr/local/lib/python3.11/dist-packages (from tensorflow->BLEURT==0.0.2) (3.12.1)\n",
      "Requirement already satisfied: ml-dtypes<0.5.0,>=0.4.0 in /usr/local/lib/python3.11/dist-packages (from tensorflow->BLEURT==0.0.2) (0.4.1)\n",
      "Requirement already satisfied: tensorflow-io-gcs-filesystem>=0.23.1 in /usr/local/lib/python3.11/dist-packages (from tensorflow->BLEURT==0.0.2) (0.37.1)\n",
      "Requirement already satisfied: wheel<1.0,>=0.23.0 in /usr/local/lib/python3.11/dist-packages (from astunparse>=1.6.0->tensorflow->BLEURT==0.0.2) (0.45.1)\n",
      "Requirement already satisfied: rich in /usr/local/lib/python3.11/dist-packages (from keras>=3.5.0->tensorflow->BLEURT==0.0.2) (14.0.0)\n",
      "Requirement already satisfied: namex in /usr/local/lib/python3.11/dist-packages (from keras>=3.5.0->tensorflow->BLEURT==0.0.2) (0.0.8)\n",
      "Requirement already satisfied: optree in /usr/local/lib/python3.11/dist-packages (from keras>=3.5.0->tensorflow->BLEURT==0.0.2) (0.14.0)\n",
      "Requirement already satisfied: charset-normalizer<4,>=2 in /usr/local/lib/python3.11/dist-packages (from requests<3,>=2.21.0->tensorflow->BLEURT==0.0.2) (3.4.1)\n",
      "Requirement already satisfied: idna<4,>=2.5 in /usr/local/lib/python3.11/dist-packages (from requests<3,>=2.21.0->tensorflow->BLEURT==0.0.2) (3.10)\n",
      "Requirement already satisfied: urllib3<3,>=1.21.1 in /usr/local/lib/python3.11/dist-packages (from requests<3,>=2.21.0->tensorflow->BLEURT==0.0.2) (2.3.0)\n",
      "Requirement already satisfied: certifi>=2017.4.17 in /usr/local/lib/python3.11/dist-packages (from requests<3,>=2.21.0->tensorflow->BLEURT==0.0.2) (2025.1.31)\n",
      "Requirement already satisfied: markdown>=2.6.8 in /usr/local/lib/python3.11/dist-packages (from tensorboard<2.19,>=2.18->tensorflow->BLEURT==0.0.2) (3.7)\n",
      "Requirement already satisfied: tensorboard-data-server<0.8.0,>=0.7.0 in /usr/local/lib/python3.11/dist-packages (from tensorboard<2.19,>=2.18->tensorflow->BLEURT==0.0.2) (0.7.2)\n",
      "Requirement already satisfied: werkzeug>=1.0.1 in /usr/local/lib/python3.11/dist-packages (from tensorboard<2.19,>=2.18->tensorflow->BLEURT==0.0.2) (3.1.3)\n",
      "Requirement already satisfied: intel-openmp<2026,>=2024 in /usr/local/lib/python3.11/dist-packages (from mkl->numpy->BLEURT==0.0.2) (2024.2.0)\n",
      "Requirement already satisfied: tbb==2022.* in /usr/local/lib/python3.11/dist-packages (from mkl->numpy->BLEURT==0.0.2) (2022.1.0)\n",
      "Requirement already satisfied: tcmlib==1.* in /usr/local/lib/python3.11/dist-packages (from tbb==2022.*->mkl->numpy->BLEURT==0.0.2) (1.2.0)\n",
      "Requirement already satisfied: intel-cmplr-lib-rt in /usr/local/lib/python3.11/dist-packages (from mkl_umath->numpy->BLEURT==0.0.2) (2024.2.0)\n",
      "Requirement already satisfied: intel-cmplr-lib-ur==2024.2.0 in /usr/local/lib/python3.11/dist-packages (from intel-openmp<2026,>=2024->mkl->numpy->BLEURT==0.0.2) (2024.2.0)\n",
      "Requirement already satisfied: MarkupSafe>=2.1.1 in /usr/local/lib/python3.11/dist-packages (from werkzeug>=1.0.1->tensorboard<2.19,>=2.18->tensorflow->BLEURT==0.0.2) (3.0.2)\n",
      "Requirement already satisfied: markdown-it-py>=2.2.0 in /usr/local/lib/python3.11/dist-packages (from rich->keras>=3.5.0->tensorflow->BLEURT==0.0.2) (3.0.0)\n",
      "Requirement already satisfied: pygments<3.0.0,>=2.13.0 in /usr/local/lib/python3.11/dist-packages (from rich->keras>=3.5.0->tensorflow->BLEURT==0.0.2) (2.19.1)\n",
      "Requirement already satisfied: mdurl~=0.1 in /usr/local/lib/python3.11/dist-packages (from markdown-it-py>=2.2.0->rich->keras>=3.5.0->tensorflow->BLEURT==0.0.2) (0.1.2)\n",
      "Building wheels for collected packages: BLEURT\n",
      "  Building wheel for BLEURT (setup.py) ... \u001b[?25l\u001b[?25hdone\n",
      "  Created wheel for BLEURT: filename=BLEURT-0.0.2-py3-none-any.whl size=16456764 sha256=825feac3cc3a6ae43165e4a6b9ecfeba91d77cd6057a2a846da93b29ed419b65\n",
      "  Stored in directory: /tmp/pip-ephem-wheel-cache-76pshcus/wheels/30/af/34/e148007788b060e4c76e7ecf68e70c692dff0f2632e62ac454\n",
      "Successfully built BLEURT\n",
      "Installing collected packages: BLEURT\n",
      "Successfully installed BLEURT-0.0.2\n",
      "Note: you may need to restart the kernel to use updated packages.\n"
     ]
    }
   ],
   "source": [
    "pip install git+https://github.com/google-research/bleurt.git"
   ]
  },
  {
   "cell_type": "code",
   "execution_count": 23,
   "metadata": {
    "execution": {
     "iopub.execute_input": "2025-04-26T20:04:36.214976Z",
     "iopub.status.busy": "2025-04-26T20:04:36.214694Z",
     "iopub.status.idle": "2025-04-26T20:04:36.512777Z",
     "shell.execute_reply": "2025-04-26T20:04:36.511948Z",
     "shell.execute_reply.started": "2025-04-26T20:04:36.214954Z"
    }
   },
   "outputs": [],
   "source": [
    "import torch, gc\n",
    "gc.collect()\n",
    "torch.cuda.empty_cache()\n",
    "torch.cuda.empty_cache()\n"
   ]
  },
  {
   "cell_type": "markdown",
   "metadata": {},
   "source": [
    "### Abstractive Summarization Model "
   ]
  },
  {
   "cell_type": "code",
   "execution_count": 24,
   "metadata": {
    "execution": {
     "iopub.execute_input": "2025-04-26T20:05:58.850333Z",
     "iopub.status.busy": "2025-04-26T20:05:58.849844Z",
     "iopub.status.idle": "2025-04-26T20:06:12.903136Z",
     "shell.execute_reply": "2025-04-26T20:06:12.902379Z",
     "shell.execute_reply.started": "2025-04-26T20:05:58.850311Z"
    }
   },
   "outputs": [
    {
     "name": "stderr",
     "output_type": "stream",
     "text": [
      "2025-04-26 20:06:00.538608: E external/local_xla/xla/stream_executor/cuda/cuda_fft.cc:477] Unable to register cuFFT factory: Attempting to register factory for plugin cuFFT when one has already been registered\n",
      "WARNING: All log messages before absl::InitializeLog() is called are written to STDERR\n",
      "E0000 00:00:1745697960.746128      31 cuda_dnn.cc:8310] Unable to register cuDNN factory: Attempting to register factory for plugin cuDNN when one has already been registered\n",
      "E0000 00:00:1745697960.805786      31 cuda_blas.cc:1418] Unable to register cuBLAS factory: Attempting to register factory for plugin cuBLAS when one has already been registered\n"
     ]
    }
   ],
   "source": [
    "import torch\n",
    "import torch.nn as nn\n",
    "from torch.utils.data import Dataset, DataLoader\n",
    "from transformers import (AutoModelForSeq2SeqLM, T5ForConditionalGeneration, BartTokenizer,\n",
    "                          AdamW, get_scheduler)\n",
    "from tqdm import tqdm\n",
    "import evaluate\n",
    "\n",
    "class SummarizationModel(nn.Module):\n",
    "    def __init__(self):\n",
    "        super().__init__()\n",
    "        self.model = AutoModelForSeq2SeqLM.from_pretrained(\"facebook/bart-large-cnn\")\n",
    "\n",
    "    def forward(self, input_ids, attention_mask, labels=None):\n",
    "        return self.model(input_ids=input_ids, attention_mask=attention_mask, labels=labels)\n",
    "\n",
    "    def generate(self, input_ids, attention_mask, **kwargs):\n",
    "        return self.model.generate(input_ids=input_ids, attention_mask=attention_mask, **kwargs)\n",
    "\n",
    "\n",
    "\n",
    "class SummarizationDataset(Dataset):\n",
    "    def __init__(self, docs, summaries, tokenizer, max_input_len=1024, max_target_len=256):\n",
    "        self.data = []\n",
    "        for doc, summary in zip(docs, summaries):\n",
    "            src = tokenizer(doc, max_length=max_input_len, padding=\"max_length\", truncation=True)\n",
    "            tgt = tokenizer(summary, max_length=max_target_len, padding=\"max_length\", truncation=True)\n",
    "            self.data.append({\n",
    "                \"input_ids\": torch.tensor(src[\"input_ids\"]),\n",
    "                \"attention_mask\": torch.tensor(src[\"attention_mask\"]),\n",
    "                \"labels\": torch.tensor(tgt[\"input_ids\"])\n",
    "            })\n",
    "\n",
    "    def __len__(self):\n",
    "        return len(self.data)\n",
    "\n",
    "    def __getitem__(self, idx):\n",
    "        return self.data[idx]\n",
    "\n"
   ]
  },
  {
   "cell_type": "markdown",
   "metadata": {},
   "source": [
    "### Trainging Function for the Abstractive Summarization"
   ]
  },
  {
   "cell_type": "code",
   "execution_count": 25,
   "metadata": {
    "execution": {
     "iopub.execute_input": "2025-04-26T20:06:16.065963Z",
     "iopub.status.busy": "2025-04-26T20:06:16.065272Z",
     "iopub.status.idle": "2025-04-26T20:06:33.746608Z",
     "shell.execute_reply": "2025-04-26T20:06:33.745985Z",
     "shell.execute_reply.started": "2025-04-26T20:06:16.065941Z"
    }
   },
   "outputs": [
    {
     "data": {
      "application/vnd.jupyter.widget-view+json": {
       "model_id": "7f67133690a84336892d4eb081d1c507",
       "version_major": 2,
       "version_minor": 0
      },
      "text/plain": [
       "Downloading builder script:   0%|          | 0.00/6.27k [00:00<?, ?B/s]"
      ]
     },
     "metadata": {},
     "output_type": "display_data"
    },
    {
     "data": {
      "application/vnd.jupyter.widget-view+json": {
       "model_id": "61b4e7b3efce4ee49f15ea200efc6b00",
       "version_major": 2,
       "version_minor": 0
      },
      "text/plain": [
       "Downloading builder script:   0%|          | 0.00/7.95k [00:00<?, ?B/s]"
      ]
     },
     "metadata": {},
     "output_type": "display_data"
    },
    {
     "data": {
      "application/vnd.jupyter.widget-view+json": {
       "model_id": "94ef72847ca14a7991896a007a214f24",
       "version_major": 2,
       "version_minor": 0
      },
      "text/plain": [
       "Downloading builder script:   0%|          | 0.00/5.20k [00:00<?, ?B/s]"
      ]
     },
     "metadata": {},
     "output_type": "display_data"
    },
    {
     "data": {
      "application/vnd.jupyter.widget-view+json": {
       "model_id": "123cad545efa413784c18dfe80d013bd",
       "version_major": 2,
       "version_minor": 0
      },
      "text/plain": [
       "Downloading data:   0%|          | 0.00/405M [00:00<?, ?B/s]"
      ]
     },
     "metadata": {},
     "output_type": "display_data"
    },
    {
     "name": "stderr",
     "output_type": "stream",
     "text": [
      "I0000 00:00:1745697989.717582      31 gpu_device.cc:2022] Created device /job:localhost/replica:0/task:0/device:GPU:0 with 15513 MB memory:  -> device: 0, name: Tesla P100-PCIE-16GB, pci bus id: 0000:00:04.0, compute capability: 6.0\n"
     ]
    }
   ],
   "source": [
    "def train_decoder(model, tokenizer, train_dataset, val_dataset, args):\n",
    "    device = torch.device(\"cuda\" if torch.cuda.is_available() else \"cpu\")\n",
    "    model.to(device)\n",
    "    optimizer = AdamW(model.parameters(), lr=args[\"learning_rate\"])\n",
    "    train_loader = DataLoader(train_dataset, batch_size=args[\"batch_size\"], shuffle=True)\n",
    "    val_loader = DataLoader(val_dataset, batch_size=1)\n",
    "\n",
    "    scheduler = get_scheduler(\"linear\", optimizer=optimizer,\n",
    "                              num_warmup_steps=args[\"warmup_steps\"],\n",
    "                              num_training_steps=args[\"num_epochs\"] * len(train_loader))\n",
    "\n",
    "    train_losses = []\n",
    "    val_losses = []\n",
    "\n",
    "    for epoch in range(args[\"num_epochs\"]):\n",
    "        model.train()\n",
    "        total_train_loss = 0\n",
    "        for batch in tqdm(train_loader, desc=f\"Epoch {epoch+1}/{args['num_epochs']} (Decoder)\"):\n",
    "            batch = {k: v.to(device) for k, v in batch.items()}\n",
    "            outputs = model(**batch)\n",
    "            loss = outputs.loss\n",
    "            loss.backward()\n",
    "            optimizer.step()\n",
    "            scheduler.step()\n",
    "            optimizer.zero_grad()\n",
    "            total_train_loss += loss.item()\n",
    "\n",
    "        avg_train_loss = total_train_loss / len(train_loader)\n",
    "        train_losses.append(avg_train_loss)\n",
    "        print(f\"Epoch {epoch+1} Train Loss: {avg_train_loss:.4f}\")\n",
    "\n",
    "       \n",
    "        model.eval()\n",
    "        total_val_loss = 0\n",
    "        with torch.no_grad():\n",
    "            for batch in val_loader:\n",
    "                batch = {k: v.to(device) for k, v in batch.items()}\n",
    "                outputs = model(**batch)\n",
    "                total_val_loss += outputs.loss.item()\n",
    "\n",
    "        avg_val_loss = total_val_loss / len(val_loader)\n",
    "        val_losses.append(avg_val_loss)\n",
    "        print(f\"Epoch {epoch+1} Validation Loss: {avg_val_loss:.4f}\")\n",
    "\n",
    "    return train_losses, val_losses\n",
    "\n",
    "\n",
    "\n",
    "rouge = evaluate.load(\"rouge\")\n",
    "bertscore = evaluate.load(\"bertscore\")\n",
    "bleurt = evaluate.load(\"bleurt\", module_type=\"metric\")\n",
    "\n",
    "def evaluate_model(model, tokenizer, dataloader, device):\n",
    "    model.eval()\n",
    "    preds, refs = [], []\n",
    "    with torch.no_grad():\n",
    "        for batch in tqdm(dataloader, desc=\"Evaluating\"):\n",
    "            input_ids = batch[\"input_ids\"].to(device)\n",
    "            attention_mask = batch[\"attention_mask\"].to(device)\n",
    "            labels = batch[\"labels\"].to(device)\n",
    "\n",
    "            gen_ids = model.generate(input_ids, attention_mask, max_length=256, num_beams=6, early_stopping=True)\n",
    "            pred = tokenizer.decode(gen_ids[0], skip_special_tokens=True)\n",
    "            ref = tokenizer.decode(labels[0], skip_special_tokens=True)\n",
    "\n",
    "            preds.append(pred)\n",
    "            refs.append(ref)\n",
    "\n",
    "    rouge_result = rouge.compute(predictions=preds, references=refs)\n",
    "    bert_result = bertscore.compute(predictions=preds, references=refs, lang=\"en\")\n",
    "    bleurt_result = bleurt.compute(predictions=preds, references=refs)\n",
    "\n",
    "    return {\n",
    "        \"rouge1\": rouge_result[\"rouge1\"],\n",
    "        \"rouge2\": rouge_result[\"rouge2\"],\n",
    "        \"rougeL\": rouge_result[\"rougeL\"],\n",
    "        \"bertscore_f1\": sum(bert_result[\"f1\"]) / len(bert_result[\"f1\"]),\n",
    "        \"bleurt_score\": sum(bleurt_result[\"scores\"]) / len(bleurt_result[\"scores\"])\n",
    "    }\n"
   ]
  },
  {
   "cell_type": "code",
   "execution_count": 28,
   "metadata": {
    "execution": {
     "iopub.execute_input": "2025-04-26T20:06:44.257841Z",
     "iopub.status.busy": "2025-04-26T20:06:44.257157Z",
     "iopub.status.idle": "2025-04-26T20:06:44.262077Z",
     "shell.execute_reply": "2025-04-26T20:06:44.261299Z",
     "shell.execute_reply.started": "2025-04-26T20:06:44.257810Z"
    }
   },
   "outputs": [],
   "source": [
    "from transformers import T5Tokenizer\n"
   ]
  },
  {
   "cell_type": "code",
   "execution_count": 29,
   "metadata": {
    "execution": {
     "iopub.execute_input": "2025-04-26T20:06:46.033772Z",
     "iopub.status.busy": "2025-04-26T20:06:46.033498Z",
     "iopub.status.idle": "2025-04-26T20:07:25.413230Z",
     "shell.execute_reply": "2025-04-26T20:07:25.412633Z",
     "shell.execute_reply.started": "2025-04-26T20:06:46.033752Z"
    }
   },
   "outputs": [
    {
     "data": {
      "application/vnd.jupyter.widget-view+json": {
       "model_id": "458a41d2054b488f8e0d6aa3280c72ab",
       "version_major": 2,
       "version_minor": 0
      },
      "text/plain": [
       "vocab.json:   0%|          | 0.00/899k [00:00<?, ?B/s]"
      ]
     },
     "metadata": {},
     "output_type": "display_data"
    },
    {
     "data": {
      "application/vnd.jupyter.widget-view+json": {
       "model_id": "a072898acc0249aaa828600942a87cf9",
       "version_major": 2,
       "version_minor": 0
      },
      "text/plain": [
       "merges.txt:   0%|          | 0.00/456k [00:00<?, ?B/s]"
      ]
     },
     "metadata": {},
     "output_type": "display_data"
    },
    {
     "data": {
      "application/vnd.jupyter.widget-view+json": {
       "model_id": "aac3bdbb073646ac8ec8500d556b98b9",
       "version_major": 2,
       "version_minor": 0
      },
      "text/plain": [
       "config.json:   0%|          | 0.00/1.58k [00:00<?, ?B/s]"
      ]
     },
     "metadata": {},
     "output_type": "display_data"
    },
    {
     "data": {
      "application/vnd.jupyter.widget-view+json": {
       "model_id": "043dbdf4787e4b4e9ad077b77bc21bab",
       "version_major": 2,
       "version_minor": 0
      },
      "text/plain": [
       "model.safetensors:   0%|          | 0.00/1.63G [00:00<?, ?B/s]"
      ]
     },
     "metadata": {},
     "output_type": "display_data"
    },
    {
     "data": {
      "application/vnd.jupyter.widget-view+json": {
       "model_id": "0a31db050f764b80816d99d86f8fa580",
       "version_major": 2,
       "version_minor": 0
      },
      "text/plain": [
       "generation_config.json:   0%|          | 0.00/363 [00:00<?, ?B/s]"
      ]
     },
     "metadata": {},
     "output_type": "display_data"
    },
    {
     "data": {
      "application/vnd.jupyter.widget-view+json": {
       "model_id": "3282a252933c4292b0c1b7e2b430ea32",
       "version_major": 2,
       "version_minor": 0
      },
      "text/plain": [
       "spiece.model:   0%|          | 0.00/792k [00:00<?, ?B/s]"
      ]
     },
     "metadata": {},
     "output_type": "display_data"
    },
    {
     "data": {
      "application/vnd.jupyter.widget-view+json": {
       "model_id": "ee95624afcac48258f2e2aee40f1a0fe",
       "version_major": 2,
       "version_minor": 0
      },
      "text/plain": [
       "config.json:   0%|          | 0.00/1.21k [00:00<?, ?B/s]"
      ]
     },
     "metadata": {},
     "output_type": "display_data"
    },
    {
     "name": "stderr",
     "output_type": "stream",
     "text": [
      "/usr/local/lib/python3.11/dist-packages/transformers/models/t5/tokenization_t5.py:163: FutureWarning: This tokenizer was incorrectly instantiated with a model max length of 512 which will be corrected in Transformers v5.\n",
      "For now, this behavior is kept to avoid breaking backwards compatibility when padding/encoding with `truncation is True`.\n",
      "- Be aware that you SHOULD NOT rely on t5-base automatically truncating your input to 512 when padding/encoding.\n",
      "- If you want to encode/pad to sequences longer than 512 you can either instantiate this tokenizer with `model_max_length` or pass `max_length` when encoding/padding.\n",
      "- To avoid this warning, please instantiate this tokenizer with `model_max_length` set to your preferred value.\n",
      "  warnings.warn(\n"
     ]
    },
    {
     "data": {
      "application/vnd.jupyter.widget-view+json": {
       "model_id": "0536ebe968d64974a4dd70f2e3bcf848",
       "version_major": 2,
       "version_minor": 0
      },
      "text/plain": [
       "config.json:   0%|          | 0.00/1.21k [00:00<?, ?B/s]"
      ]
     },
     "metadata": {},
     "output_type": "display_data"
    },
    {
     "data": {
      "application/vnd.jupyter.widget-view+json": {
       "model_id": "681580668446468fbf77261f4e9a0f8a",
       "version_major": 2,
       "version_minor": 0
      },
      "text/plain": [
       "model.safetensors:   0%|          | 0.00/2.95G [00:00<?, ?B/s]"
      ]
     },
     "metadata": {},
     "output_type": "display_data"
    },
    {
     "data": {
      "application/vnd.jupyter.widget-view+json": {
       "model_id": "84eefbfc58d947b29e3378df09324a9c",
       "version_major": 2,
       "version_minor": 0
      },
      "text/plain": [
       "generation_config.json:   0%|          | 0.00/147 [00:00<?, ?B/s]"
      ]
     },
     "metadata": {},
     "output_type": "display_data"
    }
   ],
   "source": [
    "device = torch.device(\"cuda\" if torch.cuda.is_available() else \"cpu\")\n",
    "\n",
    "# Decoder (BART)\n",
    "decoder_tokenizer = BartTokenizer.from_pretrained(\"facebook/bart-large-cnn\")\n",
    "decoder_model = SummarizationModel().to(device)\n",
    "\n",
    "# Rewriter (T5)\n",
    "rewriter_tokenizer = T5Tokenizer.from_pretrained(\"t5-base\")\n",
    "rewriter_model = RewriterModel().to(device)\n"
   ]
  },
  {
   "cell_type": "markdown",
   "metadata": {},
   "source": [
    "### Preparing the dataset for the Abstractive summarization"
   ]
  },
  {
   "cell_type": "code",
   "execution_count": 30,
   "metadata": {
    "execution": {
     "iopub.execute_input": "2025-04-26T20:07:25.414849Z",
     "iopub.status.busy": "2025-04-26T20:07:25.414328Z",
     "iopub.status.idle": "2025-04-26T20:08:34.255469Z",
     "shell.execute_reply": "2025-04-26T20:08:34.254591Z",
     "shell.execute_reply.started": "2025-04-26T20:07:25.414826Z"
    }
   },
   "outputs": [],
   "source": [
    "train_dataset = SummarizationDataset(\n",
    "    docs=train_data_small[\"document\"],\n",
    "    summaries=train_data_small[\"summary\"],\n",
    "    tokenizer=decoder_tokenizer\n",
    ")\n",
    "\n",
    "val_dataset = SummarizationDataset(\n",
    "    docs=val_data_small[\"document\"],\n",
    "    summaries=val_data_small[\"summary\"],\n",
    "    tokenizer=decoder_tokenizer\n",
    ")"
   ]
  },
  {
   "cell_type": "markdown",
   "metadata": {},
   "source": [
    "### Training of the Abstractive Summarization"
   ]
  },
  {
   "cell_type": "code",
   "execution_count": 31,
   "metadata": {
    "execution": {
     "iopub.execute_input": "2025-04-26T20:08:37.238050Z",
     "iopub.status.busy": "2025-04-26T20:08:37.237515Z",
     "iopub.status.idle": "2025-04-26T22:34:49.836795Z",
     "shell.execute_reply": "2025-04-26T22:34:49.835895Z",
     "shell.execute_reply.started": "2025-04-26T20:08:37.238026Z"
    }
   },
   "outputs": [
    {
     "name": "stderr",
     "output_type": "stream",
     "text": [
      "/usr/local/lib/python3.11/dist-packages/transformers/optimization.py:411: FutureWarning: This implementation of AdamW is deprecated and will be removed in a future version. Use the PyTorch implementation torch.optim.AdamW instead, or set `no_deprecation_warning=True` to disable this warning\n",
      "  warnings.warn(\n",
      "Epoch 1/5 (Decoder): 100%|██████████| 2500/2500 [27:22<00:00,  1.52it/s]\n"
     ]
    },
    {
     "name": "stdout",
     "output_type": "stream",
     "text": [
      "Epoch 1 Train Loss: 1.9844\n",
      "Epoch 1 Validation Loss: 1.8507\n"
     ]
    },
    {
     "name": "stderr",
     "output_type": "stream",
     "text": [
      "Epoch 2/5 (Decoder): 100%|██████████| 2500/2500 [27:22<00:00,  1.52it/s]\n"
     ]
    },
    {
     "name": "stdout",
     "output_type": "stream",
     "text": [
      "Epoch 2 Train Loss: 1.5514\n",
      "Epoch 2 Validation Loss: 1.8403\n"
     ]
    },
    {
     "name": "stderr",
     "output_type": "stream",
     "text": [
      "Epoch 3/5 (Decoder): 100%|██████████| 2500/2500 [27:24<00:00,  1.52it/s]\n"
     ]
    },
    {
     "name": "stdout",
     "output_type": "stream",
     "text": [
      "Epoch 3 Train Loss: 1.3992\n",
      "Epoch 3 Validation Loss: 1.9107\n"
     ]
    },
    {
     "name": "stderr",
     "output_type": "stream",
     "text": [
      "Epoch 4/5 (Decoder): 100%|██████████| 2500/2500 [27:24<00:00,  1.52it/s]\n"
     ]
    },
    {
     "name": "stdout",
     "output_type": "stream",
     "text": [
      "Epoch 4 Train Loss: 1.0078\n",
      "Epoch 4 Validation Loss: 2.0202\n"
     ]
    },
    {
     "name": "stderr",
     "output_type": "stream",
     "text": [
      "Epoch 5/5 (Decoder): 100%|██████████| 2500/2500 [27:23<00:00,  1.52it/s]\n"
     ]
    },
    {
     "name": "stdout",
     "output_type": "stream",
     "text": [
      "Epoch 5 Train Loss: 0.8080\n",
      "Epoch 5 Validation Loss: 2.1403\n"
     ]
    }
   ],
   "source": [
    "args = {\n",
    "    \"batch_size\": 2,\n",
    "    \"learning_rate\": 5e-5,\n",
    "    \"num_epochs\": 5,\n",
    "    \"warmup_steps\": 100\n",
    "}\n",
    "\n",
    "decoder_train_losses, decoder_val_losses = train_decoder(decoder_model, decoder_tokenizer, train_dataset, val_dataset, args)\n",
    "\n"
   ]
  },
  {
   "cell_type": "code",
   "execution_count": 32,
   "metadata": {
    "execution": {
     "iopub.execute_input": "2025-04-26T22:34:49.838819Z",
     "iopub.status.busy": "2025-04-26T22:34:49.838618Z",
     "iopub.status.idle": "2025-04-26T22:34:50.052402Z",
     "shell.execute_reply": "2025-04-26T22:34:50.051852Z",
     "shell.execute_reply.started": "2025-04-26T22:34:49.838804Z"
    }
   },
   "outputs": [
    {
     "data": {
      "image/png": "[encoded data removed]",
      "text/plain": [
       "<Figure size 800x500 with 1 Axes>"
      ]
     },
     "metadata": {},
     "output_type": "display_data"
    }
   ],
   "source": [
    "import matplotlib.pyplot as plt\n",
    "\n",
    "epochs = list(range(1, len(decoder_train_losses) + 1))\n",
    "\n",
    "plt.figure(figsize=(8, 5))\n",
    "plt.plot(epochs, decoder_train_losses, label='Decoder Train Loss', marker='o')\n",
    "plt.plot(epochs, decoder_val_losses, label='Decoder Validation Loss', marker='s')\n",
    "plt.title(\"Decoder Training vsValidation Loss\")\n",
    "plt.ylabel(\"Loss\")\n",
    "plt.legend()\n",
    "plt.grid(True)\n",
    "plt.tight_layout()\n",
    "plt.show()"
   ]
  },
  {
   "cell_type": "markdown",
   "metadata": {},
   "source": [
    "\n",
    "* The decoder shows impressive learning with a sharp drop in training loss over just 5 epochs.\n",
    "* Despite a rising validation loss, the model demonstrates strong training efficiency and potential for further tuning.\n"
   ]
  },
  {
   "cell_type": "markdown",
   "metadata": {},
   "source": [
    "### Saving the Abstractive Summarization"
   ]
  },
  {
   "cell_type": "code",
   "execution_count": 25,
   "metadata": {
    "execution": {
     "iopub.execute_input": "2025-04-25T17:27:23.617539Z",
     "iopub.status.busy": "2025-04-25T17:27:23.617219Z",
     "iopub.status.idle": "2025-04-25T17:27:25.754765Z",
     "shell.execute_reply": "2025-04-25T17:27:25.754128Z",
     "shell.execute_reply.started": "2025-04-25T17:27:23.617517Z"
    }
   },
   "outputs": [
    {
     "data": {
      "text/plain": [
       "('/kaggle/working/decoder_model_final/tokenizer_config.json',\n",
       " '/kaggle/working/decoder_model_final/special_tokens_map.json',\n",
       " '/kaggle/working/decoder_model_final/vocab.json',\n",
       " '/kaggle/working/decoder_model_final/merges.txt',\n",
       " '/kaggle/working/decoder_model_final/added_tokens.json')"
      ]
     },
     "execution_count": 25,
     "metadata": {},
     "output_type": "execute_result"
    }
   ],
   "source": [
    "decoder_model.model.save_pretrained(\"/kaggle/working/decoder_model_final\")\n",
    "decoder_tokenizer.save_pretrained(\"/kaggle/working/decoder_model_final\")\n"
   ]
  },
  {
   "cell_type": "markdown",
   "metadata": {},
   "source": [
    "### Generating the Decoder Outputs on train data Used as the dataset for the Rewriter"
   ]
  },
  {
   "cell_type": "code",
   "execution_count": 39,
   "metadata": {
    "execution": {
     "iopub.execute_input": "2025-04-27T02:02:22.564338Z",
     "iopub.status.busy": "2025-04-27T02:02:22.564066Z",
     "iopub.status.idle": "2025-04-27T04:41:28.861905Z",
     "shell.execute_reply": "2025-04-27T04:41:28.861150Z",
     "shell.execute_reply.started": "2025-04-27T02:02:22.564316Z"
    }
   },
   "outputs": [
    {
     "name": "stderr",
     "output_type": "stream",
     "text": [
      "Generating: 100%|██████████| 2500/2500 [2:39:06<00:00,  3.82s/it]  \n"
     ]
    }
   ],
   "source": [
    "from tqdm import tqdm\n",
    "\n",
    "generated_examples = []\n",
    "\n",
    "loader = DataLoader(train_dataset, batch_size=2)\n",
    "decoder_model.eval()\n",
    "\n",
    "with torch.no_grad():\n",
    "    for batch in tqdm(loader, desc=\"Generating\"):\n",
    "        input_ids = batch[\"input_ids\"].to(device)\n",
    "        attention_mask = batch[\"attention_mask\"].to(device)\n",
    "        labels = batch[\"labels\"].to(device)\n",
    "\n",
    "        output_ids = decoder_model.generate(input_ids=input_ids, attention_mask=attention_mask, max_length=256)\n",
    "        generated = decoder_tokenizer.decode(output_ids[0], skip_special_tokens=True)\n",
    "        reference = decoder_tokenizer.decode(labels[0], skip_special_tokens=True)\n",
    "\n",
    "        generated_examples.append({\"generated\": generated, \"summary\": reference})\n"
   ]
  },
  {
   "cell_type": "markdown",
   "metadata": {},
   "source": [
    "### Evaluating Function for the Evaluation Metrics "
   ]
  },
  {
   "cell_type": "code",
   "execution_count": null,
   "metadata": {},
   "outputs": [],
   "source": [
    "import evaluate\n",
    "\n",
    "rouge = evaluate.load(\"rouge\")\n",
    "bertscore = evaluate.load(\"bertscore\")\n",
    "bleurt = evaluate.load(\"bleurt\", module_type=\"metric\")\n",
    "\n",
    "def evaluate_outputs(preds, refs):\n",
    "    rouge_result = rouge.compute(predictions=preds, references=refs)\n",
    "    bert_result = bertscore.compute(predictions=preds, references=refs, lang=\"en\")\n",
    "    bleurt_result = bleurt.compute(predictions=preds, references=refs)\n",
    "\n",
    "    return {\n",
    "        \"rouge1\": rouge_result[\"rouge1\"],\n",
    "        \"rouge2\": rouge_result[\"rouge2\"],\n",
    "        \"rougeL\": rouge_result[\"rougeL\"],\n",
    "        \"bertscore_f1\": sum(bert_result[\"f1\"]) / len(bert_result[\"f1\"]),\n",
    "        \"bleurt_score\": sum(bleurt_result[\"scores\"]) / len(bleurt_result[\"scores\"])\n",
    "    }\n"
   ]
  },
  {
   "cell_type": "code",
   "execution_count": 70,
   "metadata": {
    "execution": {
     "iopub.execute_input": "2025-04-27T07:31:21.348383Z",
     "iopub.status.busy": "2025-04-27T07:31:21.347687Z",
     "iopub.status.idle": "2025-04-27T07:31:40.302249Z",
     "shell.execute_reply": "2025-04-27T07:31:40.301416Z",
     "shell.execute_reply.started": "2025-04-27T07:31:21.348360Z"
    }
   },
   "outputs": [
    {
     "name": "stdout",
     "output_type": "stream",
     "text": [
      " Decoder-Only Scores:\n",
      "rouge1: 0.4541\n",
      "rouge2: 0.1920\n",
      "rougeL: 0.2547\n",
      "rougeLsum: 0.2683\n"
     ]
    }
   ],
   "source": [
    "\n",
    "def evaluate_outputs(preds, refs):\n",
    "    results = {}\n",
    "    results.update(rouge.compute(predictions=preds, references=refs))\n",
    "    \n",
    "    return results\n",
    "print(\" Decoder-Only Scores:\")\n",
    "decoder_scores = evaluate_outputs(decoder_outputs, references)\n",
    "for k, v in decoder_scores.items():\n",
    "    print(f\"{k}: {v:.4f}\")"
   ]
  },
  {
   "cell_type": "markdown",
   "metadata": {},
   "source": [
    "These scores indicate the decoder is generating coherent, content-aligned summaries with solid structural fidelity."
   ]
  },
  {
   "cell_type": "markdown",
   "metadata": {},
   "source": [
    "### Testing Various Cases on the Decoder Model "
   ]
  },
  {
   "cell_type": "code",
   "execution_count": 45,
   "metadata": {
    "execution": {
     "iopub.execute_input": "2025-04-27T05:05:07.106202Z",
     "iopub.status.busy": "2025-04-27T05:05:07.105916Z",
     "iopub.status.idle": "2025-04-27T05:05:13.387386Z",
     "shell.execute_reply": "2025-04-27T05:05:13.386797Z",
     "shell.execute_reply.started": "2025-04-27T05:05:07.106182Z"
    }
   },
   "outputs": [
    {
     "name": "stderr",
     "output_type": "stream",
     "text": [
      "/usr/local/lib/python3.11/dist-packages/transformers/modeling_utils.py:463: FutureWarning: You are using `torch.load` with `weights_only=False` (the current default value), which uses the default pickle module implicitly. It is possible to construct malicious pickle data which will execute arbitrary code during unpickling (See https://github.com/pytorch/pytorch/blob/main/SECURITY.md#untrusted-models for more details). In a future release, the default value for `weights_only` will be flipped to `True`. This limits the functions that could be executed during unpickling. Arbitrary objects will no longer be allowed to be loaded via this mode unless they are explicitly allowlisted by the user via `torch.serialization.add_safe_globals`. We recommend you start setting `weights_only=True` for any use case where you don't have full control of the loaded file. Please open an issue on GitHub for any issues related to this experimental feature.\n",
      "  return torch.load(checkpoint_file, map_location=\"cpu\")\n"
     ]
    }
   ],
   "source": [
    "from transformers import AutoTokenizer, AutoModelForSeq2SeqLM, T5ForConditionalGeneration\n",
    "\n",
    "import torch\n",
    "\n",
    "\n",
    "device = torch.device(\"cuda\" if torch.cuda.is_available() else \"cpu\")\n",
    "\n",
    "\n",
    "decoder_tokenizer = AutoTokenizer.from_pretrained(\"/kaggle/working/decoder_model_final\")\n",
    "decoder_model = AutoModelForSeq2SeqLM.from_pretrained(\"/kaggle/working/decoder_model_final\").to(device)\n",
    "\n"
   ]
  },
  {
   "cell_type": "markdown",
   "metadata": {},
   "source": [
    "### Results of the Decoder Model"
   ]
  },
  {
   "cell_type": "code",
   "execution_count": null,
   "metadata": {},
   "outputs": [],
   "source": [
    "def summarize_and_rewrite(document_text):\n",
    "\n",
    "    input_enc = decoder_tokenizer(\n",
    "        document_text,\n",
    "        return_tensors=\"pt\",\n",
    "        truncation=True,\n",
    "        padding=\"max_length\",\n",
    "        max_length=512\n",
    "    ).to(device)\n",
    "\n",
    "    decoder_model.eval()\n",
    "    with torch.no_grad():\n",
    "        decoder_output_ids = decoder_model.generate(\n",
    "            input_ids=input_enc[\"input_ids\"],\n",
    "            attention_mask=input_enc[\"attention_mask\"],\n",
    "            max_length=256,\n",
    "            num_beams=4,\n",
    "            early_stopping=True\n",
    "        )\n",
    "    decoder_summary = decoder_tokenizer.decode(decoder_output_ids[0], skip_special_tokens=True)\n",
    "\n",
    "\n",
    "\n",
    "    return decoder_summary\n"
   ]
  },
  {
   "cell_type": "code",
   "execution_count": 47,
   "metadata": {
    "execution": {
     "iopub.execute_input": "2025-04-27T05:08:14.302206Z",
     "iopub.status.busy": "2025-04-27T05:08:14.301512Z",
     "iopub.status.idle": "2025-04-27T05:08:16.105414Z",
     "shell.execute_reply": "2025-04-27T05:08:16.104724Z",
     "shell.execute_reply.started": "2025-04-27T05:08:14.302178Z"
    }
   },
   "outputs": [
    {
     "name": "stdout",
     "output_type": "stream",
     "text": [
      "\n",
      " Decoder-Generated Summary:\n",
      " Service Agreement entered into between AlphaTech Solutions, Inc. and Keystone Financial Group on March 12, 2022, is terminated effective June 30, 2025, in accordance with the terms of such agreement.  Provides for both parties to fulfill all outstanding obligations, including, but not limited to, the settlement of all pending invoices and the return of proprietary materials within 30 days of the termination date.  Requires the provider to cease provision of services effective immediately upon termination. Provides for legal remedies as permitted by applicable law.  Directs any questions or correspondence regarding this termination to the Provider’s Legal Department at legal@alphatechsolutions.com.\n"
     ]
    }
   ],
   "source": [
    "new_document = \"\"\"\n",
    "This letter serves as formal notification that the Service Agreement entered into between AlphaTech Solutions, Inc. (\"Provider\") and Keystone Financial Group (\"Client\") on March 12, 2022, is hereby terminated effective June 30, 2025, in accordance with Section 10(b) of the aforementioned agreement.\n",
    "\n",
    "Pursuant to the terms set forth, both parties are expected to fulfill all outstanding obligations, including, but not limited to, the settlement of all pending invoices and the return of proprietary materials within thirty (30) calendar days of the termination date.\n",
    "\n",
    "Provider shall cease provision of services effective immediately upon termination. Any continued use of services beyond the termination date without a renewed agreement shall constitute unauthorized use and may result in legal remedies as permitted by applicable law.\n",
    "\n",
    "Please direct any questions or correspondence regarding this termination to the Provider’s Legal Department at legal@alphatechsolutions.com.\n",
    "\"\"\"\n",
    "\n",
    "decoder_summary= summarize_and_rewrite(new_document)\n",
    "\n",
    "print(\"\\n Decoder-Generated Summary:\\n\", decoder_summary)"
   ]
  },
  {
   "cell_type": "code",
   "execution_count": 59,
   "metadata": {
    "execution": {
     "iopub.execute_input": "2025-04-27T05:12:09.185569Z",
     "iopub.status.busy": "2025-04-27T05:12:09.184808Z",
     "iopub.status.idle": "2025-04-27T05:12:11.100651Z",
     "shell.execute_reply": "2025-04-27T05:12:11.099870Z",
     "shell.execute_reply.started": "2025-04-27T05:12:09.185541Z"
    }
   },
   "outputs": [
    {
     "name": "stdout",
     "output_type": "stream",
     "text": [
      "\n",
      " Decoder-Generated Summary:\n",
      " – TechNova Solutions, a cyber-security and Internet company, has updated its privacy policy to reflect recent changes in data protection regulations and its commitment to safeguarding user information. The policy, which will remain in effect until May 15, 2025, includes: (1) expanded data collection disclosure, including information gathered through the use of cookies, device identifiers, and user interaction logs; (2) expanded rights to request deletion of data, correct inaccuracies, and opt out of certain types of data processing activities; (3) third-party sharing clarifications, including when and how information may be shared; and (4) data retention policies, including updates regarding the duration for which data is retained.\n"
     ]
    }
   ],
   "source": [
    "\n",
    "new_document = \"\"\"\n",
    "Effective May 15, 2025, TechNova Solutions, Inc. (\"TechNova\", \"we\", \"us\", or \"our\") has updated its Privacy Policy to better reflect recent changes in data protection regulations and our commitment to safeguarding user information.\n",
    "\n",
    "Key changes include:\n",
    "\n",
    "Expanded Data Collection Disclosure: We have clarified the types of personal data we collect, including information gathered through the use of cookies, device identifiers, and user interaction logs.\n",
    "Additional User Rights: Users now have expanded rights to request deletion of their data, correct inaccuracies, and opt out of certain types of data processing activities.\n",
    "Third-Party Sharing Clarifications: We have provided further details regarding when and how information may be shared with trusted third-party service providers, affiliates, and legal authorities.\n",
    "Data Retention Policies: Updates regarding the duration for which we retain different categories of personal information have been included for greater transparency.\n",
    "By continuing to use our services after May 15, 2025, you acknowledge and accept the updated Privacy Policy. We encourage you to review the full policy available at [www.technovasolutions.com/privacy].\n",
    "\n",
    "If you have any questions or concerns regarding these updates, please contact our Data Protection Officer at dpo@technovasolutions.com.\n",
    "\n",
    "\"\"\"\n",
    "\n",
    "decoder_summary= summarize_and_rewrite(new_document)\n",
    "\n",
    "print(\"\\n Decoder-Generated Summary:\\n\", decoder_summary)"
   ]
  },
  {
   "cell_type": "code",
   "execution_count": 58,
   "metadata": {
    "execution": {
     "iopub.execute_input": "2025-04-27T05:11:06.273786Z",
     "iopub.status.busy": "2025-04-27T05:11:06.273424Z",
     "iopub.status.idle": "2025-04-27T05:11:08.018878Z",
     "shell.execute_reply": "2025-04-27T05:11:08.018170Z",
     "shell.execute_reply.started": "2025-04-27T05:11:06.273761Z"
    }
   },
   "outputs": [
    {
     "name": "stdout",
     "output_type": "stream",
     "text": [
      "\n",
      " Decoder-Generated Summary:\n",
      " Sets a deadline of April 15, 2025 for payment of $250,000 to each other for release and forever discharge each other from any and all claims, liabilities, demands, and causes of action, whether known or unknown, arising out of or relating to the disputes in Case No. 23-CV-4172 pending in the District Court of Fulton County, Georgia.    The Parties acknowledge that this Agreement constitutes a compromise of disputed claims and should not be construed as an admission of liability by any party.  The terms and conditions of this Agreement shall remain strictly confidential and shall not be disclosed to any third party.\n"
     ]
    }
   ],
   "source": [
    "new_document = \"\"\"\n",
    "This Settlement and Release Agreement (\"Agreement\") is entered into on April 15, 2025, by and between Horizon Systems LLC (\"Party A\") and Riverstone Consulting, Inc. (\"Party B\") collectively referred to as \"the Parties.\"\n",
    "\n",
    "In consideration of the mutual covenants contained herein and for other good and valuable consideration, the Parties agree to the following:\n",
    "\n",
    "Settlement Amount: Party A shall pay Party B a one-time settlement payment of Two Hundred Fifty Thousand U.S. Dollars ($250,000) within fifteen (15) business days of the execution of this Agreement.\n",
    "Mutual Release: Upon receipt of the Settlement Amount, the Parties release and forever discharge each other from any and all claims, liabilities, demands, and causes of action, whether known or unknown, arising out of or relating to the disputes described in Case No. 23-CV-4172 pending in the District Court of Fulton County.\n",
    "No Admission of Liability: The Parties acknowledge that this Agreement constitutes a compromise of disputed claims and shall not be construed as an admission of liability by any party.\n",
    "Confidentiality: The terms and conditions of this Agreement shall remain strictly confidential and shall not be disclosed to any third party, except as required by law or with prior written consent of both Parties.\n",
    "Governing Law: This Agreement shall be governed by and construed in accordance with the laws of the State of Georgia, without regard to conflict of law principles.\n",
    "\n",
    "\"\"\"\n",
    "\n",
    "decoder_summary= summarize_and_rewrite(new_document)\n",
    "\n",
    "print(\"\\n Decoder-Generated Summary:\\n\", decoder_summary)\n",
    "\n"
   ]
  },
  {
   "cell_type": "markdown",
   "metadata": {},
   "source": [
    "**The above test cases verify that the abstractive Summarizer performs efficiently and effectively.**"
   ]
  },
  {
   "cell_type": "markdown",
   "metadata": {},
   "source": [
    "### Experimenting with Rewritter T5 Large "
   ]
  },
  {
   "cell_type": "markdown",
   "metadata": {},
   "source": [
    "#### Preparing the Model class and the Dataset Class"
   ]
  },
  {
   "cell_type": "code",
   "execution_count": null,
   "metadata": {},
   "outputs": [],
   "source": [
    "class RewriterDataset(Dataset):\n",
    "    def __init__(self, examples, tokenizer, max_input_len=512, max_target_len=256):\n",
    "        self.data = []\n",
    "        for ex in examples:\n",
    "            prompt = f\"Rewrite this to improve readability: {ex['generated'].strip()}\"\n",
    "            src = tokenizer(prompt, max_length=max_input_len, truncation=True, padding=\"max_length\")\n",
    "            tgt = tokenizer(ex[\"summary\"].strip(), max_length=max_target_len, truncation=True, padding=\"max_length\")\n",
    "            self.data.append({\n",
    "                \"input_ids\": torch.tensor(src[\"input_ids\"]),\n",
    "                \"attention_mask\": torch.tensor(src[\"attention_mask\"]),\n",
    "                \"labels\": torch.tensor(tgt[\"input_ids\"])\n",
    "            })\n",
    "\n",
    "    def __len__(self):\n",
    "        return len(self.data)\n",
    "\n",
    "    def __getitem__(self, idx):\n",
    "        return self.data[idx]\n",
    "\n",
    "from transformers import T5ForConditionalGeneration, T5Config\n",
    "import torch.nn as nn\n",
    "import torch\n",
    "\n",
    "class RewriterModel(nn.Module):\n",
    "    def __init__(self, model_name=\"t5-large\", freeze_layers=True):\n",
    "        super().__init__()\n",
    "        config = T5Config.from_pretrained(model_name)\n",
    "        config.dropout_rate = 0.1\n",
    "        self.model = T5ForConditionalGeneration.from_pretrained(model_name, config=config)\n",
    "\n",
    "        if freeze_layers:\n",
    "           \n",
    "            for name, param in self.model.named_parameters():\n",
    "                if \"encoder.block\" in name:\n",
    "                    param.requires_grad = False\n",
    "\n",
    "    def forward(self, input_ids, attention_mask, labels=None):\n",
    "        output = self.model(input_ids=input_ids, attention_mask=attention_mask, labels=labels)\n",
    "        return output\n",
    "\n",
    "    def generate(self, input_ids, attention_mask, **kwargs):\n",
    "        return self.model.generate(\n",
    "        input_ids=input_ids,\n",
    "        attention_mask=attention_mask,\n",
    "       \n",
    "        no_repeat_ngram_size=3,\n",
    "        num_beams=6,\n",
    "        repetition_penalty=1.2,\n",
    "        early_stopping=True,\n",
    "        **kwargs\n",
    "    )\n",
    "\n",
    "\n"
   ]
  },
  {
   "cell_type": "markdown",
   "metadata": {},
   "source": [
    "#### Loading the Custom Generated dataset"
   ]
  },
  {
   "cell_type": "code",
   "execution_count": 41,
   "metadata": {
    "execution": {
     "iopub.execute_input": "2025-04-27T05:01:06.322081Z",
     "iopub.status.busy": "2025-04-27T05:01:06.321561Z",
     "iopub.status.idle": "2025-04-27T05:01:06.367080Z",
     "shell.execute_reply": "2025-04-27T05:01:06.366568Z",
     "shell.execute_reply.started": "2025-04-27T05:01:06.322060Z"
    }
   },
   "outputs": [],
   "source": [
    "import json\n",
    "\n",
    "\n",
    "with open('/kaggle/working/generated_examples.json', 'w') as f:\n",
    "    json.dump(generated_examples, f, indent=2)\n",
    " "
   ]
  },
  {
   "cell_type": "code",
   "execution_count": 39,
   "metadata": {
    "execution": {
     "iopub.execute_input": "2025-04-25T20:13:23.269721Z",
     "iopub.status.busy": "2025-04-25T20:13:23.269043Z",
     "iopub.status.idle": "2025-04-25T20:13:28.101714Z",
     "shell.execute_reply": "2025-04-25T20:13:28.100941Z",
     "shell.execute_reply.started": "2025-04-25T20:13:23.269699Z"
    }
   },
   "outputs": [],
   "source": [
    "rewriter_train_dataset = RewriterDataset(generated_examples[:1000], rewriter_tokenizer)\n",
    "rewriter_val_dataset = RewriterDataset(generated_examples[1000:], rewriter_tokenizer)\n"
   ]
  },
  {
   "cell_type": "code",
   "execution_count": 40,
   "metadata": {
    "execution": {
     "iopub.execute_input": "2025-04-25T20:13:33.538732Z",
     "iopub.status.busy": "2025-04-25T20:13:33.538120Z",
     "iopub.status.idle": "2025-04-25T20:13:33.542766Z",
     "shell.execute_reply": "2025-04-25T20:13:33.541947Z",
     "shell.execute_reply.started": "2025-04-25T20:13:33.538708Z"
    }
   },
   "outputs": [
    {
     "name": "stdout",
     "output_type": "stream",
     "text": [
      "Train examples: 1000\n",
      "Validation examples: 1000\n"
     ]
    }
   ],
   "source": [
    "print(\"Train examples:\", len(rewriter_train_dataset))\n",
    "print(\"Validation examples:\", len(rewriter_val_dataset))\n"
   ]
  },
  {
   "cell_type": "markdown",
   "metadata": {},
   "source": [
    "#### Training the rewriter Model"
   ]
  },
  {
   "cell_type": "code",
   "execution_count": 41,
   "metadata": {
    "execution": {
     "iopub.execute_input": "2025-04-25T20:13:36.514921Z",
     "iopub.status.busy": "2025-04-25T20:13:36.514648Z",
     "iopub.status.idle": "2025-04-25T20:13:36.523572Z",
     "shell.execute_reply": "2025-04-25T20:13:36.522929Z",
     "shell.execute_reply.started": "2025-04-25T20:13:36.514902Z"
    }
   },
   "outputs": [],
   "source": [
    "def train_rewriter(model, tokenizer, train_dataset, val_dataset, args):\n",
    "    model.to(device)\n",
    "    optimizer = AdamW(model.parameters(), lr=args[\"learning_rate\"])\n",
    "    train_loader = DataLoader(train_dataset, batch_size=args[\"batch_size\"], shuffle=True)\n",
    "    val_loader = DataLoader(val_dataset, batch_size=1)\n",
    "    scheduler = get_scheduler(\"linear\", optimizer=optimizer,\n",
    "                              num_warmup_steps=args[\"warmup_steps\"],\n",
    "                              num_training_steps=args[\"num_epochs\"] * len(train_loader))\n",
    "\n",
    "    train_losses = []\n",
    "    val_losses = []\n",
    "\n",
    "    for epoch in range(args[\"num_epochs\"]):\n",
    "        model.train()\n",
    "        total_train_loss = 0\n",
    "        for batch in tqdm(train_loader, desc=f\"Epoch {epoch+1} (Rewriter)\"):\n",
    "            batch = {k: v.to(device) for k, v in batch.items()}\n",
    "            outputs = model(**batch)\n",
    "            loss = outputs.loss\n",
    "            loss.backward()\n",
    "            optimizer.step()\n",
    "            scheduler.step()\n",
    "            optimizer.zero_grad()\n",
    "            total_train_loss += loss.item()\n",
    "\n",
    "        avg_train_loss = total_train_loss / len(train_loader)\n",
    "        train_losses.append(avg_train_loss)\n",
    "        print(f\"Epoch {epoch+1} Train Loss: {avg_train_loss:.4f}\")\n",
    "\n",
    "      \n",
    "        model.eval()\n",
    "        total_val_loss = 0\n",
    "        with torch.no_grad():\n",
    "            for batch in val_loader:\n",
    "                batch = {k: v.to(device) for k, v in batch.items()}\n",
    "                outputs = model(**batch)\n",
    "                total_val_loss += outputs.loss.item()\n",
    "\n",
    "        avg_val_loss = total_val_loss / len(val_loader)\n",
    "        val_losses.append(avg_val_loss)\n",
    "        print(f\"Epoch {epoch+1} Validation Loss: {avg_val_loss:.4f}\")\n",
    "\n",
    "    return train_losses, val_losses\n"
   ]
  },
  {
   "cell_type": "code",
   "execution_count": 42,
   "metadata": {
    "execution": {
     "iopub.execute_input": "2025-04-25T20:13:39.578743Z",
     "iopub.status.busy": "2025-04-25T20:13:39.578174Z",
     "iopub.status.idle": "2025-04-25T20:41:33.813577Z",
     "shell.execute_reply": "2025-04-25T20:41:33.812895Z",
     "shell.execute_reply.started": "2025-04-25T20:13:39.578718Z"
    }
   },
   "outputs": [
    {
     "name": "stderr",
     "output_type": "stream",
     "text": [
      "Epoch 1 (Rewriter): 100%|██████████| 1000/1000 [02:06<00:00,  7.89it/s]\n"
     ]
    },
    {
     "name": "stdout",
     "output_type": "stream",
     "text": [
      "Epoch 1 Train Loss: 3.1131\n",
      "Epoch 1 Validation Loss: 2.3091\n"
     ]
    },
    {
     "name": "stderr",
     "output_type": "stream",
     "text": [
      "Epoch 2 (Rewriter): 100%|██████████| 1000/1000 [02:06<00:00,  7.90it/s]\n"
     ]
    },
    {
     "name": "stdout",
     "output_type": "stream",
     "text": [
      "Epoch 2 Train Loss: 2.3816\n",
      "Epoch 2 Validation Loss: 2.2404\n"
     ]
    },
    {
     "name": "stderr",
     "output_type": "stream",
     "text": [
      "Epoch 3 (Rewriter): 100%|██████████| 1000/1000 [02:06<00:00,  7.90it/s]\n"
     ]
    },
    {
     "name": "stdout",
     "output_type": "stream",
     "text": [
      "Epoch 3 Train Loss: 2.2593\n",
      "Epoch 3 Validation Loss: 2.2128\n"
     ]
    },
    {
     "name": "stderr",
     "output_type": "stream",
     "text": [
      "Epoch 4 (Rewriter): 100%|██████████| 1000/1000 [02:06<00:00,  7.90it/s]\n"
     ]
    },
    {
     "name": "stdout",
     "output_type": "stream",
     "text": [
      "Epoch 4 Train Loss: 2.1703\n",
      "Epoch 4 Validation Loss: 2.2041\n"
     ]
    },
    {
     "name": "stderr",
     "output_type": "stream",
     "text": [
      "Epoch 5 (Rewriter): 100%|██████████| 1000/1000 [02:06<00:00,  7.90it/s]\n"
     ]
    },
    {
     "name": "stdout",
     "output_type": "stream",
     "text": [
      "Epoch 5 Train Loss: 2.1031\n",
      "Epoch 5 Validation Loss: 2.1977\n"
     ]
    },
    {
     "name": "stderr",
     "output_type": "stream",
     "text": [
      "Epoch 6 (Rewriter): 100%|██████████| 1000/1000 [02:06<00:00,  7.91it/s]\n"
     ]
    },
    {
     "name": "stdout",
     "output_type": "stream",
     "text": [
      "Epoch 6 Train Loss: 2.0475\n",
      "Epoch 6 Validation Loss: 2.2003\n"
     ]
    },
    {
     "name": "stderr",
     "output_type": "stream",
     "text": [
      "Epoch 7 (Rewriter): 100%|██████████| 1000/1000 [02:06<00:00,  7.91it/s]\n"
     ]
    },
    {
     "name": "stdout",
     "output_type": "stream",
     "text": [
      "Epoch 7 Train Loss: 2.0048\n",
      "Epoch 7 Validation Loss: 2.1989\n"
     ]
    },
    {
     "name": "stderr",
     "output_type": "stream",
     "text": [
      "Epoch 8 (Rewriter): 100%|██████████| 1000/1000 [02:06<00:00,  7.91it/s]\n"
     ]
    },
    {
     "name": "stdout",
     "output_type": "stream",
     "text": [
      "Epoch 8 Train Loss: 1.9700\n",
      "Epoch 8 Validation Loss: 2.2047\n"
     ]
    },
    {
     "name": "stderr",
     "output_type": "stream",
     "text": [
      "Epoch 9 (Rewriter): 100%|██████████| 1000/1000 [02:06<00:00,  7.91it/s]\n"
     ]
    },
    {
     "name": "stdout",
     "output_type": "stream",
     "text": [
      "Epoch 9 Train Loss: 1.9434\n",
      "Epoch 9 Validation Loss: 2.2073\n"
     ]
    },
    {
     "name": "stderr",
     "output_type": "stream",
     "text": [
      "Epoch 10 (Rewriter): 100%|██████████| 1000/1000 [02:06<00:00,  7.91it/s]\n"
     ]
    },
    {
     "name": "stdout",
     "output_type": "stream",
     "text": [
      "Epoch 10 Train Loss: 1.9280\n",
      "Epoch 10 Validation Loss: 2.2083\n"
     ]
    }
   ],
   "source": [
    "rewriter_args = {\n",
    "    \"batch_size\": 1,\n",
    "    \"learning_rate\": 5e-5,\n",
    "    \"num_epochs\": 10,\n",
    "    \"warmup_steps\": 50\n",
    "}\n",
    "rewriter_model = RewriterModel(model_name=\"t5-base\", freeze_layers=True).to(device)\n",
    "\n",
    "train_losses, val_losses= train_rewriter(rewriter_model, rewriter_tokenizer, rewriter_train_dataset, rewriter_val_dataset, rewriter_args)\n",
    "\n"
   ]
  },
  {
   "cell_type": "code",
   "execution_count": 43,
   "metadata": {
    "execution": {
     "iopub.execute_input": "2025-04-25T20:41:33.816596Z",
     "iopub.status.busy": "2025-04-25T20:41:33.816149Z",
     "iopub.status.idle": "2025-04-25T20:41:34.001890Z",
     "shell.execute_reply": "2025-04-25T20:41:34.001305Z",
     "shell.execute_reply.started": "2025-04-25T20:41:33.816578Z"
    }
   },
   "outputs": [
    {
     "data": {
      "image/png": "[encoded data removed]",
      "text/plain": [
       "<Figure size 800x500 with 1 Axes>"
      ]
     },
     "metadata": {},
     "output_type": "display_data"
    }
   ],
   "source": [
    "epochs = list(range(1, len(train_losses) + 1))\n",
    "\n",
    "plt.figure(figsize=(8, 5))\n",
    "plt.plot(epochs, train_losses, label='Training Loss', marker='o')\n",
    "plt.plot(epochs, val_losses, label='Validation Loss', marker='s')\n",
    "plt.title(\"Rewriter Training vs Validation Loss\")\n",
    "plt.xlabel(\"Epoch\")\n",
    "plt.ylabel(\"Loss\")\n",
    "plt.legend()\n",
    "plt.grid(True)\n",
    "plt.tight_layout()\n",
    "plt.show()"
   ]
  },
  {
   "cell_type": "markdown",
   "metadata": {},
   "source": [
    "\n",
    "* The model shows strong learning with a steady drop in training loss and stable validation loss.\n",
    "* Consistent validation performance after epoch 4 suggests good generalization and reliability.\n"
   ]
  },
  {
   "cell_type": "markdown",
   "metadata": {},
   "source": [
    "#### Saving the Rewriter Model "
   ]
  },
  {
   "cell_type": "code",
   "execution_count": 44,
   "metadata": {
    "execution": {
     "iopub.execute_input": "2025-04-25T20:41:34.002799Z",
     "iopub.status.busy": "2025-04-25T20:41:34.002539Z",
     "iopub.status.idle": "2025-04-25T20:41:35.079391Z",
     "shell.execute_reply": "2025-04-25T20:41:35.078798Z",
     "shell.execute_reply.started": "2025-04-25T20:41:34.002783Z"
    }
   },
   "outputs": [
    {
     "data": {
      "text/plain": [
       "('/kaggle/working/rewriter_model_final/tokenizer_config.json',\n",
       " '/kaggle/working/rewriter_model_final/special_tokens_map.json',\n",
       " '/kaggle/working/rewriter_model_final/spiece.model',\n",
       " '/kaggle/working/rewriter_model_final/added_tokens.json')"
      ]
     },
     "execution_count": 44,
     "metadata": {},
     "output_type": "execute_result"
    }
   ],
   "source": [
    "rewriter_model.model.save_pretrained(\"/kaggle/working/rewriter_model_final\")\n",
    "rewriter_tokenizer.save_pretrained(\"/kaggle/working/rewriter_model_final\")\n"
   ]
  },
  {
   "cell_type": "markdown",
   "metadata": {},
   "source": [
    "### Evalation Metrics on the Test Dataset"
   ]
  },
  {
   "cell_type": "code",
   "execution_count": 45,
   "metadata": {
    "execution": {
     "iopub.execute_input": "2025-04-25T20:41:35.081285Z",
     "iopub.status.busy": "2025-04-25T20:41:35.081083Z",
     "iopub.status.idle": "2025-04-25T22:34:31.861781Z",
     "shell.execute_reply": "2025-04-25T22:34:31.861166Z",
     "shell.execute_reply.started": "2025-04-25T20:41:35.081268Z"
    }
   },
   "outputs": [
    {
     "name": "stderr",
     "output_type": "stream",
     "text": [
      "100%|██████████| 1000/1000 [1:52:56<00:00,  6.78s/it]\n"
     ]
    }
   ],
   "source": [
    "from tqdm import tqdm\n",
    "\n",
    "decoder_outputs = []\n",
    "rewriter_outputs = []\n",
    "references = []\n",
    "\n",
    "rewriter_model.eval()\n",
    "decoder_model.eval()\n",
    "\n",
    "with torch.no_grad():\n",
    "    for doc, ref in tqdm(zip(test_data_small[\"document\"], test_data_small[\"summary\"]), total=len(test_data_small)):\n",
    "    \n",
    "        enc = decoder_tokenizer(doc, return_tensors=\"pt\", padding=\"max_length\", truncation=True, max_length=1024).to(device)\n",
    "        out_ids = decoder_model.generate(input_ids=enc[\"input_ids\"], attention_mask=enc[\"attention_mask\"], max_length=256)\n",
    "        decoded = decoder_tokenizer.decode(out_ids[0], skip_special_tokens=True)\n",
    "        decoder_outputs.append(decoded)\n",
    "\n",
    "     \n",
    "        prompt = f\"You are an expert editor. Improve the following summary by rewriting it to enhance clarity, structure, and natural flow.Ensure the rewritten version is fluent, concise, and faithful to the original meaning:  {decoded}\"\n",
    "        enc_rewriter = rewriter_tokenizer(prompt, return_tensors=\"pt\", padding=\"max_length\", truncation=True, max_length=512).to(device)\n",
    "        rewritten_ids = rewriter_model.generate(input_ids=enc_rewriter[\"input_ids\"], attention_mask=enc_rewriter[\"attention_mask\"], max_length=256)\n",
    "        rewritten = rewriter_tokenizer.decode(rewritten_ids[0], skip_special_tokens=True)\n",
    "        rewriter_outputs.append(rewritten)\n",
    "\n",
    "        references.append(ref)\n",
    "  "
   ]
  },
  {
   "cell_type": "code",
   "execution_count": 47,
   "metadata": {
    "execution": {
     "iopub.execute_input": "2025-04-25T22:34:40.604178Z",
     "iopub.status.busy": "2025-04-25T22:34:40.604003Z",
     "iopub.status.idle": "2025-04-25T22:37:23.437076Z",
     "shell.execute_reply": "2025-04-25T22:37:23.436363Z",
     "shell.execute_reply.started": "2025-04-25T22:34:40.604165Z"
    }
   },
   "outputs": [
    {
     "name": "stdout",
     "output_type": "stream",
     "text": [
      " Decoder-Only Scores:\n"
     ]
    },
    {
     "data": {
      "application/vnd.jupyter.widget-view+json": {
       "model_id": "d9525aa0b6024c1c8c4a562ac6fee47e",
       "version_major": 2,
       "version_minor": 0
      },
      "text/plain": [
       "tokenizer_config.json:   0%|          | 0.00/25.0 [00:00<?, ?B/s]"
      ]
     },
     "metadata": {},
     "output_type": "display_data"
    },
    {
     "data": {
      "application/vnd.jupyter.widget-view+json": {
       "model_id": "8219d20fb7fc48a3a3a0e88dd5449889",
       "version_major": 2,
       "version_minor": 0
      },
      "text/plain": [
       "config.json:   0%|          | 0.00/482 [00:00<?, ?B/s]"
      ]
     },
     "metadata": {},
     "output_type": "display_data"
    },
    {
     "data": {
      "application/vnd.jupyter.widget-view+json": {
       "model_id": "3c397b22b3d347e886758b47f8242abb",
       "version_major": 2,
       "version_minor": 0
      },
      "text/plain": [
       "vocab.json:   0%|          | 0.00/899k [00:00<?, ?B/s]"
      ]
     },
     "metadata": {},
     "output_type": "display_data"
    },
    {
     "data": {
      "application/vnd.jupyter.widget-view+json": {
       "model_id": "9ab919602f774af587dbdaa001bf2ddf",
       "version_major": 2,
       "version_minor": 0
      },
      "text/plain": [
       "merges.txt:   0%|          | 0.00/456k [00:00<?, ?B/s]"
      ]
     },
     "metadata": {},
     "output_type": "display_data"
    },
    {
     "data": {
      "application/vnd.jupyter.widget-view+json": {
       "model_id": "0f2c16cf1c89457e9dc929155f20ad50",
       "version_major": 2,
       "version_minor": 0
      },
      "text/plain": [
       "model.safetensors:   0%|          | 0.00/1.42G [00:00<?, ?B/s]"
      ]
     },
     "metadata": {},
     "output_type": "display_data"
    },
    {
     "name": "stderr",
     "output_type": "stream",
     "text": [
      "Some weights of RobertaModel were not initialized from the model checkpoint at roberta-large and are newly initialized: ['roberta.pooler.dense.weight', 'roberta.pooler.dense.bias']\n",
      "You should probably TRAIN this model on a down-stream task to be able to use it for predictions and inference.\n"
     ]
    },
    {
     "name": "stdout",
     "output_type": "stream",
     "text": [
      "rouge1: 0.4596\n",
      "rouge2: 0.1968\n",
      "rougeL: 0.2583\n",
      "bertscore_f1: 0.8705\n",
      "bleurt_score: -0.4976\n",
      "\n",
      " Rewriter Scores:\n",
      "rouge1: 0.4110\n",
      "rouge2: 0.1765\n",
      "rougeL: 0.2423\n",
      "bertscore_f1: 0.8687\n",
      "bleurt_score: -0.5124\n"
     ]
    }
   ],
   "source": [
    "print(\" Decoder-Only Scores:\")\n",
    "decoder_scores = evaluate_outputs(decoder_outputs, references)\n",
    "for k, v in decoder_scores.items():\n",
    "    print(f\"{k}: {v:.4f}\")\n",
    "\n",
    "print(\"\\n Rewriter Scores:\")\n",
    "rewriter_scores = evaluate_outputs(rewriter_outputs, references)\n",
    "for k, v in rewriter_scores.items():\n",
    "    print(f\"{k}: {v:.4f}\")\n"
   ]
  },
  {
   "cell_type": "markdown",
   "metadata": {},
   "source": [
    "Decoder-Only Model performs better than the Rewriter in almost all metrics:\n",
    "\n",
    "ROUGE-1: 0.4596 vs 0.4110\n",
    "\n",
    "ROUGE-2: 0.1968 vs 0.1765\n",
    "\n",
    "ROUGE-L: 0.2583 vs 0.2423\n",
    "\n",
    "BERTScore-F1: 0.8705 vs 0.8687"
   ]
  },
  {
   "cell_type": "markdown",
   "metadata": {},
   "source": [
    "**Results:**\n",
    "Decoder-only model produces more informative and useful summaries as reflected in better ROUGE and BERTScore.\n",
    "The rewriter weakens summary quality somewhat, perhaps because it oversimplifies or loses sense while rewriting.\n",
    "BLEURT scores (both negative) indicate that decoder output is a tad more fluent or natural-sounding than rewritten output.\n"
   ]
  },
  {
   "cell_type": "code",
   "execution_count": 44,
   "metadata": {
    "execution": {
     "iopub.execute_input": "2025-04-27T05:03:02.746400Z",
     "iopub.status.busy": "2025-04-27T05:03:02.745309Z",
     "iopub.status.idle": "2025-04-27T05:03:03.873736Z",
     "shell.execute_reply": "2025-04-27T05:03:03.873190Z",
     "shell.execute_reply.started": "2025-04-27T05:03:02.746354Z"
    }
   },
   "outputs": [],
   "source": [
    "import textstat\n",
    "from transformers import GPT2TokenizerFast, GPT2LMHeadModel\n"
   ]
  },
  {
   "cell_type": "code",
   "execution_count": 53,
   "metadata": {
    "execution": {
     "iopub.execute_input": "2025-04-25T22:40:29.138669Z",
     "iopub.status.busy": "2025-04-25T22:40:29.138433Z",
     "iopub.status.idle": "2025-04-25T22:40:29.156782Z",
     "shell.execute_reply": "2025-04-25T22:40:29.156058Z",
     "shell.execute_reply.started": "2025-04-25T22:40:29.138650Z"
    }
   },
   "outputs": [],
   "source": [
    "def evaluate_outputs(preds, refs, include_gpt2=False):\n",
    "\n",
    "    rouge_result = rouge.compute(predictions=preds, references=refs)\n",
    "    bert_result = bertscore.compute(predictions=preds, references=refs, lang=\"en\")\n",
    "    bleurt_result = bleurt.compute(predictions=preds, references=refs)\n",
    "\n",
    "\n",
    "    readability = sum([textstat.flesch_reading_ease(p) for p in preds]) / len(preds)\n",
    "\n",
    "    results = {\n",
    "        \"rouge1\": rouge_result[\"rouge1\"],\n",
    "        \"rouge2\": rouge_result[\"rouge2\"],\n",
    "        \"rougeL\": rouge_result[\"rougeL\"],\n",
    "        \"bertscore_f1\": sum(bert_result[\"f1\"]) / len(bert_result[\"f1\"]),\n",
    "        \"bleurt_score\": sum(bleurt_result[\"scores\"]) / len(bleurt_result[\"scores\"]),\n",
    "        \"readability\": readability\n",
    "    }\n",
    "\n",
    "\n",
    "    if include_gpt2:\n",
    "        gpt2_tokenizer = GPT2TokenizerFast.from_pretrained(\"gpt2\")\n",
    "        gpt2_model = GPT2LMHeadModel.from_pretrained(\"gpt2\").eval().to(\"cuda\")\n",
    "        \n",
    "        ppl_scores = []\n",
    "        for text in preds:\n",
    "            if not text.strip(): \n",
    "                continue\n",
    "            inputs = gpt2_tokenizer(text, return_tensors=\"pt\", truncation=True, max_length=512).to(\"cuda\")\n",
    "            with torch.no_grad():\n",
    "                try:\n",
    "                    loss = gpt2_model(**inputs, labels=inputs[\"input_ids\"]).loss\n",
    "                    ppl = torch.exp(loss).item()\n",
    "                    if not torch.isnan(loss):  \n",
    "                        ppl_scores.append(ppl)\n",
    "                except Exception as e:\n",
    "                    print(f\" Skipping sample due to error: {e}\")\n",
    "        if ppl_scores:\n",
    "            results[\"gpt2_ppl\"] = sum(ppl_scores) / len(ppl_scores)\n",
    "        else:\n",
    "            results[\"gpt2_ppl\"] = \"N/A\"\n",
    "    return results\n"
   ]
  },
  {
   "cell_type": "code",
   "execution_count": 43,
   "metadata": {
    "execution": {
     "iopub.execute_input": "2025-04-27T05:02:54.979172Z",
     "iopub.status.busy": "2025-04-27T05:02:54.978894Z",
     "iopub.status.idle": "2025-04-27T05:03:01.251722Z",
     "shell.execute_reply": "2025-04-27T05:03:01.250928Z",
     "shell.execute_reply.started": "2025-04-27T05:02:54.979151Z"
    }
   },
   "outputs": [
    {
     "name": "stdout",
     "output_type": "stream",
     "text": [
      "Requirement already satisfied: textstat in /usr/local/lib/python3.11/dist-packages (0.7.5)\n",
      "Requirement already satisfied: pyphen in /usr/local/lib/python3.11/dist-packages (from textstat) (0.17.2)\n",
      "Requirement already satisfied: cmudict in /usr/local/lib/python3.11/dist-packages (from textstat) (1.0.32)\n",
      "Requirement already satisfied: setuptools in /usr/local/lib/python3.11/dist-packages (from textstat) (75.1.0)\n",
      "Requirement already satisfied: importlib-metadata>=5 in /usr/local/lib/python3.11/dist-packages (from cmudict->textstat) (8.6.1)\n",
      "Requirement already satisfied: importlib-resources>=5 in /usr/local/lib/python3.11/dist-packages (from cmudict->textstat) (6.5.2)\n",
      "Requirement already satisfied: zipp>=3.20 in /usr/local/lib/python3.11/dist-packages (from importlib-metadata>=5->cmudict->textstat) (3.21.0)\n",
      "Requirement already satisfied: transformers in /usr/local/lib/python3.11/dist-packages (4.30.2)\n",
      "Requirement already satisfied: filelock in /usr/local/lib/python3.11/dist-packages (from transformers) (3.18.0)\n",
      "Requirement already satisfied: huggingface-hub<1.0,>=0.14.1 in /usr/local/lib/python3.11/dist-packages (from transformers) (0.19.4)\n",
      "Requirement already satisfied: numpy>=1.17 in /usr/local/lib/python3.11/dist-packages (from transformers) (1.26.4)\n",
      "Requirement already satisfied: packaging>=20.0 in /usr/local/lib/python3.11/dist-packages (from transformers) (24.2)\n",
      "Requirement already satisfied: pyyaml>=5.1 in /usr/local/lib/python3.11/dist-packages (from transformers) (6.0.2)\n",
      "Requirement already satisfied: regex!=2019.12.17 in /usr/local/lib/python3.11/dist-packages (from transformers) (2024.11.6)\n",
      "Requirement already satisfied: requests in /usr/local/lib/python3.11/dist-packages (from transformers) (2.32.3)\n",
      "Requirement already satisfied: tokenizers!=0.11.3,<0.14,>=0.11.1 in /usr/local/lib/python3.11/dist-packages (from transformers) (0.13.3)\n",
      "Requirement already satisfied: safetensors>=0.3.1 in /usr/local/lib/python3.11/dist-packages (from transformers) (0.5.2)\n",
      "Requirement already satisfied: tqdm>=4.27 in /usr/local/lib/python3.11/dist-packages (from transformers) (4.67.1)\n",
      "Requirement already satisfied: fsspec>=2023.5.0 in /usr/local/lib/python3.11/dist-packages (from huggingface-hub<1.0,>=0.14.1->transformers) (2023.6.0)\n",
      "Requirement already satisfied: typing-extensions>=3.7.4.3 in /usr/local/lib/python3.11/dist-packages (from huggingface-hub<1.0,>=0.14.1->transformers) (4.13.1)\n",
      "Requirement already satisfied: mkl_fft in /usr/local/lib/python3.11/dist-packages (from numpy>=1.17->transformers) (1.3.8)\n",
      "Requirement already satisfied: mkl_random in /usr/local/lib/python3.11/dist-packages (from numpy>=1.17->transformers) (1.2.4)\n",
      "Requirement already satisfied: mkl_umath in /usr/local/lib/python3.11/dist-packages (from numpy>=1.17->transformers) (0.1.1)\n",
      "Requirement already satisfied: mkl in /usr/local/lib/python3.11/dist-packages (from numpy>=1.17->transformers) (2025.1.0)\n",
      "Requirement already satisfied: tbb4py in /usr/local/lib/python3.11/dist-packages (from numpy>=1.17->transformers) (2022.1.0)\n",
      "Requirement already satisfied: mkl-service in /usr/local/lib/python3.11/dist-packages (from numpy>=1.17->transformers) (2.4.1)\n",
      "Requirement already satisfied: charset-normalizer<4,>=2 in /usr/local/lib/python3.11/dist-packages (from requests->transformers) (3.4.1)\n",
      "Requirement already satisfied: idna<4,>=2.5 in /usr/local/lib/python3.11/dist-packages (from requests->transformers) (3.10)\n",
      "Requirement already satisfied: urllib3<3,>=1.21.1 in /usr/local/lib/python3.11/dist-packages (from requests->transformers) (2.3.0)\n",
      "Requirement already satisfied: certifi>=2017.4.17 in /usr/local/lib/python3.11/dist-packages (from requests->transformers) (2025.1.31)\n",
      "Requirement already satisfied: intel-openmp<2026,>=2024 in /usr/local/lib/python3.11/dist-packages (from mkl->numpy>=1.17->transformers) (2024.2.0)\n",
      "Requirement already satisfied: tbb==2022.* in /usr/local/lib/python3.11/dist-packages (from mkl->numpy>=1.17->transformers) (2022.1.0)\n",
      "Requirement already satisfied: tcmlib==1.* in /usr/local/lib/python3.11/dist-packages (from tbb==2022.*->mkl->numpy>=1.17->transformers) (1.2.0)\n",
      "Requirement already satisfied: intel-cmplr-lib-rt in /usr/local/lib/python3.11/dist-packages (from mkl_umath->numpy>=1.17->transformers) (2024.2.0)\n",
      "Requirement already satisfied: intel-cmplr-lib-ur==2024.2.0 in /usr/local/lib/python3.11/dist-packages (from intel-openmp<2026,>=2024->mkl->numpy>=1.17->transformers) (2024.2.0)\n"
     ]
    }
   ],
   "source": [
    "!pip install textstat\n",
    "!pip install transformers\n"
   ]
  },
  {
   "cell_type": "code",
   "execution_count": 55,
   "metadata": {
    "execution": {
     "iopub.execute_input": "2025-04-25T22:40:35.226590Z",
     "iopub.status.busy": "2025-04-25T22:40:35.226374Z",
     "iopub.status.idle": "2025-04-25T22:43:25.307125Z",
     "shell.execute_reply": "2025-04-25T22:43:25.306495Z",
     "shell.execute_reply.started": "2025-04-25T22:40:35.226570Z"
    }
   },
   "outputs": [
    {
     "name": "stdout",
     "output_type": "stream",
     "text": [
      " Decoder-Only Scores:\n",
      "rouge1: 0.4596\n",
      "rouge2: 0.1968\n",
      "rougeL: 0.2583\n",
      "bertscore_f1: 0.8705\n",
      "bleurt_score: -0.4976\n",
      "readability: 37.1725\n",
      "gpt2_ppl: 19.1853\n",
      "\n",
      " Rewriter Scores:\n",
      "rouge1: 0.4110\n",
      "rouge2: 0.1765\n",
      "rougeL: 0.2423\n",
      "bertscore_f1: 0.8687\n",
      "bleurt_score: -0.5124\n",
      "readability: 35.9576\n",
      "gpt2_ppl: 21.5238\n"
     ]
    }
   ],
   "source": [
    "print(\" Decoder-Only Scores:\")\n",
    "decoder_scores = evaluate_outputs(decoder_outputs, references, include_gpt2=True)\n",
    "for k, v in decoder_scores.items():\n",
    "    print(f\"{k}: {v:.4f}\" if isinstance(v, float) else f\"{k}: {v}\")\n",
    "\n",
    "print(\"\\n Rewriter Scores:\")\n",
    "rewriter_scores = evaluate_outputs(rewriter_outputs, references, include_gpt2=True)\n",
    "for k, v in rewriter_scores.items():\n",
    "    print(f\"{k}: {v:.4f}\" if isinstance(v, float) else f\"{k}: {v}\")\n"
   ]
  },
  {
   "cell_type": "markdown",
   "metadata": {},
   "source": [
    "**Results Comparing the two Models**\n",
    "\n",
    "The Decoder-Only outperforms the Rewriter on every measure of relevance:\n",
    "\n",
    "ROUGE scores are consistently higher, indicating more content similarity to the reference.\n",
    "\n",
    "BERTScore is ever so slightly higher (0.8705 vs 0.8687), indicating more semantic coherence.\n",
    "\n",
    "Readability is better (37.17 vs 35.96), i.e., the decoder output is more readable.\n",
    "\n",
    "GPT-2 Perplexity is reduced (19.18 vs 21.52), showing the decoder produces smoother, more natural-sounding writing.\n"
   ]
  },
  {
   "cell_type": "code",
   "execution_count": 61,
   "metadata": {
    "execution": {
     "iopub.execute_input": "2025-04-25T23:05:54.732042Z",
     "iopub.status.busy": "2025-04-25T23:05:54.731330Z",
     "iopub.status.idle": "2025-04-25T23:06:03.324882Z",
     "shell.execute_reply": "2025-04-25T23:06:03.323921Z",
     "shell.execute_reply.started": "2025-04-25T23:05:54.732005Z"
    }
   },
   "outputs": [
    {
     "name": "stderr",
     "output_type": "stream",
     "text": [
      "/usr/local/lib/python3.11/dist-packages/transformers/modeling_utils.py:463: FutureWarning: You are using `torch.load` with `weights_only=False` (the current default value), which uses the default pickle module implicitly. It is possible to construct malicious pickle data which will execute arbitrary code during unpickling (See https://github.com/pytorch/pytorch/blob/main/SECURITY.md#untrusted-models for more details). In a future release, the default value for `weights_only` will be flipped to `True`. This limits the functions that could be executed during unpickling. Arbitrary objects will no longer be allowed to be loaded via this mode unless they are explicitly allowlisted by the user via `torch.serialization.add_safe_globals`. We recommend you start setting `weights_only=True` for any use case where you don't have full control of the loaded file. Please open an issue on GitHub for any issues related to this experimental feature.\n",
      "  return torch.load(checkpoint_file, map_location=\"cpu\")\n"
     ]
    }
   ],
   "source": [
    "from transformers import AutoTokenizer, AutoModelForSeq2SeqLM, T5ForConditionalGeneration\n",
    "\n",
    "import torch\n",
    "\n",
    "\n",
    "device = torch.device(\"cuda\" if torch.cuda.is_available() else \"cpu\")\n",
    "\n",
    "\n",
    "decoder_tokenizer = AutoTokenizer.from_pretrained(\"/kaggle/working/decoder_model_final\")\n",
    "decoder_model = AutoModelForSeq2SeqLM.from_pretrained(\"/kaggle/working/decoder_model_final\").to(device)\n",
    "\n",
    "\n",
    "rewriter_tokenizer = AutoTokenizer.from_pretrained(\"/kaggle/working/rewriter_model_final\")\n",
    "rewriter_model = T5ForConditionalGeneration.from_pretrained(\"/kaggle/working/rewriter_model_final\").to(device)\n"
   ]
  },
  {
   "cell_type": "code",
   "execution_count": 62,
   "metadata": {
    "execution": {
     "iopub.execute_input": "2025-04-25T23:06:07.429623Z",
     "iopub.status.busy": "2025-04-25T23:06:07.429329Z",
     "iopub.status.idle": "2025-04-25T23:06:07.436041Z",
     "shell.execute_reply": "2025-04-25T23:06:07.435251Z",
     "shell.execute_reply.started": "2025-04-25T23:06:07.429587Z"
    }
   },
   "outputs": [],
   "source": [
    "def summarize_and_rewrite(document_text):\n",
    "\n",
    "    input_enc = decoder_tokenizer(\n",
    "        document_text,\n",
    "        return_tensors=\"pt\",\n",
    "        truncation=True,\n",
    "        padding=\"max_length\",\n",
    "        max_length=512\n",
    "    ).to(device)\n",
    "\n",
    "    decoder_model.eval()\n",
    "    with torch.no_grad():\n",
    "        decoder_output_ids = decoder_model.generate(\n",
    "            input_ids=input_enc[\"input_ids\"],\n",
    "            attention_mask=input_enc[\"attention_mask\"],\n",
    "            max_length=256,\n",
    "            num_beams=4,\n",
    "            early_stopping=True\n",
    "        )\n",
    "    decoder_summary = decoder_tokenizer.decode(decoder_output_ids[0], skip_special_tokens=True)\n",
    "\n",
    "    \n",
    "    prompt = f\"Rewrite this to improve readability: {decoder_summary}\"\n",
    "\n",
    "    rewriter_input = rewriter_tokenizer(\n",
    "        prompt,\n",
    "        return_tensors=\"pt\",\n",
    "        truncation=True,\n",
    "        padding=\"max_length\",\n",
    "        max_length=512\n",
    "    ).to(device)\n",
    "\n",
    "    rewriter_model.eval()\n",
    "    with torch.no_grad():rewritten_output_ids = rewriter_model.model.generate(\n",
    "        input_ids=rewriter_input[\"input_ids\"],\n",
    "        attention_mask=rewriter_input[\"attention_mask\"],\n",
    "        max_length=256,\n",
    "        num_beams=4,\n",
    "        early_stopping=True,\n",
    "        no_repeat_ngram_size=3 \n",
    "    )\n",
    "\n",
    "rewritten_summary = rewriter_tokenizer.decode(rewritten_output_ids[0], skip_special_tokens=True)\n",
    "\n",
    "    rewriter_model.eval()\n",
    "    with torch.no_grad():\n",
    "        rewritten_output_ids = rewriter_model.generate(\n",
    "            input_ids=rewriter_input[\"input_ids\"],\n",
    "            attention_mask=rewriter_input[\"attention_mask\"],\n",
    "            max_length=256,\n",
    "            num_beams=4,\n",
    "            early_stopping=True\n",
    "        )\n",
    "    rewritten_summary = rewriter_tokenizer.decode(rewritten_output_ids[0], skip_special_tokens=True)\n",
    "\n",
    "    return decoder_summary, rewritten_summary\n"
   ]
  },
  {
   "cell_type": "markdown",
   "metadata": {},
   "source": [
    "#### Testing the Decoder Model and the Rewriter Model"
   ]
  },
  {
   "cell_type": "code",
   "execution_count": 64,
   "metadata": {
    "execution": {
     "iopub.execute_input": "2025-04-25T23:52:48.961503Z",
     "iopub.status.busy": "2025-04-25T23:52:48.961179Z",
     "iopub.status.idle": "2025-04-25T23:52:52.448545Z",
     "shell.execute_reply": "2025-04-25T23:52:52.447783Z",
     "shell.execute_reply.started": "2025-04-25T23:52:48.961480Z"
    }
   },
   "outputs": [
    {
     "name": "stdout",
     "output_type": "stream",
     "text": [
      "\n",
      " Decoder-Generated Summary:\n",
      " – Former President Obama delivered speeches in key battleground states, criticizing the Trump administration and warning voters that the nation's core values are at stake in the upcoming midterm elections. Obama pointed out specific instances where President Trump allegedly fabricated claims, and encouraged voters to support Democratic candidates who prioritize healthcare and truthfulness, reports the New York Times.\n",
      "\n",
      " Final Rewritten Summary:\n",
      " – Former President Obama delivered speeches in key battleground states, criticizing the Trump administration and warning voters that the nation's core values are at stake in the upcoming midterm elections, reports the New York Times. Obama pointed out specific instances where President Trump allegedly fabricated claims, and encouraged voters to support Democratic candidates who prioritize healthcare and truth, reports the New York Times. He also warned voters that the nation's core values are at stake in the upcoming midterm elections.\n"
     ]
    }
   ],
   "source": [
    "new_document = \"\"\"\n",
    "Former President Barack Obama delivered speeches in key battleground states, criticizing the Trump administration and warning voters that the nation's core values are at stake in the upcoming midterm elections. Obama pointed out specific instances where President Trump allegedly fabricated claims, and encouraged voters to support Democratic candidates who prioritize healthcare and truthfulness.\n",
    "\"\"\"\n",
    "\n",
    "decoder_summary, rewritten_summary = summarize_and_rewrite(new_document)\n",
    "\n",
    "print(\"\\n Decoder-Generated Summary:\\n\", decoder_summary)\n",
    "print(\"\\n Final Rewritten Summary:\\n\", rewritten_summary)\n"
   ]
  },
  {
   "cell_type": "markdown",
   "metadata": {},
   "source": [
    "### Rewriter Module: Experiment Summary\n",
    "We initially tried a rewriter model built on T5 to enhance decoder-generated summaries regarding structure and readability. When we looked at evaluation, however, the T5 rewriter introduced redundancy and repetition at the cost of no meaningful boost in quality metrics.\n",
    "\n",
    "ROUGE, BERTScore, and BLEURT decreased slightly\n",
    "Readability and fluency also did not seem to provide a significant advantage\n",
    "Example outputs manifested content redundancy and loss of conciseness"
   ]
  },
  {
   "cell_type": "markdown",
   "metadata": {},
   "source": [
    "### Response and Improvement\n",
    "\n",
    "We addressed these inadequacies by:\n",
    "\n",
    "\n",
    "* Replacing T5 rewriter with a rewriter from BART, more suited for abstractive editing.\n",
    "* Fine-tuned BART to act as a post-decoder humanizer—rewriting model outputs in terms of improving flow and legibility.Begin testing of BART rewriter on human-likeness, fluency, and structure retention.\n",
    "* This transition should produce improved-quality, redundant-free summaries with the major facts preserved from the decoder stage.\n",
    "\n",
    "\n"
   ]
  },
  {
   "cell_type": "markdown",
   "metadata": {},
   "source": [
    "<h1>Rewritter 2: Bart-based Model"
   ]
  },
  {
   "cell_type": "code",
   "execution_count": 1,
   "metadata": {
    "_cell_guid": "b1076dfc-b9ad-4769-8c92-a6c4dae69d19",
    "_uuid": "8f2839f25d086af736a60e9eeb907d3b93b6e0e5",
    "execution": {
     "iopub.execute_input": "2025-04-30T20:20:54.230235Z",
     "iopub.status.busy": "2025-04-30T20:20:54.230045Z",
     "iopub.status.idle": "2025-04-30T20:21:22.795963Z",
     "shell.execute_reply": "2025-04-30T20:21:22.795334Z",
     "shell.execute_reply.started": "2025-04-30T20:20:54.230215Z"
    }
   },
   "outputs": [
    {
     "name": "stderr",
     "output_type": "stream",
     "text": [
      "2025-04-30 20:21:09.530346: E external/local_xla/xla/stream_executor/cuda/cuda_fft.cc:477] Unable to register cuFFT factory: Attempting to register factory for plugin cuFFT when one has already been registered\n",
      "WARNING: All log messages before absl::InitializeLog() is called are written to STDERR\n",
      "E0000 00:00:1746044469.728948      31 cuda_dnn.cc:8310] Unable to register cuDNN factory: Attempting to register factory for plugin cuDNN when one has already been registered\n",
      "E0000 00:00:1746044469.782804      31 cuda_blas.cc:1418] Unable to register cuBLAS factory: Attempting to register factory for plugin cuBLAS when one has already been registered\n"
     ]
    }
   ],
   "source": [
    "import pandas as pd\n",
    "import torch\n",
    "from torch import nn\n",
    "from torch.utils.data import Dataset, DataLoader\n",
    "from transformers import T5Tokenizer, T5ForConditionalGeneration, Trainer, TrainingArguments"
   ]
  },
  {
   "cell_type": "code",
   "execution_count": 2,
   "metadata": {
    "execution": {
     "iopub.execute_input": "2025-04-30T20:22:26.899822Z",
     "iopub.status.busy": "2025-04-30T20:22:26.899238Z",
     "iopub.status.idle": "2025-04-30T20:22:26.904317Z",
     "shell.execute_reply": "2025-04-30T20:22:26.903404Z",
     "shell.execute_reply.started": "2025-04-30T20:22:26.899797Z"
    }
   },
   "outputs": [
    {
     "name": "stdout",
     "output_type": "stream",
     "text": [
      "cuda\n"
     ]
    }
   ],
   "source": [
    "device = torch.device(\"cuda\" if torch.cuda.is_available() else \"cpu\")\n",
    "print(device)"
   ]
  },
  {
   "cell_type": "code",
   "execution_count": 3,
   "metadata": {
    "execution": {
     "iopub.execute_input": "2025-04-30T20:22:34.856148Z",
     "iopub.status.busy": "2025-04-30T20:22:34.855624Z",
     "iopub.status.idle": "2025-04-30T20:23:44.244910Z",
     "shell.execute_reply": "2025-04-30T20:23:44.244141Z",
     "shell.execute_reply.started": "2025-04-30T20:22:34.856126Z"
    }
   },
   "outputs": [
    {
     "name": "stdout",
     "output_type": "stream",
     "text": [
      "Requirement already satisfied: transformers in /usr/local/lib/python3.11/dist-packages (4.51.1)\n",
      "Requirement already satisfied: datasets in /usr/local/lib/python3.11/dist-packages (3.5.0)\n",
      "Requirement already satisfied: accelerate in /usr/local/lib/python3.11/dist-packages (1.3.0)\n",
      "Requirement already satisfied: filelock in /usr/local/lib/python3.11/dist-packages (from transformers) (3.18.0)\n",
      "Requirement already satisfied: huggingface-hub<1.0,>=0.30.0 in /usr/local/lib/python3.11/dist-packages (from transformers) (0.30.2)\n",
      "Requirement already satisfied: numpy>=1.17 in /usr/local/lib/python3.11/dist-packages (from transformers) (1.26.4)\n",
      "Requirement already satisfied: packaging>=20.0 in /usr/local/lib/python3.11/dist-packages (from transformers) (24.2)\n",
      "Requirement already satisfied: pyyaml>=5.1 in /usr/local/lib/python3.11/dist-packages (from transformers) (6.0.2)\n",
      "Requirement already satisfied: regex!=2019.12.17 in /usr/local/lib/python3.11/dist-packages (from transformers) (2024.11.6)\n",
      "Requirement already satisfied: requests in /usr/local/lib/python3.11/dist-packages (from transformers) (2.32.3)\n",
      "Requirement already satisfied: tokenizers<0.22,>=0.21 in /usr/local/lib/python3.11/dist-packages (from transformers) (0.21.0)\n",
      "Requirement already satisfied: safetensors>=0.4.3 in /usr/local/lib/python3.11/dist-packages (from transformers) (0.5.2)\n",
      "Requirement already satisfied: tqdm>=4.27 in /usr/local/lib/python3.11/dist-packages (from transformers) (4.67.1)\n",
      "Requirement already satisfied: pyarrow>=15.0.0 in /usr/local/lib/python3.11/dist-packages (from datasets) (19.0.1)\n",
      "Requirement already satisfied: dill<0.3.9,>=0.3.0 in /usr/local/lib/python3.11/dist-packages (from datasets) (0.3.8)\n",
      "Requirement already satisfied: pandas in /usr/local/lib/python3.11/dist-packages (from datasets) (2.2.3)\n",
      "Requirement already satisfied: xxhash in /usr/local/lib/python3.11/dist-packages (from datasets) (3.5.0)\n",
      "Requirement already satisfied: multiprocess<0.70.17 in /usr/local/lib/python3.11/dist-packages (from datasets) (0.70.16)\n",
      "Collecting fsspec<=2024.12.0,>=2023.1.0 (from fsspec[http]<=2024.12.0,>=2023.1.0->datasets)\n",
      "  Downloading fsspec-2024.12.0-py3-none-any.whl.metadata (11 kB)\n",
      "Requirement already satisfied: aiohttp in /usr/local/lib/python3.11/dist-packages (from datasets) (3.11.16)\n",
      "Requirement already satisfied: psutil in /usr/local/lib/python3.11/dist-packages (from accelerate) (7.0.0)\n",
      "Requirement already satisfied: torch>=2.0.0 in /usr/local/lib/python3.11/dist-packages (from accelerate) (2.5.1+cu124)\n",
      "Requirement already satisfied: aiohappyeyeballs>=2.3.0 in /usr/local/lib/python3.11/dist-packages (from aiohttp->datasets) (2.6.1)\n",
      "Requirement already satisfied: aiosignal>=1.1.2 in /usr/local/lib/python3.11/dist-packages (from aiohttp->datasets) (1.3.2)\n",
      "Requirement already satisfied: attrs>=17.3.0 in /usr/local/lib/python3.11/dist-packages (from aiohttp->datasets) (25.3.0)\n",
      "Requirement already satisfied: frozenlist>=1.1.1 in /usr/local/lib/python3.11/dist-packages (from aiohttp->datasets) (1.5.0)\n",
      "Requirement already satisfied: multidict<7.0,>=4.5 in /usr/local/lib/python3.11/dist-packages (from aiohttp->datasets) (6.2.0)\n",
      "Requirement already satisfied: propcache>=0.2.0 in /usr/local/lib/python3.11/dist-packages (from aiohttp->datasets) (0.3.1)\n",
      "Requirement already satisfied: yarl<2.0,>=1.17.0 in /usr/local/lib/python3.11/dist-packages (from aiohttp->datasets) (1.19.0)\n",
      "Requirement already satisfied: typing-extensions>=3.7.4.3 in /usr/local/lib/python3.11/dist-packages (from huggingface-hub<1.0,>=0.30.0->transformers) (4.13.1)\n",
      "Requirement already satisfied: mkl_fft in /usr/local/lib/python3.11/dist-packages (from numpy>=1.17->transformers) (1.3.8)\n",
      "Requirement already satisfied: mkl_random in /usr/local/lib/python3.11/dist-packages (from numpy>=1.17->transformers) (1.2.4)\n",
      "Requirement already satisfied: mkl_umath in /usr/local/lib/python3.11/dist-packages (from numpy>=1.17->transformers) (0.1.1)\n",
      "Requirement already satisfied: mkl in /usr/local/lib/python3.11/dist-packages (from numpy>=1.17->transformers) (2025.1.0)\n",
      "Requirement already satisfied: tbb4py in /usr/local/lib/python3.11/dist-packages (from numpy>=1.17->transformers) (2022.1.0)\n",
      "Requirement already satisfied: mkl-service in /usr/local/lib/python3.11/dist-packages (from numpy>=1.17->transformers) (2.4.1)\n",
      "Requirement already satisfied: charset-normalizer<4,>=2 in /usr/local/lib/python3.11/dist-packages (from requests->transformers) (3.4.1)\n",
      "Requirement already satisfied: idna<4,>=2.5 in /usr/local/lib/python3.11/dist-packages (from requests->transformers) (3.10)\n",
      "Requirement already satisfied: urllib3<3,>=1.21.1 in /usr/local/lib/python3.11/dist-packages (from requests->transformers) (2.3.0)\n",
      "Requirement already satisfied: certifi>=2017.4.17 in /usr/local/lib/python3.11/dist-packages (from requests->transformers) (2025.1.31)\n",
      "Requirement already satisfied: networkx in /usr/local/lib/python3.11/dist-packages (from torch>=2.0.0->accelerate) (3.4.2)\n",
      "Requirement already satisfied: jinja2 in /usr/local/lib/python3.11/dist-packages (from torch>=2.0.0->accelerate) (3.1.6)\n",
      "Requirement already satisfied: nvidia-cuda-nvrtc-cu12==12.4.127 in /usr/local/lib/python3.11/dist-packages (from torch>=2.0.0->accelerate) (12.4.127)\n",
      "Requirement already satisfied: nvidia-cuda-runtime-cu12==12.4.127 in /usr/local/lib/python3.11/dist-packages (from torch>=2.0.0->accelerate) (12.4.127)\n",
      "Requirement already satisfied: nvidia-cuda-cupti-cu12==12.4.127 in /usr/local/lib/python3.11/dist-packages (from torch>=2.0.0->accelerate) (12.4.127)\n",
      "Collecting nvidia-cudnn-cu12==9.1.0.70 (from torch>=2.0.0->accelerate)\n",
      "  Downloading nvidia_cudnn_cu12-9.1.0.70-py3-none-manylinux2014_x86_64.whl.metadata (1.6 kB)\n",
      "Collecting nvidia-cublas-cu12==12.4.5.8 (from torch>=2.0.0->accelerate)\n",
      "  Downloading nvidia_cublas_cu12-12.4.5.8-py3-none-manylinux2014_x86_64.whl.metadata (1.5 kB)\n",
      "Collecting nvidia-cufft-cu12==11.2.1.3 (from torch>=2.0.0->accelerate)\n",
      "  Downloading nvidia_cufft_cu12-11.2.1.3-py3-none-manylinux2014_x86_64.whl.metadata (1.5 kB)\n",
      "Collecting nvidia-curand-cu12==10.3.5.147 (from torch>=2.0.0->accelerate)\n",
      "  Downloading nvidia_curand_cu12-10.3.5.147-py3-none-manylinux2014_x86_64.whl.metadata (1.5 kB)\n",
      "Collecting nvidia-cusolver-cu12==11.6.1.9 (from torch>=2.0.0->accelerate)\n",
      "  Downloading nvidia_cusolver_cu12-11.6.1.9-py3-none-manylinux2014_x86_64.whl.metadata (1.6 kB)\n",
      "Collecting nvidia-cusparse-cu12==12.3.1.170 (from torch>=2.0.0->accelerate)\n",
      "  Downloading nvidia_cusparse_cu12-12.3.1.170-py3-none-manylinux2014_x86_64.whl.metadata (1.6 kB)\n",
      "Requirement already satisfied: nvidia-nccl-cu12==2.21.5 in /usr/local/lib/python3.11/dist-packages (from torch>=2.0.0->accelerate) (2.21.5)\n",
      "Requirement already satisfied: nvidia-nvtx-cu12==12.4.127 in /usr/local/lib/python3.11/dist-packages (from torch>=2.0.0->accelerate) (12.4.127)\n",
      "Collecting nvidia-nvjitlink-cu12==12.4.127 (from torch>=2.0.0->accelerate)\n",
      "  Downloading nvidia_nvjitlink_cu12-12.4.127-py3-none-manylinux2014_x86_64.whl.metadata (1.5 kB)\n",
      "Requirement already satisfied: triton==3.1.0 in /usr/local/lib/python3.11/dist-packages (from torch>=2.0.0->accelerate) (3.1.0)\n",
      "Requirement already satisfied: sympy==1.13.1 in /usr/local/lib/python3.11/dist-packages (from torch>=2.0.0->accelerate) (1.13.1)\n",
      "Requirement already satisfied: mpmath<1.4,>=1.1.0 in /usr/local/lib/python3.11/dist-packages (from sympy==1.13.1->torch>=2.0.0->accelerate) (1.3.0)\n",
      "Requirement already satisfied: python-dateutil>=2.8.2 in /usr/local/lib/python3.11/dist-packages (from pandas->datasets) (2.9.0.post0)\n",
      "Requirement already satisfied: pytz>=2020.1 in /usr/local/lib/python3.11/dist-packages (from pandas->datasets) (2025.2)\n",
      "Requirement already satisfied: tzdata>=2022.7 in /usr/local/lib/python3.11/dist-packages (from pandas->datasets) (2025.2)\n",
      "Requirement already satisfied: six>=1.5 in /usr/local/lib/python3.11/dist-packages (from python-dateutil>=2.8.2->pandas->datasets) (1.17.0)\n",
      "Requirement already satisfied: MarkupSafe>=2.0 in /usr/local/lib/python3.11/dist-packages (from jinja2->torch>=2.0.0->accelerate) (3.0.2)\n",
      "Requirement already satisfied: intel-openmp<2026,>=2024 in /usr/local/lib/python3.11/dist-packages (from mkl->numpy>=1.17->transformers) (2024.2.0)\n",
      "Requirement already satisfied: tbb==2022.* in /usr/local/lib/python3.11/dist-packages (from mkl->numpy>=1.17->transformers) (2022.1.0)\n",
      "Requirement already satisfied: tcmlib==1.* in /usr/local/lib/python3.11/dist-packages (from tbb==2022.*->mkl->numpy>=1.17->transformers) (1.2.0)\n",
      "Requirement already satisfied: intel-cmplr-lib-rt in /usr/local/lib/python3.11/dist-packages (from mkl_umath->numpy>=1.17->transformers) (2024.2.0)\n",
      "Requirement already satisfied: intel-cmplr-lib-ur==2024.2.0 in /usr/local/lib/python3.11/dist-packages (from intel-openmp<2026,>=2024->mkl->numpy>=1.17->transformers) (2024.2.0)\n",
      "Downloading fsspec-2024.12.0-py3-none-any.whl (183 kB)\n",
      "\u001b[2K   \u001b[90m━━━━━━━━━━━━━━━━━━━━━━━━━━━━━━━━━━━━━━━━\u001b[0m \u001b[32m183.9/183.9 kB\u001b[0m \u001b[31m6.8 MB/s\u001b[0m eta \u001b[36m0:00:00\u001b[0m\n",
      "\u001b[?25hDownloading nvidia_cublas_cu12-12.4.5.8-py3-none-manylinux2014_x86_64.whl (363.4 MB)\n",
      "\u001b[2K   \u001b[90m━━━━━━━━━━━━━━━━━━━━━━━━━━━━━━━━━━━━━━━━\u001b[0m \u001b[32m363.4/363.4 MB\u001b[0m \u001b[31m4.1 MB/s\u001b[0m eta \u001b[36m0:00:00\u001b[0m0:00:01\u001b[0m00:01\u001b[0m\n",
      "\u001b[?25hDownloading nvidia_cudnn_cu12-9.1.0.70-py3-none-manylinux2014_x86_64.whl (664.8 MB)\n",
      "\u001b[2K   \u001b[90m━━━━━━━━━━━━━━━━━━━━━━━━━━━━━━━━━━━━━━━━\u001b[0m \u001b[32m664.8/664.8 MB\u001b[0m \u001b[31m1.9 MB/s\u001b[0m eta \u001b[36m0:00:00\u001b[0m0:00:01\u001b[0m00:01\u001b[0m\n",
      "\u001b[?25hDownloading nvidia_cufft_cu12-11.2.1.3-py3-none-manylinux2014_x86_64.whl (211.5 MB)\n",
      "\u001b[2K   \u001b[90m━━━━━━━━━━━━━━━━━━━━━━━━━━━━━━━━━━━━━━━━\u001b[0m \u001b[32m211.5/211.5 MB\u001b[0m \u001b[31m5.9 MB/s\u001b[0m eta \u001b[36m0:00:00\u001b[0m0:00:01\u001b[0m00:01\u001b[0m\n",
      "\u001b[?25hDownloading nvidia_curand_cu12-10.3.5.147-py3-none-manylinux2014_x86_64.whl (56.3 MB)\n",
      "\u001b[2K   \u001b[90m━━━━━━━━━━━━━━━━━━━━━━━━━━━━━━━━━━━━━━━━\u001b[0m \u001b[32m56.3/56.3 MB\u001b[0m \u001b[31m31.5 MB/s\u001b[0m eta \u001b[36m0:00:00\u001b[0m:00:01\u001b[0m00:01\u001b[0m\n",
      "\u001b[?25hDownloading nvidia_cusolver_cu12-11.6.1.9-py3-none-manylinux2014_x86_64.whl (127.9 MB)\n",
      "\u001b[2K   \u001b[90m━━━━━━━━━━━━━━━━━━━━━━━━━━━━━━━━━━━━━━━━\u001b[0m \u001b[32m127.9/127.9 MB\u001b[0m \u001b[31m13.6 MB/s\u001b[0m eta \u001b[36m0:00:00\u001b[0m:00:01\u001b[0m00:01\u001b[0m\n",
      "\u001b[?25hDownloading nvidia_cusparse_cu12-12.3.1.170-py3-none-manylinux2014_x86_64.whl (207.5 MB)\n",
      "\u001b[2K   \u001b[90m━━━━━━━━━━━━━━━━━━━━━━━━━━━━━━━━━━━━━━━━\u001b[0m \u001b[32m207.5/207.5 MB\u001b[0m \u001b[31m7.5 MB/s\u001b[0m eta \u001b[36m0:00:00\u001b[0m0:00:01\u001b[0m00:01\u001b[0m\n",
      "\u001b[?25hDownloading nvidia_nvjitlink_cu12-12.4.127-py3-none-manylinux2014_x86_64.whl (21.1 MB)\n",
      "\u001b[2K   \u001b[90m━━━━━━━━━━━━━━━━━━━━━━━━━━━━━━━━━━━━━━━━\u001b[0m \u001b[32m21.1/21.1 MB\u001b[0m \u001b[31m5.6 MB/s\u001b[0m eta \u001b[36m0:00:00\u001b[0m0:00:01\u001b[0m00:01\u001b[0m\n",
      "\u001b[?25hInstalling collected packages: nvidia-nvjitlink-cu12, nvidia-curand-cu12, nvidia-cufft-cu12, nvidia-cublas-cu12, fsspec, nvidia-cusparse-cu12, nvidia-cudnn-cu12, nvidia-cusolver-cu12\n",
      "  Attempting uninstall: nvidia-nvjitlink-cu12\n",
      "    Found existing installation: nvidia-nvjitlink-cu12 12.8.93\n",
      "    Uninstalling nvidia-nvjitlink-cu12-12.8.93:\n",
      "      Successfully uninstalled nvidia-nvjitlink-cu12-12.8.93\n",
      "  Attempting uninstall: nvidia-curand-cu12\n",
      "    Found existing installation: nvidia-curand-cu12 10.3.9.90\n",
      "    Uninstalling nvidia-curand-cu12-10.3.9.90:\n",
      "      Successfully uninstalled nvidia-curand-cu12-10.3.9.90\n",
      "  Attempting uninstall: nvidia-cufft-cu12\n",
      "    Found existing installation: nvidia-cufft-cu12 11.3.3.83\n",
      "    Uninstalling nvidia-cufft-cu12-11.3.3.83:\n",
      "      Successfully uninstalled nvidia-cufft-cu12-11.3.3.83\n",
      "  Attempting uninstall: nvidia-cublas-cu12\n",
      "    Found existing installation: nvidia-cublas-cu12 12.8.4.1\n",
      "    Uninstalling nvidia-cublas-cu12-12.8.4.1:\n",
      "      Successfully uninstalled nvidia-cublas-cu12-12.8.4.1\n",
      "  Attempting uninstall: fsspec\n",
      "    Found existing installation: fsspec 2025.3.2\n",
      "    Uninstalling fsspec-2025.3.2:\n",
      "      Successfully uninstalled fsspec-2025.3.2\n",
      "  Attempting uninstall: nvidia-cusparse-cu12\n",
      "    Found existing installation: nvidia-cusparse-cu12 12.5.8.93\n",
      "    Uninstalling nvidia-cusparse-cu12-12.5.8.93:\n",
      "      Successfully uninstalled nvidia-cusparse-cu12-12.5.8.93\n",
      "  Attempting uninstall: nvidia-cudnn-cu12\n",
      "    Found existing installation: nvidia-cudnn-cu12 9.3.0.75\n",
      "    Uninstalling nvidia-cudnn-cu12-9.3.0.75:\n",
      "      Successfully uninstalled nvidia-cudnn-cu12-9.3.0.75\n",
      "  Attempting uninstall: nvidia-cusolver-cu12\n",
      "    Found existing installation: nvidia-cusolver-cu12 11.7.3.90\n",
      "    Uninstalling nvidia-cusolver-cu12-11.7.3.90:\n",
      "      Successfully uninstalled nvidia-cusolver-cu12-11.7.3.90\n",
      "\u001b[31mERROR: pip's dependency resolver does not currently take into account all the packages that are installed. This behaviour is the source of the following dependency conflicts.\n",
      "gcsfs 2024.10.0 requires fsspec==2024.10.0, but you have fsspec 2024.12.0 which is incompatible.\n",
      "bigframes 1.36.0 requires rich<14,>=12.4.4, but you have rich 14.0.0 which is incompatible.\n",
      "pylibcugraph-cu12 24.12.0 requires pylibraft-cu12==24.12.*, but you have pylibraft-cu12 25.2.0 which is incompatible.\n",
      "pylibcugraph-cu12 24.12.0 requires rmm-cu12==24.12.*, but you have rmm-cu12 25.2.0 which is incompatible.\u001b[0m\u001b[31m\n",
      "\u001b[0mSuccessfully installed fsspec-2024.12.0 nvidia-cublas-cu12-12.4.5.8 nvidia-cudnn-cu12-9.1.0.70 nvidia-cufft-cu12-11.2.1.3 nvidia-curand-cu12-10.3.5.147 nvidia-cusolver-cu12-11.6.1.9 nvidia-cusparse-cu12-12.3.1.170 nvidia-nvjitlink-cu12-12.4.127\n"
     ]
    }
   ],
   "source": [
    "!pip install transformers datasets accelerate"
   ]
  },
  {
   "cell_type": "markdown",
   "metadata": {},
   "source": [
    "Input: Generated summaries from the decoder models.\n",
    "Target: Human-written or length-preserved summaries."
   ]
  },
  {
   "cell_type": "code",
   "execution_count": 4,
   "metadata": {
    "execution": {
     "iopub.execute_input": "2025-04-30T20:23:44.246614Z",
     "iopub.status.busy": "2025-04-30T20:23:44.246318Z",
     "iopub.status.idle": "2025-04-30T20:23:44.531456Z",
     "shell.execute_reply": "2025-04-30T20:23:44.530678Z",
     "shell.execute_reply.started": "2025-04-30T20:23:44.246585Z"
    }
   },
   "outputs": [],
   "source": [
    "import pandas as pd\n",
    "from datasets import Dataset\n",
    "from transformers import BartTokenizer, BartForConditionalGeneration, Seq2SeqTrainer, Seq2SeqTrainingArguments, DataCollatorForSeq2Seq\n",
    "\n",
    "df = pd.read_csv(\"/kaggle/input/rewritter-results/Rewritter_results.csv\").dropna()\n",
    "df = df.rename(columns={\"generated\": \"input_text\", \"length_matched_rewrite\": \"target_text\"})\n",
    "\n",
    "dataset = Dataset.from_pandas(df[[\"input_text\", \"target_text\"]])\n",
    "dataset = dataset.train_test_split(test_size=0.1)\n",
    "train_dataset = dataset[\"train\"]\n",
    "eval_dataset = dataset[\"test\"]"
   ]
  },
  {
   "cell_type": "markdown",
   "metadata": {},
   "source": [
    "Importing pretrained Bart Model"
   ]
  },
  {
   "cell_type": "code",
   "execution_count": 5,
   "metadata": {
    "execution": {
     "iopub.execute_input": "2025-04-30T20:23:44.532459Z",
     "iopub.status.busy": "2025-04-30T20:23:44.532166Z",
     "iopub.status.idle": "2025-04-30T20:23:48.897436Z",
     "shell.execute_reply": "2025-04-30T20:23:48.896866Z",
     "shell.execute_reply.started": "2025-04-30T20:23:44.532436Z"
    }
   },
   "outputs": [
    {
     "data": {
      "application/vnd.jupyter.widget-view+json": {
       "model_id": "0780c7e35e8d4d9da02a1abcc0d2176a",
       "version_major": 2,
       "version_minor": 0
      },
      "text/plain": [
       "vocab.json:   0%|          | 0.00/899k [00:00<?, ?B/s]"
      ]
     },
     "metadata": {},
     "output_type": "display_data"
    },
    {
     "data": {
      "application/vnd.jupyter.widget-view+json": {
       "model_id": "c055d89b2787445688c3e804a9f4be32",
       "version_major": 2,
       "version_minor": 0
      },
      "text/plain": [
       "merges.txt:   0%|          | 0.00/456k [00:00<?, ?B/s]"
      ]
     },
     "metadata": {},
     "output_type": "display_data"
    },
    {
     "data": {
      "application/vnd.jupyter.widget-view+json": {
       "model_id": "eafc2773f7e640d38064a90db9d05e77",
       "version_major": 2,
       "version_minor": 0
      },
      "text/plain": [
       "tokenizer.json:   0%|          | 0.00/1.36M [00:00<?, ?B/s]"
      ]
     },
     "metadata": {},
     "output_type": "display_data"
    },
    {
     "data": {
      "application/vnd.jupyter.widget-view+json": {
       "model_id": "574c042b745a46e0b3907b9d31c0c1b8",
       "version_major": 2,
       "version_minor": 0
      },
      "text/plain": [
       "config.json:   0%|          | 0.00/1.72k [00:00<?, ?B/s]"
      ]
     },
     "metadata": {},
     "output_type": "display_data"
    },
    {
     "data": {
      "application/vnd.jupyter.widget-view+json": {
       "model_id": "f9cc73072891426185dd1af331b5410a",
       "version_major": 2,
       "version_minor": 0
      },
      "text/plain": [
       "model.safetensors:   0%|          | 0.00/558M [00:00<?, ?B/s]"
      ]
     },
     "metadata": {},
     "output_type": "display_data"
    }
   ],
   "source": [
    "tokenizer = BartTokenizer.from_pretrained(\"facebook/bart-base\")\n",
    "model = BartForConditionalGeneration.from_pretrained(\"facebook/bart-base\")"
   ]
  },
  {
   "cell_type": "markdown",
   "metadata": {},
   "source": [
    "Proprocessing and generating tokens"
   ]
  },
  {
   "cell_type": "code",
   "execution_count": 6,
   "metadata": {
    "execution": {
     "iopub.execute_input": "2025-04-30T20:23:48.898920Z",
     "iopub.status.busy": "2025-04-30T20:23:48.898617Z",
     "iopub.status.idle": "2025-04-30T20:23:59.157169Z",
     "shell.execute_reply": "2025-04-30T20:23:59.156612Z",
     "shell.execute_reply.started": "2025-04-30T20:23:48.898901Z"
    }
   },
   "outputs": [
    {
     "data": {
      "application/vnd.jupyter.widget-view+json": {
       "model_id": "c2ee03afa74949efa10f33d025f5eb7e",
       "version_major": 2,
       "version_minor": 0
      },
      "text/plain": [
       "Map:   0%|          | 0/2250 [00:00<?, ? examples/s]"
      ]
     },
     "metadata": {},
     "output_type": "display_data"
    },
    {
     "name": "stderr",
     "output_type": "stream",
     "text": [
      "/usr/local/lib/python3.11/dist-packages/transformers/tokenization_utils_base.py:3980: UserWarning: `as_target_tokenizer` is deprecated and will be removed in v5 of Transformers. You can tokenize your labels by using the argument `text_target` of the regular `__call__` method (either in the same call as your input texts if you use the same keyword arguments, or in a separate call.\n",
      "  warnings.warn(\n"
     ]
    },
    {
     "data": {
      "application/vnd.jupyter.widget-view+json": {
       "model_id": "5f4b7819d4574d388a7762c70952a75a",
       "version_major": 2,
       "version_minor": 0
      },
      "text/plain": [
       "Map:   0%|          | 0/250 [00:00<?, ? examples/s]"
      ]
     },
     "metadata": {},
     "output_type": "display_data"
    }
   ],
   "source": [
    "def preprocess(batch):\n",
    "    inputs = tokenizer(batch[\"input_text\"], max_length=1024, padding=\"max_length\", truncation=True)\n",
    "    with tokenizer.as_target_tokenizer():\n",
    "        labels = tokenizer(batch[\"target_text\"], max_length=1024, padding=\"max_length\", truncation=True)\n",
    "    inputs[\"labels\"] = labels[\"input_ids\"]\n",
    "    return inputs\n",
    "\n",
    "train_dataset = train_dataset.map(preprocess, batched=True)\n",
    "eval_dataset = eval_dataset.map(preprocess, batched=True)"
   ]
  },
  {
   "cell_type": "code",
   "execution_count": 8,
   "metadata": {
    "execution": {
     "iopub.execute_input": "2025-04-30T20:24:06.032428Z",
     "iopub.status.busy": "2025-04-30T20:24:06.031657Z",
     "iopub.status.idle": "2025-04-30T20:24:06.060082Z",
     "shell.execute_reply": "2025-04-30T20:24:06.059529Z",
     "shell.execute_reply.started": "2025-04-30T20:24:06.032397Z"
    }
   },
   "outputs": [],
   "source": [
    "training_args = Seq2SeqTrainingArguments(\n",
    "    output_dir=\"./finetuned_bart_rewriter\",\n",
    "    save_strategy=\"epoch\",\n",
    "    learning_rate=3e-5,\n",
    "    per_device_train_batch_size=2,\n",
    "    per_device_eval_batch_size=2,\n",
    "    weight_decay=0.01,\n",
    "    num_train_epochs=5,\n",
    "    predict_with_generate=True,\n",
    "    fp16=True,\n",
    "    save_total_limit=1,\n",
    "    report_to=\"none\"\n",
    ")"
   ]
  },
  {
   "cell_type": "markdown",
   "metadata": {},
   "source": [
    "Training Bart Model:"
   ]
  },
  {
   "cell_type": "code",
   "execution_count": 9,
   "metadata": {
    "execution": {
     "iopub.execute_input": "2025-04-30T20:24:08.717986Z",
     "iopub.status.busy": "2025-04-30T20:24:08.717419Z",
     "iopub.status.idle": "2025-04-30T21:14:17.570094Z",
     "shell.execute_reply": "2025-04-30T21:14:17.569362Z",
     "shell.execute_reply.started": "2025-04-30T20:24:08.717964Z"
    }
   },
   "outputs": [
    {
     "name": "stderr",
     "output_type": "stream",
     "text": [
      "/tmp/ipykernel_31/819766005.py:1: FutureWarning: `tokenizer` is deprecated and will be removed in version 5.0.0 for `Seq2SeqTrainer.__init__`. Use `processing_class` instead.\n",
      "  trainer = Seq2SeqTrainer(\n"
     ]
    },
    {
     "data": {
      "text/html": [
       "\n",
       "    <div>\n",
       "      \n",
       "      <progress value='5625' max='5625' style='width:300px; height:20px; vertical-align: middle;'></progress>\n",
       "      [5625/5625 50:06, Epoch 5/5]\n",
       "    </div>\n",
       "    <table border=\"1\" class=\"dataframe\">\n",
       "  <thead>\n",
       " <tr style=\"text-align: left;\">\n",
       "      <th>Step</th>\n",
       "      <th>Training Loss</th>\n",
       "    </tr>\n",
       "  </thead>\n",
       "  <tbody>\n",
       "    <tr>\n",
       "      <td>500</td>\n",
       "      <td>1.030300</td>\n",
       "    </tr>\n",
       "    <tr>\n",
       "      <td>1000</td>\n",
       "      <td>0.088500</td>\n",
       "    </tr>\n",
       "    <tr>\n",
       "      <td>1500</td>\n",
       "      <td>0.074700</td>\n",
       "    </tr>\n",
       "    <tr>\n",
       "      <td>2000</td>\n",
       "      <td>0.069300</td>\n",
       "    </tr>\n",
       "    <tr>\n",
       "      <td>2500</td>\n",
       "      <td>0.061600</td>\n",
       "    </tr>\n",
       "    <tr>\n",
       "      <td>3000</td>\n",
       "      <td>0.056400</td>\n",
       "    </tr>\n",
       "    <tr>\n",
       "      <td>3500</td>\n",
       "      <td>0.052100</td>\n",
       "    </tr>\n",
       "    <tr>\n",
       "      <td>4000</td>\n",
       "      <td>0.046300</td>\n",
       "    </tr>\n",
       "    <tr>\n",
       "      <td>4500</td>\n",
       "      <td>0.047100</td>\n",
       "    </tr>\n",
       "    <tr>\n",
       "      <td>5000</td>\n",
       "      <td>0.041800</td>\n",
       "    </tr>\n",
       "    <tr>\n",
       "      <td>5500</td>\n",
       "      <td>0.041000</td>\n",
       "    </tr>\n",
       "  </tbody>\n",
       "</table><p>"
      ],
      "text/plain": [
       "<IPython.core.display.HTML object>"
      ]
     },
     "metadata": {},
     "output_type": "display_data"
    },
    {
     "name": "stderr",
     "output_type": "stream",
     "text": [
      "/usr/local/lib/python3.11/dist-packages/transformers/modeling_utils.py:3339: UserWarning: Moving the following attributes in the config to the generation config: {'early_stopping': True, 'num_beams': 4, 'no_repeat_ngram_size': 3, 'forced_bos_token_id': 0}. You are seeing this warning because you've set generation parameters in the model config, as opposed to in the generation config.\n",
      "  warnings.warn(\n"
     ]
    },
    {
     "data": {
      "text/plain": [
       "TrainOutput(global_step=5625, training_loss=0.1439876062181261, metrics={'train_runtime': 3007.9987, 'train_samples_per_second': 3.74, 'train_steps_per_second': 1.87, 'total_flos': 6859535155200000.0, 'train_loss': 0.1439876062181261, 'epoch': 5.0})"
      ]
     },
     "execution_count": 9,
     "metadata": {},
     "output_type": "execute_result"
    }
   ],
   "source": [
    "trainer = Seq2SeqTrainer(\n",
    "    model=model,\n",
    "    args=training_args,\n",
    "    train_dataset=train_dataset,\n",
    "    eval_dataset=eval_dataset,\n",
    "    tokenizer=tokenizer,\n",
    "    data_collator=DataCollatorForSeq2Seq(tokenizer, model)\n",
    ")\n",
    "\n",
    "trainer.train()"
   ]
  },
  {
   "cell_type": "markdown",
   "metadata": {},
   "source": [
    "Saving our fine tuned model"
   ]
  },
  {
   "cell_type": "code",
   "execution_count": 10,
   "metadata": {
    "execution": {
     "iopub.execute_input": "2025-04-30T21:15:26.677983Z",
     "iopub.status.busy": "2025-04-30T21:15:26.677476Z",
     "iopub.status.idle": "2025-04-30T21:15:28.191865Z",
     "shell.execute_reply": "2025-04-30T21:15:28.191064Z",
     "shell.execute_reply.started": "2025-04-30T21:15:26.677958Z"
    }
   },
   "outputs": [
    {
     "name": "stdout",
     "output_type": "stream",
     "text": [
      "Finetuned model saved to './finetuned_bart_rewriter'\n"
     ]
    }
   ],
   "source": [
    "trainer.save_model(\"./finetuned_bart_rewriter\")\n",
    "tokenizer.save_pretrained(\"./finetuned_bart_rewriter\")\n",
    "\n",
    "print(\"Finetuned model saved to './finetuned_bart_rewriter'\")"
   ]
  },
  {
   "cell_type": "code",
   "execution_count": 11,
   "metadata": {
    "execution": {
     "iopub.execute_input": "2025-04-30T21:17:02.004451Z",
     "iopub.status.busy": "2025-04-30T21:17:02.003875Z",
     "iopub.status.idle": "2025-04-30T21:18:54.140663Z",
     "shell.execute_reply": "2025-04-30T21:18:54.139931Z",
     "shell.execute_reply.started": "2025-04-30T21:17:02.004425Z"
    }
   },
   "outputs": [
    {
     "name": "stdout",
     "output_type": "stream",
     "text": [
      "  adding: finetuned_bart_rewriter/ (stored 0%)\n",
      "  adding: finetuned_bart_rewriter/config.json (deflated 64%)\n",
      "  adding: finetuned_bart_rewriter/model.safetensors (deflated 7%)\n",
      "  adding: finetuned_bart_rewriter/checkpoint-5625/ (stored 0%)\n",
      "  adding: finetuned_bart_rewriter/checkpoint-5625/config.json (deflated 64%)\n",
      "  adding: finetuned_bart_rewriter/checkpoint-5625/model.safetensors (deflated 7%)\n",
      "  adding: finetuned_bart_rewriter/checkpoint-5625/special_tokens_map.json (deflated 85%)\n",
      "  adding: finetuned_bart_rewriter/checkpoint-5625/training_args.bin (deflated 51%)\n",
      "  adding: finetuned_bart_rewriter/checkpoint-5625/rng_state.pth (deflated 25%)\n",
      "  adding: finetuned_bart_rewriter/checkpoint-5625/trainer_state.json (deflated 72%)\n",
      "  adding: finetuned_bart_rewriter/checkpoint-5625/scaler.pt (deflated 60%)\n",
      "  adding: finetuned_bart_rewriter/checkpoint-5625/optimizer.pt (deflated 8%)\n",
      "  adding: finetuned_bart_rewriter/checkpoint-5625/merges.txt (deflated 53%)\n",
      "  adding: finetuned_bart_rewriter/checkpoint-5625/generation_config.json (deflated 47%)\n",
      "  adding: finetuned_bart_rewriter/checkpoint-5625/tokenizer_config.json (deflated 75%)\n",
      "  adding: finetuned_bart_rewriter/checkpoint-5625/scheduler.pt (deflated 55%)\n",
      "  adding: finetuned_bart_rewriter/checkpoint-5625/vocab.json (deflated 68%)\n",
      "  adding: finetuned_bart_rewriter/special_tokens_map.json (deflated 85%)\n",
      "  adding: finetuned_bart_rewriter/training_args.bin (deflated 51%)\n",
      "  adding: finetuned_bart_rewriter/merges.txt (deflated 53%)\n",
      "  adding: finetuned_bart_rewriter/generation_config.json (deflated 47%)\n",
      "  adding: finetuned_bart_rewriter/tokenizer_config.json (deflated 75%)\n",
      "  adding: finetuned_bart_rewriter/vocab.json (deflated 68%)\n"
     ]
    }
   ],
   "source": [
    "!zip -r finetuned_bart_rewriter.zip finetuned_bart_rewriter"
   ]
  },
  {
   "cell_type": "markdown",
   "metadata": {},
   "source": [
    "Sample Rewritten Summary"
   ]
  },
  {
   "cell_type": "code",
   "execution_count": null,
   "metadata": {
    "execution": {
     "iopub.execute_input": "2025-04-30T21:19:08.795599Z",
     "iopub.status.busy": "2025-04-30T21:19:08.795314Z",
     "iopub.status.idle": "2025-04-30T21:19:11.373686Z",
     "shell.execute_reply": "2025-04-30T21:19:11.372873Z",
     "shell.execute_reply.started": "2025-04-30T21:19:08.795577Z"
    }
   },
   "outputs": [
    {
     "name": "stderr",
     "output_type": "stream",
     "text": [
      "Device set to use cuda:0\n"
     ]
    },
    {
     "name": "stdout",
     "output_type": "stream",
     "text": [
      "Rewritten output:\n",
      " In an effort to improve performance in high-stakes roles, U.S. military scientists have successfully tested brain stimulation devices that could one day help air crews, drone pilots, and other personnel stay sharp under pressure, according to The Guardian. The technology involves placing five electrodes on the scalp to deliver gentle electrical pulses to targeted areas of the brain. These tiny zaps help neurons fire more effectively, potentially boosting cognitive function without relying on stimulants like modafinil or Ritalin, which are sometimes used off-label in military settings. In fact, earlier research from the same lab showed this method outperformed caffeine in keeping analysts alert during long shifts. It's even being explored to improve soldiers' ability to detect threats—like spotting snipers faster during virtual training simulations.\n"
     ]
    }
   ],
   "source": [
    "from transformers import pipeline, BartForConditionalGeneration, BartTokenizer\n",
    "\n",
    "model = BartForConditionalGeneration.from_pretrained(\"./finetuned_bart_rewriter\")\n",
    "tokenizer = BartTokenizer.from_pretrained(\"./finetuned_bart_rewriter\")\n",
    "rewriter = pipeline(\"text2text-generation\", model=model, tokenizer=tokenizer, device=0)\n",
    "\n",
    "sample_text = \"US military scientists have used electrical brain stimulators to enhance mental skills of staff, in research that aims to boost the performance of air crews, drone operators, and others in the armed forces' most demanding roles, the Guardian reports. The successful tests of the devices pave the way for servicemen and women to be wired up at critical times of duty, so that electrical pulses can beamed into their brains to improve their effectiveness in high pressure situations. The brain stimulation kits use five electrodes to send weak electric currents through the skull and into specific parts of the cortex. Previous studies have found evidence that by helping neurons to fire, these minor brain zaps can boost cognitive ability. The technology is seen as a safer alternative to prescription drugs, such as modafinil and ritalin, both of which have been used off-label as performance enhancing drugs in the military. Last year, researchers at the same US facility found that tDCS seemed to work better than caffeine at keeping military target analysts vigilant after long hours at the desk. Brain stimulation has also been tested for its potential to help soldiers spot snipers more quickly in VR training programmes.\"\n",
    "\n",
    "input_prompt = (\n",
    "    \"Rewrite the following paragraph to preserve structure, clarity, and detail:\\n\\n\" + sample_text\n",
    ")\n",
    "\n",
    "result = rewriter(input_prompt, max_length=512, do_sample=False)\n",
    "print(\"Rewritten output:\\n\", result[0]['generated_text'])\n"
   ]
  },
  {
   "cell_type": "markdown",
   "metadata": {},
   "source": [
    "Evaluation"
   ]
  },
  {
   "cell_type": "code",
   "execution_count": 13,
   "metadata": {
    "execution": {
     "iopub.execute_input": "2025-04-30T21:20:53.487023Z",
     "iopub.status.busy": "2025-04-30T21:20:53.486515Z",
     "iopub.status.idle": "2025-04-30T21:20:57.773310Z",
     "shell.execute_reply": "2025-04-30T21:20:57.772594Z",
     "shell.execute_reply.started": "2025-04-30T21:20:53.487001Z"
    }
   },
   "outputs": [
    {
     "name": "stdout",
     "output_type": "stream",
     "text": [
      "Requirement already satisfied: transformers in /usr/local/lib/python3.11/dist-packages (4.51.1)\n",
      "Requirement already satisfied: datasets in /usr/local/lib/python3.11/dist-packages (3.5.0)\n",
      "Collecting bert-score\n",
      "  Downloading bert_score-0.3.13-py3-none-any.whl.metadata (15 kB)\n",
      "Collecting textstat\n",
      "  Downloading textstat-0.7.5-py3-none-any.whl.metadata (15 kB)\n",
      "Requirement already satisfied: scipy in /usr/local/lib/python3.11/dist-packages (1.15.2)\n",
      "Requirement already satisfied: filelock in /usr/local/lib/python3.11/dist-packages (from transformers) (3.18.0)\n",
      "Requirement already satisfied: huggingface-hub<1.0,>=0.30.0 in /usr/local/lib/python3.11/dist-packages (from transformers) (0.30.2)\n",
      "Requirement already satisfied: numpy>=1.17 in /usr/local/lib/python3.11/dist-packages (from transformers) (1.26.4)\n",
      "Requirement already satisfied: packaging>=20.0 in /usr/local/lib/python3.11/dist-packages (from transformers) (24.2)\n",
      "Requirement already satisfied: pyyaml>=5.1 in /usr/local/lib/python3.11/dist-packages (from transformers) (6.0.2)\n",
      "Requirement already satisfied: regex!=2019.12.17 in /usr/local/lib/python3.11/dist-packages (from transformers) (2024.11.6)\n",
      "Requirement already satisfied: requests in /usr/local/lib/python3.11/dist-packages (from transformers) (2.32.3)\n",
      "Requirement already satisfied: tokenizers<0.22,>=0.21 in /usr/local/lib/python3.11/dist-packages (from transformers) (0.21.0)\n",
      "Requirement already satisfied: safetensors>=0.4.3 in /usr/local/lib/python3.11/dist-packages (from transformers) (0.5.2)\n",
      "Requirement already satisfied: tqdm>=4.27 in /usr/local/lib/python3.11/dist-packages (from transformers) (4.67.1)\n",
      "Requirement already satisfied: pyarrow>=15.0.0 in /usr/local/lib/python3.11/dist-packages (from datasets) (19.0.1)\n",
      "Requirement already satisfied: dill<0.3.9,>=0.3.0 in /usr/local/lib/python3.11/dist-packages (from datasets) (0.3.8)\n",
      "Requirement already satisfied: pandas in /usr/local/lib/python3.11/dist-packages (from datasets) (2.2.3)\n",
      "Requirement already satisfied: xxhash in /usr/local/lib/python3.11/dist-packages (from datasets) (3.5.0)\n",
      "Requirement already satisfied: multiprocess<0.70.17 in /usr/local/lib/python3.11/dist-packages (from datasets) (0.70.16)\n",
      "Requirement already satisfied: fsspec<=2024.12.0,>=2023.1.0 in /usr/local/lib/python3.11/dist-packages (from fsspec[http]<=2024.12.0,>=2023.1.0->datasets) (2024.12.0)\n",
      "Requirement already satisfied: aiohttp in /usr/local/lib/python3.11/dist-packages (from datasets) (3.11.16)\n",
      "Requirement already satisfied: torch>=1.0.0 in /usr/local/lib/python3.11/dist-packages (from bert-score) (2.5.1+cu124)\n",
      "Requirement already satisfied: matplotlib in /usr/local/lib/python3.11/dist-packages (from bert-score) (3.7.5)\n",
      "Collecting pyphen (from textstat)\n",
      "  Downloading pyphen-0.17.2-py3-none-any.whl.metadata (3.2 kB)\n",
      "Collecting cmudict (from textstat)\n",
      "  Downloading cmudict-1.0.32-py3-none-any.whl.metadata (3.6 kB)\n",
      "Requirement already satisfied: setuptools in /usr/local/lib/python3.11/dist-packages (from textstat) (75.1.0)\n",
      "Requirement already satisfied: aiohappyeyeballs>=2.3.0 in /usr/local/lib/python3.11/dist-packages (from aiohttp->datasets) (2.6.1)\n",
      "Requirement already satisfied: aiosignal>=1.1.2 in /usr/local/lib/python3.11/dist-packages (from aiohttp->datasets) (1.3.2)\n",
      "Requirement already satisfied: attrs>=17.3.0 in /usr/local/lib/python3.11/dist-packages (from aiohttp->datasets) (25.3.0)\n",
      "Requirement already satisfied: frozenlist>=1.1.1 in /usr/local/lib/python3.11/dist-packages (from aiohttp->datasets) (1.5.0)\n",
      "Requirement already satisfied: multidict<7.0,>=4.5 in /usr/local/lib/python3.11/dist-packages (from aiohttp->datasets) (6.2.0)\n",
      "Requirement already satisfied: propcache>=0.2.0 in /usr/local/lib/python3.11/dist-packages (from aiohttp->datasets) (0.3.1)\n",
      "Requirement already satisfied: yarl<2.0,>=1.17.0 in /usr/local/lib/python3.11/dist-packages (from aiohttp->datasets) (1.19.0)\n",
      "Requirement already satisfied: typing-extensions>=3.7.4.3 in /usr/local/lib/python3.11/dist-packages (from huggingface-hub<1.0,>=0.30.0->transformers) (4.13.1)\n",
      "Requirement already satisfied: mkl_fft in /usr/local/lib/python3.11/dist-packages (from numpy>=1.17->transformers) (1.3.8)\n",
      "Requirement already satisfied: mkl_random in /usr/local/lib/python3.11/dist-packages (from numpy>=1.17->transformers) (1.2.4)\n",
      "Requirement already satisfied: mkl_umath in /usr/local/lib/python3.11/dist-packages (from numpy>=1.17->transformers) (0.1.1)\n",
      "Requirement already satisfied: mkl in /usr/local/lib/python3.11/dist-packages (from numpy>=1.17->transformers) (2025.1.0)\n",
      "Requirement already satisfied: tbb4py in /usr/local/lib/python3.11/dist-packages (from numpy>=1.17->transformers) (2022.1.0)\n",
      "Requirement already satisfied: mkl-service in /usr/local/lib/python3.11/dist-packages (from numpy>=1.17->transformers) (2.4.1)\n",
      "Requirement already satisfied: python-dateutil>=2.8.2 in /usr/local/lib/python3.11/dist-packages (from pandas->datasets) (2.9.0.post0)\n",
      "Requirement already satisfied: pytz>=2020.1 in /usr/local/lib/python3.11/dist-packages (from pandas->datasets) (2025.2)\n",
      "Requirement already satisfied: tzdata>=2022.7 in /usr/local/lib/python3.11/dist-packages (from pandas->datasets) (2025.2)\n",
      "Requirement already satisfied: charset-normalizer<4,>=2 in /usr/local/lib/python3.11/dist-packages (from requests->transformers) (3.4.1)\n",
      "Requirement already satisfied: idna<4,>=2.5 in /usr/local/lib/python3.11/dist-packages (from requests->transformers) (3.10)\n",
      "Requirement already satisfied: urllib3<3,>=1.21.1 in /usr/local/lib/python3.11/dist-packages (from requests->transformers) (2.3.0)\n",
      "Requirement already satisfied: certifi>=2017.4.17 in /usr/local/lib/python3.11/dist-packages (from requests->transformers) (2025.1.31)\n",
      "Requirement already satisfied: networkx in /usr/local/lib/python3.11/dist-packages (from torch>=1.0.0->bert-score) (3.4.2)\n",
      "Requirement already satisfied: jinja2 in /usr/local/lib/python3.11/dist-packages (from torch>=1.0.0->bert-score) (3.1.6)\n",
      "Requirement already satisfied: nvidia-cuda-nvrtc-cu12==12.4.127 in /usr/local/lib/python3.11/dist-packages (from torch>=1.0.0->bert-score) (12.4.127)\n",
      "Requirement already satisfied: nvidia-cuda-runtime-cu12==12.4.127 in /usr/local/lib/python3.11/dist-packages (from torch>=1.0.0->bert-score) (12.4.127)\n",
      "Requirement already satisfied: nvidia-cuda-cupti-cu12==12.4.127 in /usr/local/lib/python3.11/dist-packages (from torch>=1.0.0->bert-score) (12.4.127)\n",
      "Requirement already satisfied: nvidia-cudnn-cu12==9.1.0.70 in /usr/local/lib/python3.11/dist-packages (from torch>=1.0.0->bert-score) (9.1.0.70)\n",
      "Requirement already satisfied: nvidia-cublas-cu12==12.4.5.8 in /usr/local/lib/python3.11/dist-packages (from torch>=1.0.0->bert-score) (12.4.5.8)\n",
      "Requirement already satisfied: nvidia-cufft-cu12==11.2.1.3 in /usr/local/lib/python3.11/dist-packages (from torch>=1.0.0->bert-score) (11.2.1.3)\n",
      "Requirement already satisfied: nvidia-curand-cu12==10.3.5.147 in /usr/local/lib/python3.11/dist-packages (from torch>=1.0.0->bert-score) (10.3.5.147)\n",
      "Requirement already satisfied: nvidia-cusolver-cu12==11.6.1.9 in /usr/local/lib/python3.11/dist-packages (from torch>=1.0.0->bert-score) (11.6.1.9)\n",
      "Requirement already satisfied: nvidia-cusparse-cu12==12.3.1.170 in /usr/local/lib/python3.11/dist-packages (from torch>=1.0.0->bert-score) (12.3.1.170)\n",
      "Requirement already satisfied: nvidia-nccl-cu12==2.21.5 in /usr/local/lib/python3.11/dist-packages (from torch>=1.0.0->bert-score) (2.21.5)\n",
      "Requirement already satisfied: nvidia-nvtx-cu12==12.4.127 in /usr/local/lib/python3.11/dist-packages (from torch>=1.0.0->bert-score) (12.4.127)\n",
      "Requirement already satisfied: nvidia-nvjitlink-cu12==12.4.127 in /usr/local/lib/python3.11/dist-packages (from torch>=1.0.0->bert-score) (12.4.127)\n",
      "Requirement already satisfied: triton==3.1.0 in /usr/local/lib/python3.11/dist-packages (from torch>=1.0.0->bert-score) (3.1.0)\n",
      "Requirement already satisfied: sympy==1.13.1 in /usr/local/lib/python3.11/dist-packages (from torch>=1.0.0->bert-score) (1.13.1)\n",
      "Requirement already satisfied: mpmath<1.4,>=1.1.0 in /usr/local/lib/python3.11/dist-packages (from sympy==1.13.1->torch>=1.0.0->bert-score) (1.3.0)\n",
      "Requirement already satisfied: importlib-metadata>=5 in /usr/local/lib/python3.11/dist-packages (from cmudict->textstat) (8.6.1)\n",
      "Requirement already satisfied: importlib-resources>=5 in /usr/local/lib/python3.11/dist-packages (from cmudict->textstat) (6.5.2)\n",
      "Requirement already satisfied: contourpy>=1.0.1 in /usr/local/lib/python3.11/dist-packages (from matplotlib->bert-score) (1.3.1)\n",
      "Requirement already satisfied: cycler>=0.10 in /usr/local/lib/python3.11/dist-packages (from matplotlib->bert-score) (0.12.1)\n",
      "Requirement already satisfied: fonttools>=4.22.0 in /usr/local/lib/python3.11/dist-packages (from matplotlib->bert-score) (4.56.0)\n",
      "Requirement already satisfied: kiwisolver>=1.0.1 in /usr/local/lib/python3.11/dist-packages (from matplotlib->bert-score) (1.4.8)\n",
      "Requirement already satisfied: pillow>=6.2.0 in /usr/local/lib/python3.11/dist-packages (from matplotlib->bert-score) (11.1.0)\n",
      "Requirement already satisfied: pyparsing>=2.3.1 in /usr/local/lib/python3.11/dist-packages (from matplotlib->bert-score) (3.2.1)\n",
      "Requirement already satisfied: zipp>=3.20 in /usr/local/lib/python3.11/dist-packages (from importlib-metadata>=5->cmudict->textstat) (3.21.0)\n",
      "Requirement already satisfied: six>=1.5 in /usr/local/lib/python3.11/dist-packages (from python-dateutil>=2.8.2->pandas->datasets) (1.17.0)\n",
      "Requirement already satisfied: MarkupSafe>=2.0 in /usr/local/lib/python3.11/dist-packages (from jinja2->torch>=1.0.0->bert-score) (3.0.2)\n",
      "Requirement already satisfied: intel-openmp<2026,>=2024 in /usr/local/lib/python3.11/dist-packages (from mkl->numpy>=1.17->transformers) (2024.2.0)\n",
      "Requirement already satisfied: tbb==2022.* in /usr/local/lib/python3.11/dist-packages (from mkl->numpy>=1.17->transformers) (2022.1.0)\n",
      "Requirement already satisfied: tcmlib==1.* in /usr/local/lib/python3.11/dist-packages (from tbb==2022.*->mkl->numpy>=1.17->transformers) (1.2.0)\n",
      "Requirement already satisfied: intel-cmplr-lib-rt in /usr/local/lib/python3.11/dist-packages (from mkl_umath->numpy>=1.17->transformers) (2024.2.0)\n",
      "Requirement already satisfied: intel-cmplr-lib-ur==2024.2.0 in /usr/local/lib/python3.11/dist-packages (from intel-openmp<2026,>=2024->mkl->numpy>=1.17->transformers) (2024.2.0)\n",
      "Downloading bert_score-0.3.13-py3-none-any.whl (61 kB)\n",
      "\u001b[2K   \u001b[90m━━━━━━━━━━━━━━━━━━━━━━━━━━━━━━━━━━━━━━━━\u001b[0m \u001b[32m61.1/61.1 kB\u001b[0m \u001b[31m2.7 MB/s\u001b[0m eta \u001b[36m0:00:00\u001b[0m\n",
      "\u001b[?25hDownloading textstat-0.7.5-py3-none-any.whl (105 kB)\n",
      "\u001b[2K   \u001b[90m━━━━━━━━━━━━━━━━━━━━━━━━━━━━━━━━━━━━━━━━\u001b[0m \u001b[32m105.3/105.3 kB\u001b[0m \u001b[31m5.8 MB/s\u001b[0m eta \u001b[36m0:00:00\u001b[0m\n",
      "\u001b[?25hDownloading cmudict-1.0.32-py3-none-any.whl (939 kB)\n",
      "\u001b[2K   \u001b[90m━━━━━━━━━━━━━━━━━━━━━━━━━━━━━━━━━━━━━━━━\u001b[0m \u001b[32m939.4/939.4 kB\u001b[0m \u001b[31m32.2 MB/s\u001b[0m eta \u001b[36m0:00:00\u001b[0m\n",
      "\u001b[?25hDownloading pyphen-0.17.2-py3-none-any.whl (2.1 MB)\n",
      "\u001b[2K   \u001b[90m━━━━━━━━━━━━━━━━━━━━━━━━━━━━━━━━━━━━━━━━\u001b[0m \u001b[32m2.1/2.1 MB\u001b[0m \u001b[31m65.9 MB/s\u001b[0m eta \u001b[36m0:00:00\u001b[0m\n",
      "\u001b[?25hInstalling collected packages: pyphen, cmudict, textstat, bert-score\n",
      "Successfully installed bert-score-0.3.13 cmudict-1.0.32 pyphen-0.17.2 textstat-0.7.5\n"
     ]
    }
   ],
   "source": [
    "!pip install transformers datasets bert-score textstat scipy"
   ]
  },
  {
   "cell_type": "code",
   "execution_count": 16,
   "metadata": {
    "execution": {
     "iopub.execute_input": "2025-04-30T21:23:30.866833Z",
     "iopub.status.busy": "2025-04-30T21:23:30.866372Z",
     "iopub.status.idle": "2025-04-30T21:28:00.682978Z",
     "shell.execute_reply": "2025-04-30T21:28:00.682373Z",
     "shell.execute_reply.started": "2025-04-30T21:23:30.866812Z"
    }
   },
   "outputs": [
    {
     "name": "stderr",
     "output_type": "stream",
     "text": [
      "Device set to use cuda:0\n",
      "Generating rewrites:   5%|▌         | 10/200 [00:13<04:08,  1.31s/it]You seem to be using the pipelines sequentially on GPU. In order to maximize efficiency please use a dataset\n",
      "Generating rewrites: 100%|██████████| 200/200 [04:29<00:00,  1.35s/it]\n"
     ]
    }
   ],
   "source": [
    "import pandas as pd\n",
    "from transformers import pipeline, BartTokenizer, BartForConditionalGeneration, GPT2LMHeadModel, GPT2TokenizerFast\n",
    "from bert_score import score as bert_score\n",
    "import torch\n",
    "import textstat\n",
    "from tqdm import tqdm\n",
    "\n",
    "model_path = \"./finetuned_bart_rewriter\"\n",
    "tokenizer = BartTokenizer.from_pretrained(model_path)\n",
    "model = BartForConditionalGeneration.from_pretrained(model_path)\n",
    "model.eval()\n",
    "\n",
    "df = pd.read_csv(\"/kaggle/input/rewritter-results/Rewritter_results.csv\").dropna()\n",
    "inputs = df[\"generated\"].astype(str).head(200).tolist()\n",
    "references = df[\"length_matched_rewrite\"].astype(str).head(200).tolist()\n",
    "\n",
    "gen_pipe = pipeline(\"text2text-generation\", model=model, tokenizer=tokenizer, device=0)\n",
    "predictions = []\n",
    "for inp in tqdm(inputs, desc=\"Generating rewrites\"):\n",
    "    prompt = \"Rewrite the following paragraph to preserve structure, clarity, and detail:\\n\\n\" + inp\n",
    "    out = gen_pipe(prompt, max_length=512, do_sample=False)[0]['generated_text']\n",
    "    predictions.append(out)"
   ]
  },
  {
   "cell_type": "code",
   "execution_count": 17,
   "metadata": {
    "execution": {
     "iopub.execute_input": "2025-04-30T21:28:00.684650Z",
     "iopub.status.busy": "2025-04-30T21:28:00.684433Z",
     "iopub.status.idle": "2025-04-30T21:28:05.873633Z",
     "shell.execute_reply": "2025-04-30T21:28:05.872881Z",
     "shell.execute_reply.started": "2025-04-30T21:28:00.684633Z"
    }
   },
   "outputs": [
    {
     "name": "stdout",
     "output_type": "stream",
     "text": [
      "Collecting evaluate\n",
      "  Downloading evaluate-0.4.3-py3-none-any.whl.metadata (9.2 kB)\n",
      "Collecting rouge_score\n",
      "  Downloading rouge_score-0.1.2.tar.gz (17 kB)\n",
      "  Preparing metadata (setup.py) ... \u001b[?25l\u001b[?25hdone\n",
      "Requirement already satisfied: datasets>=2.0.0 in /usr/local/lib/python3.11/dist-packages (from evaluate) (3.5.0)\n",
      "Requirement already satisfied: numpy>=1.17 in /usr/local/lib/python3.11/dist-packages (from evaluate) (1.26.4)\n",
      "Requirement already satisfied: dill in /usr/local/lib/python3.11/dist-packages (from evaluate) (0.3.8)\n",
      "Requirement already satisfied: pandas in /usr/local/lib/python3.11/dist-packages (from evaluate) (2.2.3)\n",
      "Requirement already satisfied: requests>=2.19.0 in /usr/local/lib/python3.11/dist-packages (from evaluate) (2.32.3)\n",
      "Requirement already satisfied: tqdm>=4.62.1 in /usr/local/lib/python3.11/dist-packages (from evaluate) (4.67.1)\n",
      "Requirement already satisfied: xxhash in /usr/local/lib/python3.11/dist-packages (from evaluate) (3.5.0)\n",
      "Requirement already satisfied: multiprocess in /usr/local/lib/python3.11/dist-packages (from evaluate) (0.70.16)\n",
      "Requirement already satisfied: fsspec>=2021.05.0 in /usr/local/lib/python3.11/dist-packages (from fsspec[http]>=2021.05.0->evaluate) (2024.12.0)\n",
      "Requirement already satisfied: huggingface-hub>=0.7.0 in /usr/local/lib/python3.11/dist-packages (from evaluate) (0.30.2)\n",
      "Requirement already satisfied: packaging in /usr/local/lib/python3.11/dist-packages (from evaluate) (24.2)\n",
      "Requirement already satisfied: absl-py in /usr/local/lib/python3.11/dist-packages (from rouge_score) (1.4.0)\n",
      "Requirement already satisfied: nltk in /usr/local/lib/python3.11/dist-packages (from rouge_score) (3.9.1)\n",
      "Requirement already satisfied: six>=1.14.0 in /usr/local/lib/python3.11/dist-packages (from rouge_score) (1.17.0)\n",
      "Requirement already satisfied: filelock in /usr/local/lib/python3.11/dist-packages (from datasets>=2.0.0->evaluate) (3.18.0)\n",
      "Requirement already satisfied: pyarrow>=15.0.0 in /usr/local/lib/python3.11/dist-packages (from datasets>=2.0.0->evaluate) (19.0.1)\n",
      "Requirement already satisfied: aiohttp in /usr/local/lib/python3.11/dist-packages (from datasets>=2.0.0->evaluate) (3.11.16)\n",
      "Requirement already satisfied: pyyaml>=5.1 in /usr/local/lib/python3.11/dist-packages (from datasets>=2.0.0->evaluate) (6.0.2)\n",
      "Requirement already satisfied: typing-extensions>=3.7.4.3 in /usr/local/lib/python3.11/dist-packages (from huggingface-hub>=0.7.0->evaluate) (4.13.1)\n",
      "Requirement already satisfied: mkl_fft in /usr/local/lib/python3.11/dist-packages (from numpy>=1.17->evaluate) (1.3.8)\n",
      "Requirement already satisfied: mkl_random in /usr/local/lib/python3.11/dist-packages (from numpy>=1.17->evaluate) (1.2.4)\n",
      "Requirement already satisfied: mkl_umath in /usr/local/lib/python3.11/dist-packages (from numpy>=1.17->evaluate) (0.1.1)\n",
      "Requirement already satisfied: mkl in /usr/local/lib/python3.11/dist-packages (from numpy>=1.17->evaluate) (2025.1.0)\n",
      "Requirement already satisfied: tbb4py in /usr/local/lib/python3.11/dist-packages (from numpy>=1.17->evaluate) (2022.1.0)\n",
      "Requirement already satisfied: mkl-service in /usr/local/lib/python3.11/dist-packages (from numpy>=1.17->evaluate) (2.4.1)\n",
      "Requirement already satisfied: charset-normalizer<4,>=2 in /usr/local/lib/python3.11/dist-packages (from requests>=2.19.0->evaluate) (3.4.1)\n",
      "Requirement already satisfied: idna<4,>=2.5 in /usr/local/lib/python3.11/dist-packages (from requests>=2.19.0->evaluate) (3.10)\n",
      "Requirement already satisfied: urllib3<3,>=1.21.1 in /usr/local/lib/python3.11/dist-packages (from requests>=2.19.0->evaluate) (2.3.0)\n",
      "Requirement already satisfied: certifi>=2017.4.17 in /usr/local/lib/python3.11/dist-packages (from requests>=2.19.0->evaluate) (2025.1.31)\n",
      "Requirement already satisfied: click in /usr/local/lib/python3.11/dist-packages (from nltk->rouge_score) (8.1.8)\n",
      "Requirement already satisfied: joblib in /usr/local/lib/python3.11/dist-packages (from nltk->rouge_score) (1.4.2)\n",
      "Requirement already satisfied: regex>=2021.8.3 in /usr/local/lib/python3.11/dist-packages (from nltk->rouge_score) (2024.11.6)\n",
      "Requirement already satisfied: python-dateutil>=2.8.2 in /usr/local/lib/python3.11/dist-packages (from pandas->evaluate) (2.9.0.post0)\n",
      "Requirement already satisfied: pytz>=2020.1 in /usr/local/lib/python3.11/dist-packages (from pandas->evaluate) (2025.2)\n",
      "Requirement already satisfied: tzdata>=2022.7 in /usr/local/lib/python3.11/dist-packages (from pandas->evaluate) (2025.2)\n",
      "Requirement already satisfied: aiohappyeyeballs>=2.3.0 in /usr/local/lib/python3.11/dist-packages (from aiohttp->datasets>=2.0.0->evaluate) (2.6.1)\n",
      "Requirement already satisfied: aiosignal>=1.1.2 in /usr/local/lib/python3.11/dist-packages (from aiohttp->datasets>=2.0.0->evaluate) (1.3.2)\n",
      "Requirement already satisfied: attrs>=17.3.0 in /usr/local/lib/python3.11/dist-packages (from aiohttp->datasets>=2.0.0->evaluate) (25.3.0)\n",
      "Requirement already satisfied: frozenlist>=1.1.1 in /usr/local/lib/python3.11/dist-packages (from aiohttp->datasets>=2.0.0->evaluate) (1.5.0)\n",
      "Requirement already satisfied: multidict<7.0,>=4.5 in /usr/local/lib/python3.11/dist-packages (from aiohttp->datasets>=2.0.0->evaluate) (6.2.0)\n",
      "Requirement already satisfied: propcache>=0.2.0 in /usr/local/lib/python3.11/dist-packages (from aiohttp->datasets>=2.0.0->evaluate) (0.3.1)\n",
      "Requirement already satisfied: yarl<2.0,>=1.17.0 in /usr/local/lib/python3.11/dist-packages (from aiohttp->datasets>=2.0.0->evaluate) (1.19.0)\n",
      "Requirement already satisfied: intel-openmp<2026,>=2024 in /usr/local/lib/python3.11/dist-packages (from mkl->numpy>=1.17->evaluate) (2024.2.0)\n",
      "Requirement already satisfied: tbb==2022.* in /usr/local/lib/python3.11/dist-packages (from mkl->numpy>=1.17->evaluate) (2022.1.0)\n",
      "Requirement already satisfied: tcmlib==1.* in /usr/local/lib/python3.11/dist-packages (from tbb==2022.*->mkl->numpy>=1.17->evaluate) (1.2.0)\n",
      "Requirement already satisfied: intel-cmplr-lib-rt in /usr/local/lib/python3.11/dist-packages (from mkl_umath->numpy>=1.17->evaluate) (2024.2.0)\n",
      "Requirement already satisfied: intel-cmplr-lib-ur==2024.2.0 in /usr/local/lib/python3.11/dist-packages (from intel-openmp<2026,>=2024->mkl->numpy>=1.17->evaluate) (2024.2.0)\n",
      "Downloading evaluate-0.4.3-py3-none-any.whl (84 kB)\n",
      "\u001b[2K   \u001b[90m━━━━━━━━━━━━━━━━━━━━━━━━━━━━━━━━━━━━━━━━\u001b[0m \u001b[32m84.0/84.0 kB\u001b[0m \u001b[31m3.4 MB/s\u001b[0m eta \u001b[36m0:00:00\u001b[0m\n",
      "\u001b[?25hBuilding wheels for collected packages: rouge_score\n",
      "  Building wheel for rouge_score (setup.py) ... \u001b[?25l\u001b[?25hdone\n",
      "  Created wheel for rouge_score: filename=rouge_score-0.1.2-py3-none-any.whl size=24935 sha256=04b4722939ff3d4dd52d36cf2da703ca21925726af0bc2d2b05525a678c209c4\n",
      "  Stored in directory: /root/.cache/pip/wheels/1e/19/43/8a442dc83660ca25e163e1bd1f89919284ab0d0c1475475148\n",
      "Successfully built rouge_score\n",
      "Installing collected packages: rouge_score, evaluate\n",
      "Successfully installed evaluate-0.4.3 rouge_score-0.1.2\n"
     ]
    }
   ],
   "source": [
    "!pip install evaluate rouge_score"
   ]
  },
  {
   "cell_type": "code",
   "execution_count": null,
   "metadata": {
    "execution": {
     "iopub.execute_input": "2025-04-30T21:51:32.089705Z",
     "iopub.status.busy": "2025-04-30T21:51:32.089089Z",
     "iopub.status.idle": "2025-04-30T21:51:37.495167Z",
     "shell.execute_reply": "2025-04-30T21:51:37.494414Z",
     "shell.execute_reply.started": "2025-04-30T21:51:32.089681Z"
    }
   },
   "outputs": [],
   "source": [
    "import torch\n",
    "import evaluate\n",
    "import textstat\n",
    "import pandas as pd\n",
    "from tqdm import tqdm\n",
    "from transformers import AutoTokenizer, AutoModelForSequenceClassification, GPT2LMHeadModel, GPT2TokenizerFast\n",
    "from bert_score import score as bert_score\n",
    "\n",
    "predictions = predictions\n",
    "references = df[\"generated\"].head(200).astype(str).tolist()\n",
    "\n",
    "rouge = evaluate.load(\"rouge\")\n",
    "rouge_result = rouge.compute(predictions=predictions, references=references, use_stemmer=True)\n",
    "\n",
    "rouge1 = rouge_result[\"rouge1\"]\n",
    "rouge2 = rouge_result[\"rouge2\"]\n",
    "rougeL = rouge_result[\"rougeL\"]"
   ]
  },
  {
   "cell_type": "code",
   "execution_count": null,
   "metadata": {
    "execution": {
     "iopub.execute_input": "2025-04-30T21:51:44.214892Z",
     "iopub.status.busy": "2025-04-30T21:51:44.214535Z",
     "iopub.status.idle": "2025-04-30T21:51:54.712271Z",
     "shell.execute_reply": "2025-04-30T21:51:54.711451Z",
     "shell.execute_reply.started": "2025-04-30T21:51:44.214860Z"
    }
   },
   "outputs": [
    {
     "data": {
      "application/vnd.jupyter.widget-view+json": {
       "model_id": "1e58d6985eba4306af2b27d29d69b9ce",
       "version_major": 2,
       "version_minor": 0
      },
      "text/plain": [
       "tokenizer_config.json:   0%|          | 0.00/48.0 [00:00<?, ?B/s]"
      ]
     },
     "metadata": {},
     "output_type": "display_data"
    },
    {
     "data": {
      "application/vnd.jupyter.widget-view+json": {
       "model_id": "d169059527b946f5bd115e96e9b6a329",
       "version_major": 2,
       "version_minor": 0
      },
      "text/plain": [
       "config.json:   0%|          | 0.00/570 [00:00<?, ?B/s]"
      ]
     },
     "metadata": {},
     "output_type": "display_data"
    },
    {
     "data": {
      "application/vnd.jupyter.widget-view+json": {
       "model_id": "a4dbcb70d7954d9fb274392ef65409ff",
       "version_major": 2,
       "version_minor": 0
      },
      "text/plain": [
       "vocab.txt:   0%|          | 0.00/232k [00:00<?, ?B/s]"
      ]
     },
     "metadata": {},
     "output_type": "display_data"
    },
    {
     "data": {
      "application/vnd.jupyter.widget-view+json": {
       "model_id": "55770f0d4a4942d0ae6290eb145783e2",
       "version_major": 2,
       "version_minor": 0
      },
      "text/plain": [
       "tokenizer.json:   0%|          | 0.00/466k [00:00<?, ?B/s]"
      ]
     },
     "metadata": {},
     "output_type": "display_data"
    },
    {
     "name": "stderr",
     "output_type": "stream",
     "text": [
      "Xet Storage is enabled for this repo, but the 'hf_xet' package is not installed. Falling back to regular HTTP download. For better performance, install the package with: `pip install huggingface_hub[hf_xet]` or `pip install hf_xet`\n"
     ]
    },
    {
     "data": {
      "application/vnd.jupyter.widget-view+json": {
       "model_id": "404fa73618f34d438a2086e395702bbb",
       "version_major": 2,
       "version_minor": 0
      },
      "text/plain": [
       "model.safetensors:   0%|          | 0.00/440M [00:00<?, ?B/s]"
      ]
     },
     "metadata": {},
     "output_type": "display_data"
    }
   ],
   "source": [
    "_, _, f1 = bert_score(predictions, references, lang=\"en\", model_type=\"bert-base-uncased\", verbose=False)\n",
    "bertscore_f1 = f1.mean().item()"
   ]
  },
  {
   "cell_type": "code",
   "execution_count": null,
   "metadata": {
    "execution": {
     "iopub.execute_input": "2025-04-30T21:51:54.713645Z",
     "iopub.status.busy": "2025-04-30T21:51:54.713384Z",
     "iopub.status.idle": "2025-04-30T21:51:54.795897Z",
     "shell.execute_reply": "2025-04-30T21:51:54.795214Z",
     "shell.execute_reply.started": "2025-04-30T21:51:54.713620Z"
    }
   },
   "outputs": [],
   "source": [
    "read_scores = [textstat.flesch_reading_ease(pred) for pred in predictions]\n",
    "readability = sum(read_scores) / len(read_scores)"
   ]
  },
  {
   "cell_type": "code",
   "execution_count": null,
   "metadata": {
    "execution": {
     "iopub.execute_input": "2025-04-30T21:53:50.649290Z",
     "iopub.status.busy": "2025-04-30T21:53:50.648985Z",
     "iopub.status.idle": "2025-04-30T21:54:52.050673Z",
     "shell.execute_reply": "2025-04-30T21:54:52.049984Z",
     "shell.execute_reply.started": "2025-04-30T21:53:50.649269Z"
    }
   },
   "outputs": [
    {
     "name": "stderr",
     "output_type": "stream",
     "text": [
      "\n",
      "\n",
      "Calculating GPT-2 PPL:   0%|          | 0/200 [00:00<?, ?it/s]\u001b[A\u001b[A`loss_type=None` was set in the config but it is unrecognised.Using the default loss: `ForCausalLMLoss`.\n",
      "\n",
      "\n",
      "Calculating GPT-2 PPL:   0%|          | 1/200 [00:00<00:57,  3.43it/s]\u001b[A\u001b[A\n",
      "\n",
      "Calculating GPT-2 PPL:   1%|          | 2/200 [00:00<00:56,  3.48it/s]\u001b[A\u001b[A\n",
      "\n",
      "Calculating GPT-2 PPL:   2%|▏         | 3/200 [00:00<01:05,  3.00it/s]\u001b[A\u001b[A\n",
      "\n",
      "Calculating GPT-2 PPL:   2%|▏         | 4/200 [00:01<01:06,  2.95it/s]\u001b[A\u001b[A\n",
      "\n",
      "Calculating GPT-2 PPL:   2%|▎         | 5/200 [00:01<01:06,  2.92it/s]\u001b[A\u001b[A\n",
      "\n",
      "Calculating GPT-2 PPL:   3%|▎         | 6/200 [00:02<01:09,  2.78it/s]\u001b[A\u001b[A\n",
      "\n",
      "Calculating GPT-2 PPL:   4%|▎         | 7/200 [00:02<01:09,  2.78it/s]\u001b[A\u001b[A\n",
      "\n",
      "Calculating GPT-2 PPL:   4%|▍         | 8/200 [00:02<01:08,  2.79it/s]\u001b[A\u001b[A\n",
      "\n",
      "Calculating GPT-2 PPL:   4%|▍         | 9/200 [00:02<01:00,  3.17it/s]\u001b[A\u001b[A\n",
      "\n",
      "Calculating GPT-2 PPL:   5%|▌         | 10/200 [00:03<00:58,  3.25it/s]\u001b[A\u001b[A\n",
      "\n",
      "Calculating GPT-2 PPL:   6%|▌         | 11/200 [00:03<00:57,  3.28it/s]\u001b[A\u001b[A\n",
      "\n",
      "Calculating GPT-2 PPL:   6%|▌         | 12/200 [00:03<00:59,  3.17it/s]\u001b[A\u001b[A\n",
      "\n",
      "Calculating GPT-2 PPL:   6%|▋         | 13/200 [00:04<00:59,  3.15it/s]\u001b[A\u001b[A\n",
      "\n",
      "Calculating GPT-2 PPL:   7%|▋         | 14/200 [00:04<00:54,  3.42it/s]\u001b[A\u001b[A\n",
      "\n",
      "Calculating GPT-2 PPL:   8%|▊         | 15/200 [00:04<00:56,  3.29it/s]\u001b[A\u001b[A\n",
      "\n",
      "Calculating GPT-2 PPL:   8%|▊         | 16/200 [00:05<00:57,  3.20it/s]\u001b[A\u001b[A\n",
      "\n",
      "Calculating GPT-2 PPL:   8%|▊         | 17/200 [00:05<00:58,  3.12it/s]\u001b[A\u001b[A\n",
      "\n",
      "Calculating GPT-2 PPL:   9%|▉         | 18/200 [00:05<00:59,  3.08it/s]\u001b[A\u001b[A\n",
      "\n",
      "Calculating GPT-2 PPL:  10%|▉         | 19/200 [00:06<00:58,  3.08it/s]\u001b[A\u001b[A\n",
      "\n",
      "Calculating GPT-2 PPL:  10%|█         | 20/200 [00:06<00:53,  3.35it/s]\u001b[A\u001b[A\n",
      "\n",
      "Calculating GPT-2 PPL:  10%|█         | 21/200 [00:06<00:48,  3.72it/s]\u001b[A\u001b[A\n",
      "\n",
      "Calculating GPT-2 PPL:  11%|█         | 22/200 [00:06<00:50,  3.56it/s]\u001b[A\u001b[A\n",
      "\n",
      "Calculating GPT-2 PPL:  12%|█▏        | 23/200 [00:07<00:57,  3.07it/s]\u001b[A\u001b[A\n",
      "\n",
      "Calculating GPT-2 PPL:  12%|█▏        | 24/200 [00:07<01:02,  2.83it/s]\u001b[A\u001b[A\n",
      "\n",
      "Calculating GPT-2 PPL:  12%|█▎        | 25/200 [00:08<01:06,  2.61it/s]\u001b[A\u001b[A\n",
      "\n",
      "Calculating GPT-2 PPL:  13%|█▎        | 26/200 [00:08<01:08,  2.54it/s]\u001b[A\u001b[A\n",
      "\n",
      "Calculating GPT-2 PPL:  14%|█▎        | 27/200 [00:08<00:59,  2.91it/s]\u001b[A\u001b[A\n",
      "\n",
      "Calculating GPT-2 PPL:  14%|█▍        | 28/200 [00:09<00:58,  2.92it/s]\u001b[A\u001b[A\n",
      "\n",
      "Calculating GPT-2 PPL:  14%|█▍        | 29/200 [00:09<00:50,  3.37it/s]\u001b[A\u001b[A\n",
      "\n",
      "Calculating GPT-2 PPL:  15%|█▌        | 30/200 [00:09<00:43,  3.88it/s]\u001b[A\u001b[A\n",
      "\n",
      "Calculating GPT-2 PPL:  16%|█▌        | 31/200 [00:09<00:42,  4.02it/s]\u001b[A\u001b[A\n",
      "\n",
      "Calculating GPT-2 PPL:  16%|█▌        | 32/200 [00:09<00:41,  4.04it/s]\u001b[A\u001b[A\n",
      "\n",
      "Calculating GPT-2 PPL:  16%|█▋        | 33/200 [00:10<00:42,  3.90it/s]\u001b[A\u001b[A\n",
      "\n",
      "Calculating GPT-2 PPL:  17%|█▋        | 34/200 [00:10<00:46,  3.55it/s]\u001b[A\u001b[A\n",
      "\n",
      "Calculating GPT-2 PPL:  18%|█▊        | 35/200 [00:10<00:49,  3.36it/s]\u001b[A\u001b[A\n",
      "\n",
      "Calculating GPT-2 PPL:  18%|█▊        | 36/200 [00:11<00:50,  3.26it/s]\u001b[A\u001b[A\n",
      "\n",
      "Calculating GPT-2 PPL:  18%|█▊        | 37/200 [00:11<00:52,  3.13it/s]\u001b[A\u001b[A\n",
      "\n",
      "Calculating GPT-2 PPL:  19%|█▉        | 38/200 [00:11<00:54,  2.99it/s]\u001b[A\u001b[A\n",
      "\n",
      "Calculating GPT-2 PPL:  20%|█▉        | 39/200 [00:12<00:53,  2.99it/s]\u001b[A\u001b[A\n",
      "\n",
      "Calculating GPT-2 PPL:  20%|██        | 40/200 [00:12<00:54,  2.94it/s]\u001b[A\u001b[A\n",
      "\n",
      "Calculating GPT-2 PPL:  20%|██        | 41/200 [00:12<00:51,  3.09it/s]\u001b[A\u001b[A\n",
      "\n",
      "Calculating GPT-2 PPL:  21%|██        | 42/200 [00:13<00:51,  3.08it/s]\u001b[A\u001b[A\n",
      "\n",
      "Calculating GPT-2 PPL:  22%|██▏       | 43/200 [00:13<00:44,  3.53it/s]\u001b[A\u001b[A\n",
      "\n",
      "Calculating GPT-2 PPL:  22%|██▏       | 44/200 [00:13<00:39,  4.00it/s]\u001b[A\u001b[A\n",
      "\n",
      "Calculating GPT-2 PPL:  22%|██▎       | 45/200 [00:13<00:42,  3.66it/s]\u001b[A\u001b[A\n",
      "\n",
      "Calculating GPT-2 PPL:  23%|██▎       | 46/200 [00:14<00:44,  3.47it/s]\u001b[A\u001b[A\n",
      "\n",
      "Calculating GPT-2 PPL:  24%|██▎       | 47/200 [00:14<00:46,  3.29it/s]\u001b[A\u001b[A\n",
      "\n",
      "Calculating GPT-2 PPL:  24%|██▍       | 48/200 [00:14<00:42,  3.57it/s]\u001b[A\u001b[A\n",
      "\n",
      "Calculating GPT-2 PPL:  24%|██▍       | 49/200 [00:15<00:41,  3.61it/s]\u001b[A\u001b[A\n",
      "\n",
      "Calculating GPT-2 PPL:  25%|██▌       | 50/200 [00:15<00:44,  3.38it/s]\u001b[A\u001b[A\n",
      "\n",
      "Calculating GPT-2 PPL:  26%|██▌       | 51/200 [00:15<00:41,  3.56it/s]\u001b[A\u001b[A\n",
      "\n",
      "Calculating GPT-2 PPL:  26%|██▌       | 52/200 [00:16<00:43,  3.37it/s]\u001b[A\u001b[A\n",
      "\n",
      "Calculating GPT-2 PPL:  26%|██▋       | 53/200 [00:16<00:44,  3.34it/s]\u001b[A\u001b[A\n",
      "\n",
      "Calculating GPT-2 PPL:  27%|██▋       | 54/200 [00:16<00:41,  3.49it/s]\u001b[A\u001b[A\n",
      "\n",
      "Calculating GPT-2 PPL:  28%|██▊       | 55/200 [00:16<00:41,  3.50it/s]\u001b[A\u001b[A\n",
      "\n",
      "Calculating GPT-2 PPL:  28%|██▊       | 56/200 [00:17<00:36,  3.93it/s]\u001b[A\u001b[A\n",
      "\n",
      "Calculating GPT-2 PPL:  28%|██▊       | 57/200 [00:17<00:40,  3.54it/s]\u001b[A\u001b[A\n",
      "\n",
      "Calculating GPT-2 PPL:  29%|██▉       | 58/200 [00:17<00:35,  3.95it/s]\u001b[A\u001b[A\n",
      "\n",
      "Calculating GPT-2 PPL:  30%|██▉       | 59/200 [00:17<00:34,  4.04it/s]\u001b[A\u001b[A\n",
      "\n",
      "Calculating GPT-2 PPL:  30%|███       | 60/200 [00:18<00:32,  4.34it/s]\u001b[A\u001b[A\n",
      "\n",
      "Calculating GPT-2 PPL:  30%|███       | 61/200 [00:18<00:36,  3.81it/s]\u001b[A\u001b[A\n",
      "\n",
      "Calculating GPT-2 PPL:  31%|███       | 62/200 [00:18<00:39,  3.52it/s]\u001b[A\u001b[A\n",
      "\n",
      "Calculating GPT-2 PPL:  32%|███▏      | 63/200 [00:18<00:36,  3.74it/s]\u001b[A\u001b[A\n",
      "\n",
      "Calculating GPT-2 PPL:  32%|███▏      | 64/200 [00:19<00:38,  3.52it/s]\u001b[A\u001b[A\n",
      "\n",
      "Calculating GPT-2 PPL:  32%|███▎      | 65/200 [00:19<00:40,  3.30it/s]\u001b[A\u001b[A\n",
      "\n",
      "Calculating GPT-2 PPL:  33%|███▎      | 66/200 [00:19<00:36,  3.65it/s]\u001b[A\u001b[A\n",
      "\n",
      "Calculating GPT-2 PPL:  34%|███▎      | 67/200 [00:20<00:39,  3.37it/s]\u001b[A\u001b[A\n",
      "\n",
      "Calculating GPT-2 PPL:  34%|███▍      | 68/200 [00:20<00:34,  3.79it/s]\u001b[A\u001b[A\n",
      "\n",
      "Calculating GPT-2 PPL:  34%|███▍      | 69/200 [00:20<00:36,  3.54it/s]\u001b[A\u001b[A\n",
      "\n",
      "Calculating GPT-2 PPL:  35%|███▌      | 70/200 [00:21<00:38,  3.38it/s]\u001b[A\u001b[A\n",
      "\n",
      "Calculating GPT-2 PPL:  36%|███▌      | 71/200 [00:21<00:39,  3.27it/s]\u001b[A\u001b[A\n",
      "\n",
      "Calculating GPT-2 PPL:  36%|███▌      | 72/200 [00:21<00:38,  3.32it/s]\u001b[A\u001b[A\n",
      "\n",
      "Calculating GPT-2 PPL:  36%|███▋      | 73/200 [00:22<00:41,  3.08it/s]\u001b[A\u001b[A\n",
      "\n",
      "Calculating GPT-2 PPL:  37%|███▋      | 74/200 [00:22<00:40,  3.10it/s]\u001b[A\u001b[A\n",
      "\n",
      "Calculating GPT-2 PPL:  38%|███▊      | 75/200 [00:22<00:40,  3.11it/s]\u001b[A\u001b[A\n",
      "\n",
      "Calculating GPT-2 PPL:  38%|███▊      | 76/200 [00:22<00:36,  3.38it/s]\u001b[A\u001b[A\n",
      "\n",
      "Calculating GPT-2 PPL:  38%|███▊      | 77/200 [00:23<00:37,  3.25it/s]\u001b[A\u001b[A\n",
      "\n",
      "Calculating GPT-2 PPL:  39%|███▉      | 78/200 [00:23<00:38,  3.21it/s]\u001b[A\u001b[A\n",
      "\n",
      "Calculating GPT-2 PPL:  40%|███▉      | 79/200 [00:23<00:33,  3.64it/s]\u001b[A\u001b[A\n",
      "\n",
      "Calculating GPT-2 PPL:  40%|████      | 80/200 [00:24<00:33,  3.55it/s]\u001b[A\u001b[A\n",
      "\n",
      "Calculating GPT-2 PPL:  40%|████      | 81/200 [00:24<00:30,  3.87it/s]\u001b[A\u001b[A\n",
      "\n",
      "Calculating GPT-2 PPL:  41%|████      | 82/200 [00:24<00:33,  3.55it/s]\u001b[A\u001b[A\n",
      "\n",
      "Calculating GPT-2 PPL:  42%|████▏     | 83/200 [00:24<00:35,  3.31it/s]\u001b[A\u001b[A\n",
      "\n",
      "Calculating GPT-2 PPL:  42%|████▏     | 84/200 [00:25<00:36,  3.20it/s]\u001b[A\u001b[A\n",
      "\n",
      "Calculating GPT-2 PPL:  42%|████▎     | 85/200 [00:25<00:33,  3.42it/s]\u001b[A\u001b[A\n",
      "\n",
      "Calculating GPT-2 PPL:  43%|████▎     | 86/200 [00:25<00:35,  3.23it/s]\u001b[A\u001b[A\n",
      "\n",
      "Calculating GPT-2 PPL:  44%|████▎     | 87/200 [00:26<00:36,  3.12it/s]\u001b[A\u001b[A\n",
      "\n",
      "Calculating GPT-2 PPL:  44%|████▍     | 88/200 [00:26<00:34,  3.22it/s]\u001b[A\u001b[A\n",
      "\n",
      "Calculating GPT-2 PPL:  44%|████▍     | 89/200 [00:26<00:35,  3.16it/s]\u001b[A\u001b[A\n",
      "\n",
      "Calculating GPT-2 PPL:  45%|████▌     | 90/200 [00:27<00:35,  3.13it/s]\u001b[A\u001b[A\n",
      "\n",
      "Calculating GPT-2 PPL:  46%|████▌     | 91/200 [00:27<00:33,  3.22it/s]\u001b[A\u001b[A\n",
      "\n",
      "Calculating GPT-2 PPL:  46%|████▌     | 92/200 [00:27<00:33,  3.21it/s]\u001b[A\u001b[A\n",
      "\n",
      "Calculating GPT-2 PPL:  46%|████▋     | 93/200 [00:28<00:33,  3.18it/s]\u001b[A\u001b[A\n",
      "\n",
      "Calculating GPT-2 PPL:  47%|████▋     | 94/200 [00:28<00:31,  3.38it/s]\u001b[A\u001b[A\n",
      "\n",
      "Calculating GPT-2 PPL:  48%|████▊     | 95/200 [00:28<00:28,  3.68it/s]\u001b[A\u001b[A\n",
      "\n",
      "Calculating GPT-2 PPL:  48%|████▊     | 96/200 [00:28<00:25,  4.13it/s]\u001b[A\u001b[A\n",
      "\n",
      "Calculating GPT-2 PPL:  48%|████▊     | 97/200 [00:29<00:28,  3.56it/s]\u001b[A\u001b[A\n",
      "\n",
      "Calculating GPT-2 PPL:  49%|████▉     | 98/200 [00:29<00:25,  4.00it/s]\u001b[A\u001b[A\n",
      "\n",
      "Calculating GPT-2 PPL:  50%|████▉     | 99/200 [00:29<00:25,  3.90it/s]\u001b[A\u001b[A\n",
      "\n",
      "Calculating GPT-2 PPL:  50%|█████     | 100/200 [00:29<00:29,  3.44it/s]\u001b[A\u001b[A\n",
      "\n",
      "Calculating GPT-2 PPL:  50%|█████     | 101/200 [00:30<00:27,  3.60it/s]\u001b[A\u001b[A\n",
      "\n",
      "Calculating GPT-2 PPL:  51%|█████     | 102/200 [00:30<00:25,  3.81it/s]\u001b[A\u001b[A\n",
      "\n",
      "Calculating GPT-2 PPL:  52%|█████▏    | 103/200 [00:30<00:27,  3.52it/s]\u001b[A\u001b[A\n",
      "\n",
      "Calculating GPT-2 PPL:  52%|█████▏    | 104/200 [00:31<00:29,  3.29it/s]\u001b[A\u001b[A\n",
      "\n",
      "Calculating GPT-2 PPL:  52%|█████▎    | 105/200 [00:31<00:29,  3.17it/s]\u001b[A\u001b[A\n",
      "\n",
      "Calculating GPT-2 PPL:  53%|█████▎    | 106/200 [00:31<00:26,  3.50it/s]\u001b[A\u001b[A\n",
      "\n",
      "Calculating GPT-2 PPL:  54%|█████▎    | 107/200 [00:31<00:27,  3.41it/s]\u001b[A\u001b[A\n",
      "\n",
      "Calculating GPT-2 PPL:  54%|█████▍    | 108/200 [00:32<00:24,  3.77it/s]\u001b[A\u001b[A\n",
      "\n",
      "Calculating GPT-2 PPL:  55%|█████▍    | 109/200 [00:32<00:22,  3.97it/s]\u001b[A\u001b[A\n",
      "\n",
      "Calculating GPT-2 PPL:  55%|█████▌    | 110/200 [00:32<00:24,  3.63it/s]\u001b[A\u001b[A\n",
      "\n",
      "Calculating GPT-2 PPL:  56%|█████▌    | 111/200 [00:33<00:26,  3.41it/s]\u001b[A\u001b[A\n",
      "\n",
      "Calculating GPT-2 PPL:  56%|█████▌    | 112/200 [00:33<00:26,  3.31it/s]\u001b[A\u001b[A\n",
      "\n",
      "Calculating GPT-2 PPL:  56%|█████▋    | 113/200 [00:33<00:23,  3.76it/s]\u001b[A\u001b[A\n",
      "\n",
      "Calculating GPT-2 PPL:  57%|█████▋    | 114/200 [00:33<00:24,  3.53it/s]\u001b[A\u001b[A\n",
      "\n",
      "Calculating GPT-2 PPL:  57%|█████▊    | 115/200 [00:34<00:25,  3.33it/s]\u001b[A\u001b[A\n",
      "\n",
      "Calculating GPT-2 PPL:  58%|█████▊    | 116/200 [00:34<00:23,  3.64it/s]\u001b[A\u001b[A\n",
      "\n",
      "Calculating GPT-2 PPL:  58%|█████▊    | 117/200 [00:34<00:20,  4.10it/s]\u001b[A\u001b[A\n",
      "\n",
      "Calculating GPT-2 PPL:  59%|█████▉    | 118/200 [00:34<00:18,  4.44it/s]\u001b[A\u001b[A\n",
      "\n",
      "Calculating GPT-2 PPL:  60%|█████▉    | 119/200 [00:35<00:20,  3.91it/s]\u001b[A\u001b[A\n",
      "\n",
      "Calculating GPT-2 PPL:  60%|██████    | 120/200 [00:35<00:21,  3.75it/s]\u001b[A\u001b[A\n",
      "\n",
      "Calculating GPT-2 PPL:  60%|██████    | 121/200 [00:35<00:21,  3.63it/s]\u001b[A\u001b[A\n",
      "\n",
      "Calculating GPT-2 PPL:  61%|██████    | 122/200 [00:36<00:22,  3.39it/s]\u001b[A\u001b[A\n",
      "\n",
      "Calculating GPT-2 PPL:  62%|██████▏   | 123/200 [00:36<00:22,  3.43it/s]\u001b[A\u001b[A\n",
      "\n",
      "Calculating GPT-2 PPL:  62%|██████▏   | 124/200 [00:36<00:23,  3.29it/s]\u001b[A\u001b[A\n",
      "\n",
      "Calculating GPT-2 PPL:  62%|██████▎   | 125/200 [00:36<00:20,  3.58it/s]\u001b[A\u001b[A\n",
      "\n",
      "Calculating GPT-2 PPL:  63%|██████▎   | 126/200 [00:37<00:22,  3.32it/s]\u001b[A\u001b[A\n",
      "\n",
      "Calculating GPT-2 PPL:  64%|██████▎   | 127/200 [00:37<00:22,  3.18it/s]\u001b[A\u001b[A\n",
      "\n",
      "Calculating GPT-2 PPL:  64%|██████▍   | 128/200 [00:37<00:22,  3.25it/s]\u001b[A\u001b[A\n",
      "\n",
      "Calculating GPT-2 PPL:  64%|██████▍   | 129/200 [00:38<00:20,  3.38it/s]\u001b[A\u001b[A\n",
      "\n",
      "Calculating GPT-2 PPL:  65%|██████▌   | 130/200 [00:38<00:21,  3.30it/s]\u001b[A\u001b[A\n",
      "\n",
      "Calculating GPT-2 PPL:  66%|██████▌   | 131/200 [00:38<00:18,  3.75it/s]\u001b[A\u001b[A\n",
      "\n",
      "Calculating GPT-2 PPL:  66%|██████▌   | 132/200 [00:38<00:20,  3.33it/s]\u001b[A\u001b[A\n",
      "\n",
      "Calculating GPT-2 PPL:  66%|██████▋   | 133/200 [00:39<00:23,  2.89it/s]\u001b[A\u001b[A\n",
      "\n",
      "Calculating GPT-2 PPL:  67%|██████▋   | 134/200 [00:39<00:25,  2.63it/s]\u001b[A\u001b[A\n",
      "\n",
      "Calculating GPT-2 PPL:  68%|██████▊   | 135/200 [00:40<00:22,  2.89it/s]\u001b[A\u001b[A\n",
      "\n",
      "Calculating GPT-2 PPL:  68%|██████▊   | 136/200 [00:40<00:23,  2.69it/s]\u001b[A\u001b[A\n",
      "\n",
      "Calculating GPT-2 PPL:  68%|██████▊   | 137/200 [00:41<00:24,  2.53it/s]\u001b[A\u001b[A\n",
      "\n",
      "Calculating GPT-2 PPL:  69%|██████▉   | 138/200 [00:41<00:24,  2.57it/s]\u001b[A\u001b[A\n",
      "\n",
      "Calculating GPT-2 PPL:  70%|██████▉   | 139/200 [00:41<00:20,  2.96it/s]\u001b[A\u001b[A\n",
      "\n",
      "Calculating GPT-2 PPL:  70%|███████   | 140/200 [00:41<00:19,  3.13it/s]\u001b[A\u001b[A\n",
      "\n",
      "Calculating GPT-2 PPL:  70%|███████   | 141/200 [00:42<00:19,  3.05it/s]\u001b[A\u001b[A\n",
      "\n",
      "Calculating GPT-2 PPL:  71%|███████   | 142/200 [00:42<00:19,  2.97it/s]\u001b[A\u001b[A\n",
      "\n",
      "Calculating GPT-2 PPL:  72%|███████▏  | 143/200 [00:42<00:19,  2.96it/s]\u001b[A\u001b[A\n",
      "\n",
      "Calculating GPT-2 PPL:  72%|███████▏  | 144/200 [00:43<00:18,  3.07it/s]\u001b[A\u001b[A\n",
      "\n",
      "Calculating GPT-2 PPL:  72%|███████▎  | 145/200 [00:43<00:18,  3.05it/s]\u001b[A\u001b[A\n",
      "\n",
      "Calculating GPT-2 PPL:  73%|███████▎  | 146/200 [00:43<00:17,  3.08it/s]\u001b[A\u001b[A\n",
      "\n",
      "Calculating GPT-2 PPL:  74%|███████▎  | 147/200 [00:44<00:17,  2.99it/s]\u001b[A\u001b[A\n",
      "\n",
      "Calculating GPT-2 PPL:  74%|███████▍  | 148/200 [00:44<00:14,  3.49it/s]\u001b[A\u001b[A\n",
      "\n",
      "Calculating GPT-2 PPL:  74%|███████▍  | 149/200 [00:44<00:14,  3.47it/s]\u001b[A\u001b[A\n",
      "\n",
      "Calculating GPT-2 PPL:  75%|███████▌  | 150/200 [00:45<00:15,  3.31it/s]\u001b[A\u001b[A\n",
      "\n",
      "Calculating GPT-2 PPL:  76%|███████▌  | 151/200 [00:45<00:15,  3.23it/s]\u001b[A\u001b[A\n",
      "\n",
      "Calculating GPT-2 PPL:  76%|███████▌  | 152/200 [00:45<00:15,  3.17it/s]\u001b[A\u001b[A\n",
      "\n",
      "Calculating GPT-2 PPL:  76%|███████▋  | 153/200 [00:46<00:14,  3.26it/s]\u001b[A\u001b[A\n",
      "\n",
      "Calculating GPT-2 PPL:  77%|███████▋  | 154/200 [00:46<00:14,  3.22it/s]\u001b[A\u001b[A\n",
      "\n",
      "Calculating GPT-2 PPL:  78%|███████▊  | 155/200 [00:46<00:12,  3.62it/s]\u001b[A\u001b[A\n",
      "\n",
      "Calculating GPT-2 PPL:  78%|███████▊  | 156/200 [00:46<00:12,  3.41it/s]\u001b[A\u001b[A\n",
      "\n",
      "Calculating GPT-2 PPL:  78%|███████▊  | 157/200 [00:47<00:13,  3.26it/s]\u001b[A\u001b[A\n",
      "\n",
      "Calculating GPT-2 PPL:  79%|███████▉  | 158/200 [00:47<00:13,  3.13it/s]\u001b[A\u001b[A\n",
      "\n",
      "Calculating GPT-2 PPL:  80%|███████▉  | 159/200 [00:47<00:13,  3.09it/s]\u001b[A\u001b[A\n",
      "\n",
      "Calculating GPT-2 PPL:  80%|████████  | 160/200 [00:48<00:13,  3.05it/s]\u001b[A\u001b[A\n",
      "\n",
      "Calculating GPT-2 PPL:  80%|████████  | 161/200 [00:48<00:13,  2.96it/s]\u001b[A\u001b[A\n",
      "\n",
      "Calculating GPT-2 PPL:  81%|████████  | 162/200 [00:48<00:12,  2.97it/s]\u001b[A\u001b[A\n",
      "\n",
      "Calculating GPT-2 PPL:  82%|████████▏ | 163/200 [00:49<00:12,  2.99it/s]\u001b[A\u001b[A\n",
      "\n",
      "Calculating GPT-2 PPL:  82%|████████▏ | 164/200 [00:49<00:10,  3.55it/s]\u001b[A\u001b[A\n",
      "\n",
      "Calculating GPT-2 PPL:  82%|████████▎ | 165/200 [00:49<00:10,  3.40it/s]\u001b[A\u001b[A\n",
      "\n",
      "Calculating GPT-2 PPL:  83%|████████▎ | 166/200 [00:49<00:09,  3.46it/s]\u001b[A\u001b[A\n",
      "\n",
      "Calculating GPT-2 PPL:  84%|████████▎ | 167/200 [00:50<00:10,  3.26it/s]\u001b[A\u001b[A\n",
      "\n",
      "Calculating GPT-2 PPL:  84%|████████▍ | 168/200 [00:50<00:10,  3.14it/s]\u001b[A\u001b[A\n",
      "\n",
      "Calculating GPT-2 PPL:  84%|████████▍ | 169/200 [00:51<00:09,  3.12it/s]\u001b[A\u001b[A\n",
      "\n",
      "Calculating GPT-2 PPL:  85%|████████▌ | 170/200 [00:51<00:08,  3.46it/s]\u001b[A\u001b[A\n",
      "\n",
      "Calculating GPT-2 PPL:  86%|████████▌ | 171/200 [00:51<00:08,  3.25it/s]\u001b[A\u001b[A\n",
      "\n",
      "Calculating GPT-2 PPL:  86%|████████▌ | 172/200 [00:51<00:09,  3.02it/s]\u001b[A\u001b[A\n",
      "\n",
      "Calculating GPT-2 PPL:  86%|████████▋ | 173/200 [00:52<00:08,  3.03it/s]\u001b[A\u001b[A\n",
      "\n",
      "Calculating GPT-2 PPL:  87%|████████▋ | 174/200 [00:52<00:08,  2.98it/s]\u001b[A\u001b[A\n",
      "\n",
      "Calculating GPT-2 PPL:  88%|████████▊ | 175/200 [00:52<00:08,  3.01it/s]\u001b[A\u001b[A\n",
      "\n",
      "Calculating GPT-2 PPL:  88%|████████▊ | 176/200 [00:53<00:07,  3.01it/s]\u001b[A\u001b[A\n",
      "\n",
      "Calculating GPT-2 PPL:  88%|████████▊ | 177/200 [00:53<00:06,  3.54it/s]\u001b[A\u001b[A\n",
      "\n",
      "Calculating GPT-2 PPL:  89%|████████▉ | 178/200 [00:53<00:06,  3.34it/s]\u001b[A\u001b[A\n",
      "\n",
      "Calculating GPT-2 PPL:  90%|████████▉ | 179/200 [00:54<00:06,  3.38it/s]\u001b[A\u001b[A\n",
      "\n",
      "Calculating GPT-2 PPL:  90%|█████████ | 180/200 [00:54<00:06,  3.23it/s]\u001b[A\u001b[A\n",
      "\n",
      "Calculating GPT-2 PPL:  90%|█████████ | 181/200 [00:54<00:05,  3.20it/s]\u001b[A\u001b[A\n",
      "\n",
      "Calculating GPT-2 PPL:  91%|█████████ | 182/200 [00:55<00:05,  3.15it/s]\u001b[A\u001b[A\n",
      "\n",
      "Calculating GPT-2 PPL:  92%|█████████▏| 183/200 [00:55<00:04,  3.52it/s]\u001b[A\u001b[A\n",
      "\n",
      "Calculating GPT-2 PPL:  92%|█████████▏| 184/200 [00:55<00:04,  3.30it/s]\u001b[A\u001b[A\n",
      "\n",
      "Calculating GPT-2 PPL:  92%|█████████▎| 185/200 [00:55<00:04,  3.18it/s]\u001b[A\u001b[A\n",
      "\n",
      "Calculating GPT-2 PPL:  93%|█████████▎| 186/200 [00:56<00:04,  3.45it/s]\u001b[A\u001b[A\n",
      "\n",
      "Calculating GPT-2 PPL:  94%|█████████▎| 187/200 [00:56<00:03,  3.33it/s]\u001b[A\u001b[A\n",
      "\n",
      "Calculating GPT-2 PPL:  94%|█████████▍| 188/200 [00:56<00:03,  3.24it/s]\u001b[A\u001b[A\n",
      "\n",
      "Calculating GPT-2 PPL:  94%|█████████▍| 189/200 [00:57<00:03,  3.14it/s]\u001b[A\u001b[A\n",
      "\n",
      "Calculating GPT-2 PPL:  95%|█████████▌| 190/200 [00:57<00:03,  3.07it/s]\u001b[A\u001b[A\n",
      "\n",
      "Calculating GPT-2 PPL:  96%|█████████▌| 191/200 [00:57<00:02,  3.28it/s]\u001b[A\u001b[A\n",
      "\n",
      "Calculating GPT-2 PPL:  96%|█████████▌| 192/200 [00:58<00:02,  3.43it/s]\u001b[A\u001b[A\n",
      "\n",
      "Calculating GPT-2 PPL:  96%|█████████▋| 193/200 [00:58<00:01,  3.75it/s]\u001b[A\u001b[A\n",
      "\n",
      "Calculating GPT-2 PPL:  97%|█████████▋| 194/200 [00:58<00:01,  3.66it/s]\u001b[A\u001b[A\n",
      "\n",
      "Calculating GPT-2 PPL:  98%|█████████▊| 195/200 [00:58<00:01,  4.06it/s]\u001b[A\u001b[A\n",
      "\n",
      "Calculating GPT-2 PPL:  98%|█████████▊| 196/200 [00:59<00:01,  3.65it/s]\u001b[A\u001b[A\n",
      "\n",
      "Calculating GPT-2 PPL:  98%|█████████▊| 197/200 [00:59<00:00,  3.40it/s]\u001b[A\u001b[A\n",
      "\n",
      "Calculating GPT-2 PPL:  99%|█████████▉| 198/200 [00:59<00:00,  3.25it/s]\u001b[A\u001b[A\n",
      "\n",
      "Calculating GPT-2 PPL: 100%|█████████▉| 199/200 [01:00<00:00,  3.24it/s]\u001b[A\u001b[A\n",
      "\n",
      "Calculating GPT-2 PPL: 100%|██████████| 200/200 [01:00<00:00,  3.31it/s]\u001b[A\u001b[A\n"
     ]
    }
   ],
   "source": [
    "gpt2_tokenizer = GPT2TokenizerFast.from_pretrained(\"gpt2\")\n",
    "gpt2_tokenizer.pad_token = gpt2_tokenizer.eos_token\n",
    "gpt2_model = GPT2LMHeadModel.from_pretrained(\"gpt2\")\n",
    "gpt2_model.eval()\n",
    "\n",
    "def calculate_perplexity(sentence):\n",
    "    encodings = gpt2_tokenizer(sentence, return_tensors='pt', truncation=True, padding=True)\n",
    "    input_ids = encodings.input_ids\n",
    "    with torch.no_grad():\n",
    "        outputs = gpt2_model(input_ids, labels=input_ids)\n",
    "    loss = outputs.loss\n",
    "    return torch.exp(loss).item()\n",
    "\n",
    "ppl_scores = [calculate_perplexity(pred) for pred in tqdm(predictions, desc=\"Calculating GPT-2 PPL\")]\n",
    "gpt2_ppl = sum(ppl_scores) / len(ppl_scores)"
   ]
  },
  {
   "cell_type": "code",
   "execution_count": 29,
   "metadata": {
    "execution": {
     "iopub.execute_input": "2025-04-30T21:55:11.562818Z",
     "iopub.status.busy": "2025-04-30T21:55:11.562553Z",
     "iopub.status.idle": "2025-04-30T21:55:11.567770Z",
     "shell.execute_reply": "2025-04-30T21:55:11.567010Z",
     "shell.execute_reply.started": "2025-04-30T21:55:11.562798Z"
    }
   },
   "outputs": [
    {
     "name": "stdout",
     "output_type": "stream",
     "text": [
      "\n",
      "Rewriter Scores:\n",
      "rouge1: 0.8478\n",
      "rouge2: 0.8107\n",
      "rougeL: 0.7479\n",
      "bertscore_f1: 0.8654\n",
      "readability: 43.2671\n",
      "gpt2_ppl: 23.3992\n"
     ]
    }
   ],
   "source": [
    "print(\"\\nRewriter Scores:\")\n",
    "print(f\"rouge1: {rouge1:.4f}\")\n",
    "print(f\"rouge2: {rouge2:.4f}\")\n",
    "print(f\"rougeL: {rougeL:.4f}\")\n",
    "print(f\"bertscore_f1: {bertscore_f1:.4f}\")\n",
    "print(f\"readability: {readability:.4f}\")\n",
    "print(f\"gpt2_ppl: {gpt2_ppl:.4f}\")"
   ]
  },
  {
   "cell_type": "markdown",
   "metadata": {},
   "source": [
    "<h1>Extractive Summarization Using Lora "
   ]
  },
  {
   "cell_type": "markdown",
   "metadata": {},
   "source": [
    "Installing Required Libraries "
   ]
  },
  {
   "cell_type": "code",
   "execution_count": 25,
   "metadata": {
    "execution": {
     "iopub.execute_input": "2025-05-01T04:47:30.049283Z",
     "iopub.status.busy": "2025-05-01T04:47:30.048697Z",
     "iopub.status.idle": "2025-05-01T04:48:41.288148Z",
     "shell.execute_reply": "2025-05-01T04:48:41.287229Z",
     "shell.execute_reply.started": "2025-05-01T04:47:30.049258Z"
    }
   },
   "outputs": [
    {
     "name": "stdout",
     "output_type": "stream",
     "text": [
      "Requirement already satisfied: peft in /usr/local/lib/python3.11/dist-packages (0.14.0)\n",
      "Requirement already satisfied: numpy>=1.17 in /usr/local/lib/python3.11/dist-packages (from peft) (1.26.4)\n",
      "Requirement already satisfied: packaging>=20.0 in /usr/local/lib/python3.11/dist-packages (from peft) (24.2)\n",
      "Requirement already satisfied: psutil in /usr/local/lib/python3.11/dist-packages (from peft) (7.0.0)\n",
      "Requirement already satisfied: pyyaml in /usr/local/lib/python3.11/dist-packages (from peft) (6.0.2)\n",
      "Requirement already satisfied: torch>=1.13.0 in /usr/local/lib/python3.11/dist-packages (from peft) (2.5.1+cu124)\n",
      "Requirement already satisfied: transformers in /usr/local/lib/python3.11/dist-packages (from peft) (4.51.1)\n",
      "Requirement already satisfied: tqdm in /usr/local/lib/python3.11/dist-packages (from peft) (4.67.1)\n",
      "Requirement already satisfied: accelerate>=0.21.0 in /usr/local/lib/python3.11/dist-packages (from peft) (1.3.0)\n",
      "Requirement already satisfied: safetensors in /usr/local/lib/python3.11/dist-packages (from peft) (0.5.2)\n",
      "Requirement already satisfied: huggingface-hub>=0.25.0 in /usr/local/lib/python3.11/dist-packages (from peft) (0.30.2)\n",
      "Requirement already satisfied: filelock in /usr/local/lib/python3.11/dist-packages (from huggingface-hub>=0.25.0->peft) (3.18.0)\n",
      "Requirement already satisfied: fsspec>=2023.5.0 in /usr/local/lib/python3.11/dist-packages (from huggingface-hub>=0.25.0->peft) (2025.3.2)\n",
      "Requirement already satisfied: requests in /usr/local/lib/python3.11/dist-packages (from huggingface-hub>=0.25.0->peft) (2.32.3)\n",
      "Requirement already satisfied: typing-extensions>=3.7.4.3 in /usr/local/lib/python3.11/dist-packages (from huggingface-hub>=0.25.0->peft) (4.13.1)\n",
      "Requirement already satisfied: mkl_fft in /usr/local/lib/python3.11/dist-packages (from numpy>=1.17->peft) (1.3.8)\n",
      "Requirement already satisfied: mkl_random in /usr/local/lib/python3.11/dist-packages (from numpy>=1.17->peft) (1.2.4)\n",
      "Requirement already satisfied: mkl_umath in /usr/local/lib/python3.11/dist-packages (from numpy>=1.17->peft) (0.1.1)\n",
      "Requirement already satisfied: mkl in /usr/local/lib/python3.11/dist-packages (from numpy>=1.17->peft) (2025.1.0)\n",
      "Requirement already satisfied: tbb4py in /usr/local/lib/python3.11/dist-packages (from numpy>=1.17->peft) (2022.1.0)\n",
      "Requirement already satisfied: mkl-service in /usr/local/lib/python3.11/dist-packages (from numpy>=1.17->peft) (2.4.1)\n",
      "Requirement already satisfied: networkx in /usr/local/lib/python3.11/dist-packages (from torch>=1.13.0->peft) (3.4.2)\n",
      "Requirement already satisfied: jinja2 in /usr/local/lib/python3.11/dist-packages (from torch>=1.13.0->peft) (3.1.6)\n",
      "Requirement already satisfied: nvidia-cuda-nvrtc-cu12==12.4.127 in /usr/local/lib/python3.11/dist-packages (from torch>=1.13.0->peft) (12.4.127)\n",
      "Requirement already satisfied: nvidia-cuda-runtime-cu12==12.4.127 in /usr/local/lib/python3.11/dist-packages (from torch>=1.13.0->peft) (12.4.127)\n",
      "Requirement already satisfied: nvidia-cuda-cupti-cu12==12.4.127 in /usr/local/lib/python3.11/dist-packages (from torch>=1.13.0->peft) (12.4.127)\n",
      "Collecting nvidia-cudnn-cu12==9.1.0.70 (from torch>=1.13.0->peft)\n",
      "  Downloading nvidia_cudnn_cu12-9.1.0.70-py3-none-manylinux2014_x86_64.whl.metadata (1.6 kB)\n",
      "Collecting nvidia-cublas-cu12==12.4.5.8 (from torch>=1.13.0->peft)\n",
      "  Downloading nvidia_cublas_cu12-12.4.5.8-py3-none-manylinux2014_x86_64.whl.metadata (1.5 kB)\n",
      "Collecting nvidia-cufft-cu12==11.2.1.3 (from torch>=1.13.0->peft)\n",
      "  Downloading nvidia_cufft_cu12-11.2.1.3-py3-none-manylinux2014_x86_64.whl.metadata (1.5 kB)\n",
      "Collecting nvidia-curand-cu12==10.3.5.147 (from torch>=1.13.0->peft)\n",
      "  Downloading nvidia_curand_cu12-10.3.5.147-py3-none-manylinux2014_x86_64.whl.metadata (1.5 kB)\n",
      "Collecting nvidia-cusolver-cu12==11.6.1.9 (from torch>=1.13.0->peft)\n",
      "  Downloading nvidia_cusolver_cu12-11.6.1.9-py3-none-manylinux2014_x86_64.whl.metadata (1.6 kB)\n",
      "Collecting nvidia-cusparse-cu12==12.3.1.170 (from torch>=1.13.0->peft)\n",
      "  Downloading nvidia_cusparse_cu12-12.3.1.170-py3-none-manylinux2014_x86_64.whl.metadata (1.6 kB)\n",
      "Requirement already satisfied: nvidia-nccl-cu12==2.21.5 in /usr/local/lib/python3.11/dist-packages (from torch>=1.13.0->peft) (2.21.5)\n",
      "Requirement already satisfied: nvidia-nvtx-cu12==12.4.127 in /usr/local/lib/python3.11/dist-packages (from torch>=1.13.0->peft) (12.4.127)\n",
      "Collecting nvidia-nvjitlink-cu12==12.4.127 (from torch>=1.13.0->peft)\n",
      "  Downloading nvidia_nvjitlink_cu12-12.4.127-py3-none-manylinux2014_x86_64.whl.metadata (1.5 kB)\n",
      "Requirement already satisfied: triton==3.1.0 in /usr/local/lib/python3.11/dist-packages (from torch>=1.13.0->peft) (3.1.0)\n",
      "Requirement already satisfied: sympy==1.13.1 in /usr/local/lib/python3.11/dist-packages (from torch>=1.13.0->peft) (1.13.1)\n",
      "Requirement already satisfied: mpmath<1.4,>=1.1.0 in /usr/local/lib/python3.11/dist-packages (from sympy==1.13.1->torch>=1.13.0->peft) (1.3.0)\n",
      "Requirement already satisfied: regex!=2019.12.17 in /usr/local/lib/python3.11/dist-packages (from transformers->peft) (2024.11.6)\n",
      "Requirement already satisfied: tokenizers<0.22,>=0.21 in /usr/local/lib/python3.11/dist-packages (from transformers->peft) (0.21.0)\n",
      "Requirement already satisfied: MarkupSafe>=2.0 in /usr/local/lib/python3.11/dist-packages (from jinja2->torch>=1.13.0->peft) (3.0.2)\n",
      "Requirement already satisfied: intel-openmp<2026,>=2024 in /usr/local/lib/python3.11/dist-packages (from mkl->numpy>=1.17->peft) (2024.2.0)\n",
      "Requirement already satisfied: tbb==2022.* in /usr/local/lib/python3.11/dist-packages (from mkl->numpy>=1.17->peft) (2022.1.0)\n",
      "Requirement already satisfied: tcmlib==1.* in /usr/local/lib/python3.11/dist-packages (from tbb==2022.*->mkl->numpy>=1.17->peft) (1.2.0)\n",
      "Requirement already satisfied: intel-cmplr-lib-rt in /usr/local/lib/python3.11/dist-packages (from mkl_umath->numpy>=1.17->peft) (2024.2.0)\n",
      "Requirement already satisfied: charset-normalizer<4,>=2 in /usr/local/lib/python3.11/dist-packages (from requests->huggingface-hub>=0.25.0->peft) (3.4.1)\n",
      "Requirement already satisfied: idna<4,>=2.5 in /usr/local/lib/python3.11/dist-packages (from requests->huggingface-hub>=0.25.0->peft) (3.10)\n",
      "Requirement already satisfied: urllib3<3,>=1.21.1 in /usr/local/lib/python3.11/dist-packages (from requests->huggingface-hub>=0.25.0->peft) (2.3.0)\n",
      "Requirement already satisfied: certifi>=2017.4.17 in /usr/local/lib/python3.11/dist-packages (from requests->huggingface-hub>=0.25.0->peft) (2025.1.31)\n",
      "Requirement already satisfied: intel-cmplr-lib-ur==2024.2.0 in /usr/local/lib/python3.11/dist-packages (from intel-openmp<2026,>=2024->mkl->numpy>=1.17->peft) (2024.2.0)\n",
      "Downloading nvidia_cublas_cu12-12.4.5.8-py3-none-manylinux2014_x86_64.whl (363.4 MB)\n",
      "\u001b[2K   \u001b[90m━━━━━━━━━━━━━━━━━━━━━━━━━━━━━━━━━━━━━━━━\u001b[0m \u001b[32m363.4/363.4 MB\u001b[0m \u001b[31m4.9 MB/s\u001b[0m eta \u001b[36m0:00:00\u001b[0m0:00:01\u001b[0m00:01\u001b[0m\n",
      "\u001b[?25hDownloading nvidia_cudnn_cu12-9.1.0.70-py3-none-manylinux2014_x86_64.whl (664.8 MB)\n",
      "\u001b[2K   \u001b[90m━━━━━━━━━━━━━━━━━━━━━━━━━━━━━━━━━━━━━━━━\u001b[0m \u001b[32m664.8/664.8 MB\u001b[0m \u001b[31m2.5 MB/s\u001b[0m eta \u001b[36m0:00:00\u001b[0m0:00:01\u001b[0m00:01\u001b[0m\n",
      "\u001b[?25hDownloading nvidia_cufft_cu12-11.2.1.3-py3-none-manylinux2014_x86_64.whl (211.5 MB)\n",
      "\u001b[2K   \u001b[90m━━━━━━━━━━━━━━━━━━━━━━━━━━━━━━━━━━━━━━━━\u001b[0m \u001b[32m211.5/211.5 MB\u001b[0m \u001b[31m6.6 MB/s\u001b[0m eta \u001b[36m0:00:00\u001b[0m0:00:01\u001b[0m00:01\u001b[0m\n",
      "\u001b[?25hDownloading nvidia_curand_cu12-10.3.5.147-py3-none-manylinux2014_x86_64.whl (56.3 MB)\n",
      "\u001b[2K   \u001b[90m━━━━━━━━━━━━━━━━━━━━━━━━━━━━━━━━━━━━━━━━\u001b[0m \u001b[32m56.3/56.3 MB\u001b[0m \u001b[31m3.2 MB/s\u001b[0m eta \u001b[36m0:00:00\u001b[0m0:00:01\u001b[0m00:01\u001b[0m\n",
      "\u001b[?25hDownloading nvidia_cusolver_cu12-11.6.1.9-py3-none-manylinux2014_x86_64.whl (127.9 MB)\n",
      "\u001b[2K   \u001b[90m━━━━━━━━━━━━━━━━━━━━━━━━━━━━━━━━━━━━━━━━\u001b[0m \u001b[32m127.9/127.9 MB\u001b[0m \u001b[31m8.6 MB/s\u001b[0m eta \u001b[36m0:00:00\u001b[0m0:00:01\u001b[0m00:01\u001b[0m\n",
      "\u001b[?25hDownloading nvidia_cusparse_cu12-12.3.1.170-py3-none-manylinux2014_x86_64.whl (207.5 MB)\n",
      "\u001b[2K   \u001b[90m━━━━━━━━━━━━━━━━━━━━━━━━━━━━━━━━━━━━━━━━\u001b[0m \u001b[32m207.5/207.5 MB\u001b[0m \u001b[31m8.3 MB/s\u001b[0m eta \u001b[36m0:00:00\u001b[0m0:00:01\u001b[0m00:01\u001b[0m\n",
      "\u001b[?25hDownloading nvidia_nvjitlink_cu12-12.4.127-py3-none-manylinux2014_x86_64.whl (21.1 MB)\n",
      "\u001b[2K   \u001b[90m━━━━━━━━━━━━━━━━━━━━━━━━━━━━━━━━━━━━━━━━\u001b[0m \u001b[32m21.1/21.1 MB\u001b[0m \u001b[31m82.3 MB/s\u001b[0m eta \u001b[36m0:00:00\u001b[0m:00:01\u001b[0m00:01\u001b[0m\n",
      "\u001b[?25hInstalling collected packages: nvidia-nvjitlink-cu12, nvidia-curand-cu12, nvidia-cufft-cu12, nvidia-cublas-cu12, nvidia-cusparse-cu12, nvidia-cudnn-cu12, nvidia-cusolver-cu12\n",
      "  Attempting uninstall: nvidia-nvjitlink-cu12\n",
      "    Found existing installation: nvidia-nvjitlink-cu12 12.8.93\n",
      "    Uninstalling nvidia-nvjitlink-cu12-12.8.93:\n",
      "      Successfully uninstalled nvidia-nvjitlink-cu12-12.8.93\n",
      "  Attempting uninstall: nvidia-curand-cu12\n",
      "    Found existing installation: nvidia-curand-cu12 10.3.9.90\n",
      "    Uninstalling nvidia-curand-cu12-10.3.9.90:\n",
      "      Successfully uninstalled nvidia-curand-cu12-10.3.9.90\n",
      "  Attempting uninstall: nvidia-cufft-cu12\n",
      "    Found existing installation: nvidia-cufft-cu12 11.3.3.83\n",
      "    Uninstalling nvidia-cufft-cu12-11.3.3.83:\n",
      "      Successfully uninstalled nvidia-cufft-cu12-11.3.3.83\n",
      "  Attempting uninstall: nvidia-cublas-cu12\n",
      "    Found existing installation: nvidia-cublas-cu12 12.8.4.1\n",
      "    Uninstalling nvidia-cublas-cu12-12.8.4.1:\n",
      "      Successfully uninstalled nvidia-cublas-cu12-12.8.4.1\n",
      "  Attempting uninstall: nvidia-cusparse-cu12\n",
      "    Found existing installation: nvidia-cusparse-cu12 12.5.8.93\n",
      "    Uninstalling nvidia-cusparse-cu12-12.5.8.93:\n",
      "      Successfully uninstalled nvidia-cusparse-cu12-12.5.8.93\n",
      "  Attempting uninstall: nvidia-cudnn-cu12\n",
      "    Found existing installation: nvidia-cudnn-cu12 9.3.0.75\n",
      "    Uninstalling nvidia-cudnn-cu12-9.3.0.75:\n",
      "      Successfully uninstalled nvidia-cudnn-cu12-9.3.0.75\n",
      "  Attempting uninstall: nvidia-cusolver-cu12\n",
      "    Found existing installation: nvidia-cusolver-cu12 11.7.3.90\n",
      "    Uninstalling nvidia-cusolver-cu12-11.7.3.90:\n",
      "      Successfully uninstalled nvidia-cusolver-cu12-11.7.3.90\n",
      "\u001b[31mERROR: pip's dependency resolver does not currently take into account all the packages that are installed. This behaviour is the source of the following dependency conflicts.\n",
      "pylibcugraph-cu12 24.12.0 requires pylibraft-cu12==24.12.*, but you have pylibraft-cu12 25.2.0 which is incompatible.\n",
      "pylibcugraph-cu12 24.12.0 requires rmm-cu12==24.12.*, but you have rmm-cu12 25.2.0 which is incompatible.\u001b[0m\u001b[31m\n",
      "\u001b[0mSuccessfully installed nvidia-cublas-cu12-12.4.5.8 nvidia-cudnn-cu12-9.1.0.70 nvidia-cufft-cu12-11.2.1.3 nvidia-curand-cu12-10.3.5.147 nvidia-cusolver-cu12-11.6.1.9 nvidia-cusparse-cu12-12.3.1.170 nvidia-nvjitlink-cu12-12.4.127\n",
      "Note: you may need to restart the kernel to use updated packages.\n"
     ]
    }
   ],
   "source": [
    "pip install peft\n"
   ]
  },
  {
   "cell_type": "code",
   "execution_count": 48,
   "metadata": {
    "execution": {
     "iopub.execute_input": "2025-05-01T05:07:10.661009Z",
     "iopub.status.busy": "2025-05-01T05:07:10.660682Z",
     "iopub.status.idle": "2025-05-01T05:07:15.472177Z",
     "shell.execute_reply": "2025-05-01T05:07:15.471325Z",
     "shell.execute_reply.started": "2025-05-01T05:07:10.660983Z"
    }
   },
   "outputs": [
    {
     "name": "stdout",
     "output_type": "stream",
     "text": [
      "Collecting rouge_score\n",
      "  Downloading rouge_score-0.1.2.tar.gz (17 kB)\n",
      "  Preparing metadata (setup.py) ... \u001b[?25l\u001b[?25hdone\n",
      "Requirement already satisfied: absl-py in /usr/local/lib/python3.11/dist-packages (from rouge_score) (1.4.0)\n",
      "Requirement already satisfied: nltk in /usr/local/lib/python3.11/dist-packages (from rouge_score) (3.9.1)\n",
      "Requirement already satisfied: numpy in /usr/local/lib/python3.11/dist-packages (from rouge_score) (1.26.4)\n",
      "Requirement already satisfied: six>=1.14.0 in /usr/local/lib/python3.11/dist-packages (from rouge_score) (1.17.0)\n",
      "Requirement already satisfied: click in /usr/local/lib/python3.11/dist-packages (from nltk->rouge_score) (8.1.8)\n",
      "Requirement already satisfied: joblib in /usr/local/lib/python3.11/dist-packages (from nltk->rouge_score) (1.4.2)\n",
      "Requirement already satisfied: regex>=2021.8.3 in /usr/local/lib/python3.11/dist-packages (from nltk->rouge_score) (2024.11.6)\n",
      "Requirement already satisfied: tqdm in /usr/local/lib/python3.11/dist-packages (from nltk->rouge_score) (4.67.1)\n",
      "Requirement already satisfied: mkl_fft in /usr/local/lib/python3.11/dist-packages (from numpy->rouge_score) (1.3.8)\n",
      "Requirement already satisfied: mkl_random in /usr/local/lib/python3.11/dist-packages (from numpy->rouge_score) (1.2.4)\n",
      "Requirement already satisfied: mkl_umath in /usr/local/lib/python3.11/dist-packages (from numpy->rouge_score) (0.1.1)\n",
      "Requirement already satisfied: mkl in /usr/local/lib/python3.11/dist-packages (from numpy->rouge_score) (2025.1.0)\n",
      "Requirement already satisfied: tbb4py in /usr/local/lib/python3.11/dist-packages (from numpy->rouge_score) (2022.1.0)\n",
      "Requirement already satisfied: mkl-service in /usr/local/lib/python3.11/dist-packages (from numpy->rouge_score) (2.4.1)\n",
      "Requirement already satisfied: intel-openmp<2026,>=2024 in /usr/local/lib/python3.11/dist-packages (from mkl->numpy->rouge_score) (2024.2.0)\n",
      "Requirement already satisfied: tbb==2022.* in /usr/local/lib/python3.11/dist-packages (from mkl->numpy->rouge_score) (2022.1.0)\n",
      "Requirement already satisfied: tcmlib==1.* in /usr/local/lib/python3.11/dist-packages (from tbb==2022.*->mkl->numpy->rouge_score) (1.2.0)\n",
      "Requirement already satisfied: intel-cmplr-lib-rt in /usr/local/lib/python3.11/dist-packages (from mkl_umath->numpy->rouge_score) (2024.2.0)\n",
      "Requirement already satisfied: intel-cmplr-lib-ur==2024.2.0 in /usr/local/lib/python3.11/dist-packages (from intel-openmp<2026,>=2024->mkl->numpy->rouge_score) (2024.2.0)\n",
      "Building wheels for collected packages: rouge_score\n",
      "  Building wheel for rouge_score (setup.py) ... \u001b[?25l\u001b[?25hdone\n",
      "  Created wheel for rouge_score: filename=rouge_score-0.1.2-py3-none-any.whl size=24935 sha256=44d14aa902dd41f22112c4b665eab364449cfaa37a7ea85e1ad2a49098065a44\n",
      "  Stored in directory: /root/.cache/pip/wheels/1e/19/43/8a442dc83660ca25e163e1bd1f89919284ab0d0c1475475148\n",
      "Successfully built rouge_score\n",
      "Installing collected packages: rouge_score\n",
      "Successfully installed rouge_score-0.1.2\n",
      "Note: you may need to restart the kernel to use updated packages.\n"
     ]
    }
   ],
   "source": [
    "pip install rouge_score"
   ]
  },
  {
   "cell_type": "markdown",
   "metadata": {},
   "source": [
    "Loading the dataset for the Extractive Summarization"
   ]
  },
  {
   "cell_type": "code",
   "execution_count": null,
   "metadata": {
    "execution": {
     "iopub.execute_input": "2025-05-01T05:07:24.093504Z",
     "iopub.status.busy": "2025-05-01T05:07:24.092992Z",
     "iopub.status.idle": "2025-05-01T05:08:44.527172Z",
     "shell.execute_reply": "2025-05-01T05:08:44.526400Z",
     "shell.execute_reply.started": "2025-05-01T05:07:24.093475Z"
    }
   },
   "outputs": [
    {
     "name": "stdout",
     "output_type": "stream",
     "text": [
      "Dataset saved with sentence-level scores.\n"
     ]
    }
   ],
   "source": [
    "from datasets import load_dataset\n",
    "import pandas as pd\n",
    "from nltk.tokenize import sent_tokenize\n",
    "from rouge_score import rouge_scorer\n",
    "\n",
    "dataset = load_dataset(\"ereverter/cnn_dailymail_extractive\", split=\"train[:1%]\") \n",
    "\n",
    "scorer = rouge_scorer.RougeScorer(['rougeL'], use_stemmer=True)\n",
    "data = []\n",
    "\n",
    "for sample in dataset:\n",
    "    doc_sentences = sent_tokenize(\" \".join(sample[\"src\"]))\n",
    "    gold_summary = \" \".join(sample[\"tgt\"])\n",
    "\n",
    "    for sent in doc_sentences:\n",
    "        score = scorer.score(gold_summary, sent)[\"rougeL\"].recall\n",
    "        data.append({\"sentence\": sent, \"score\": score})\n",
    "\n",
    "df = pd.DataFrame(data)\n",
    "df = df[df[\"score\"] > 0]  \n",
    "df.to_csv(\"sentence_scoring_dataset.csv\", index=False)\n",
    "print(\"Dataset saved with sentence-level scores.\")\n"
   ]
  },
  {
   "cell_type": "markdown",
   "metadata": {},
   "source": [
    "Defining the Dataset Class\n",
    "\n",
    "\n",
    "Defines a PyTorch Dataset to load sentence-score pairs from a CSV file. Each sentence is tokenized using the DistilBERT tokenizer and paired with its corresponding ROUGE-L recall score. The class supports easy batching for training and evaluation with DataLoader."
   ]
  },
  {
   "cell_type": "code",
   "execution_count": 58,
   "metadata": {
    "execution": {
     "iopub.execute_input": "2025-05-01T05:20:12.191695Z",
     "iopub.status.busy": "2025-05-01T05:20:12.191108Z",
     "iopub.status.idle": "2025-05-01T05:20:12.197091Z",
     "shell.execute_reply": "2025-05-01T05:20:12.196320Z",
     "shell.execute_reply.started": "2025-05-01T05:20:12.191672Z"
    }
   },
   "outputs": [],
   "source": [
    "from torch.utils.data import Dataset\n",
    "\n",
    "class SentenceRegressionDataset(Dataset):\n",
    "    def __init__(self, csv_file):\n",
    "        import pandas as pd\n",
    "        df = pd.read_csv(csv_file)\n",
    "        self.sentences = df[\"sentence\"].tolist()\n",
    "        self.scores = df[\"score\"].tolist()\n",
    "\n",
    "    def __len__(self):\n",
    "        return len(self.sentences)\n",
    "\n",
    "    def __getitem__(self, idx):\n",
    "        encoding = tokenizer(\n",
    "            self.sentences[idx],\n",
    "            return_tensors=\"pt\",\n",
    "            padding=\"max_length\",\n",
    "            truncation=True,\n",
    "            max_length=128\n",
    "        )\n",
    "        return {\n",
    "            \"input_ids\": encoding[\"input_ids\"].squeeze(),\n",
    "            \"attention_mask\": encoding[\"attention_mask\"].squeeze(),\n",
    "            \"score\": torch.tensor(self.scores[idx], dtype=torch.float)\n",
    "        }\n"
   ]
  },
  {
   "cell_type": "markdown",
   "metadata": {},
   "source": [
    "### Model Preparation with LoRA\n",
    "\n",
    "Loads the DistilBERT tokenizer and a base DistilBertForSequenceClassification model with regression configuration (num_labels=1). The LoRAConfig is employed to add lightweight, trainable adapters to query and value layers of self-attention. Final model is moved to GPU and the number of trainable parameters is printed to make it more efficient.\n"
   ]
  },
  {
   "cell_type": "code",
   "execution_count": null,
   "metadata": {
    "execution": {
     "iopub.execute_input": "2025-05-01T05:21:01.975531Z",
     "iopub.status.busy": "2025-05-01T05:21:01.975230Z",
     "iopub.status.idle": "2025-05-01T05:21:02.790884Z",
     "shell.execute_reply": "2025-05-01T05:21:02.790134Z",
     "shell.execute_reply.started": "2025-05-01T05:21:01.975509Z"
    }
   },
   "outputs": [
    {
     "name": "stderr",
     "output_type": "stream",
     "text": [
      "Some weights of DistilBertForSequenceClassification were not initialized from the model checkpoint at distilbert-base-uncased and are newly initialized: ['classifier.bias', 'classifier.weight', 'pre_classifier.bias', 'pre_classifier.weight']\n",
      "You should probably TRAIN this model on a down-stream task to be able to use it for predictions and inference.\n"
     ]
    },
    {
     "name": "stdout",
     "output_type": "stream",
     "text": [
      "trainable params: 738,817 || all params: 67,693,058 || trainable%: 1.0914\n"
     ]
    }
   ],
   "source": [
    "import torch\n",
    "import torch.nn as nn\n",
    "from transformers import DistilBertTokenizer, DistilBertForSequenceClassification\n",
    "from peft import LoraConfig, get_peft_model, TaskType\n",
    "\n",
    "\n",
    "tokenizer = DistilBertTokenizer.from_pretrained(\"distilbert-base-uncased\")\n",
    "\n",
    "\n",
    "base_model = DistilBertForSequenceClassification.from_pretrained(\n",
    "    \"distilbert-base-uncased\",\n",
    "    num_labels=1 \n",
    ")\n",
    "\n",
    "\n",
    "lora_config = LoraConfig(\n",
    "    r=8,\n",
    "    lora_alpha=16,\n",
    "    target_modules=[\"q_lin\", \"v_lin\"],\n",
    "    lora_dropout=0.1,\n",
    "    bias=\"none\",\n",
    "    task_type=TaskType.SEQ_CLS\n",
    ")\n",
    "\n",
    "\n",
    "model = get_peft_model(base_model, lora_config).cuda()\n",
    "model.print_trainable_parameters()\n"
   ]
  },
  {
   "cell_type": "markdown",
   "metadata": {},
   "source": [
    "Selecting only a subset for training"
   ]
  },
  {
   "cell_type": "code",
   "execution_count": null,
   "metadata": {
    "execution": {
     "iopub.execute_input": "2025-05-01T05:53:01.492300Z",
     "iopub.status.busy": "2025-05-01T05:53:01.491768Z",
     "iopub.status.idle": "2025-05-01T05:53:01.723553Z",
     "shell.execute_reply": "2025-05-01T05:53:01.722839Z",
     "shell.execute_reply.started": "2025-05-01T05:53:01.492279Z"
    }
   },
   "outputs": [
    {
     "name": "stdout",
     "output_type": "stream",
     "text": [
      " Saved 5k subset to sentence_scoring_dataset_20k.csv\n"
     ]
    }
   ],
   "source": [
    "import pandas as pd\n",
    "\n",
    "df = pd.read_csv(\"sentence_scoring_dataset.csv\")\n",
    "df_small = df.head(20000)  \n",
    "df_small.to_csv(\"sentence_scoring_dataset_20k.csv\", index=False)\n",
    "\n",
    "print(\" Saved 5k subset to sentence_scoring_dataset_20k.csv\")\n"
   ]
  },
  {
   "cell_type": "code",
   "execution_count": 91,
   "metadata": {
    "execution": {
     "iopub.execute_input": "2025-05-01T06:33:18.493646Z",
     "iopub.status.busy": "2025-05-01T06:33:18.492907Z",
     "iopub.status.idle": "2025-05-01T06:33:18.654796Z",
     "shell.execute_reply": "2025-05-01T06:33:18.654272Z",
     "shell.execute_reply.started": "2025-05-01T06:33:18.493624Z"
    }
   },
   "outputs": [],
   "source": [
    "from sklearn.model_selection import train_test_split\n",
    "\n",
    "import pandas as pd\n",
    "df = pd.read_csv(\"sentence_scoring_dataset_20k.csv\")\n",
    "train_df, val_df = train_test_split(df, test_size=0.1, random_state=42)\n",
    "\n",
    "# Save splits\n",
    "train_df.to_csv(\"train_20k.csv\", index=False)\n",
    "val_df.to_csv(\"val_20k.csv\", index=False)\n"
   ]
  },
  {
   "cell_type": "markdown",
   "metadata": {},
   "source": [
    "### Preparing the Dataset Class"
   ]
  },
  {
   "cell_type": "code",
   "execution_count": 92,
   "metadata": {
    "execution": {
     "iopub.execute_input": "2025-05-01T06:33:32.418565Z",
     "iopub.status.busy": "2025-05-01T06:33:32.418005Z",
     "iopub.status.idle": "2025-05-01T06:33:32.423776Z",
     "shell.execute_reply": "2025-05-01T06:33:32.422960Z",
     "shell.execute_reply.started": "2025-05-01T06:33:32.418546Z"
    }
   },
   "outputs": [],
   "source": [
    "class SentenceRegressionDataset(Dataset):\n",
    "    def __init__(self, csv_file):\n",
    "        df = pd.read_csv(csv_file)\n",
    "        self.sentences = df[\"sentence\"].tolist()\n",
    "        self.scores = df[\"score\"].tolist()\n",
    "\n",
    "    def __len__(self):\n",
    "        return len(self.sentences)\n",
    "\n",
    "    def __getitem__(self, idx):\n",
    "        encoding = tokenizer(\n",
    "            self.sentences[idx],\n",
    "            return_tensors=\"pt\",\n",
    "            padding=\"max_length\",\n",
    "            truncation=True,\n",
    "            max_length=128\n",
    "        )\n",
    "        return {\n",
    "            \"input_ids\": encoding[\"input_ids\"].squeeze(),\n",
    "            \"attention_mask\": encoding[\"attention_mask\"].squeeze(),\n",
    "            \"score\": torch.tensor(self.scores[idx], dtype=torch.float)\n",
    "        }\n"
   ]
  },
  {
   "cell_type": "markdown",
   "metadata": {},
   "source": [
    "### Training the Extractive Summarizer "
   ]
  },
  {
   "cell_type": "code",
   "execution_count": null,
   "metadata": {
    "execution": {
     "iopub.execute_input": "2025-05-01T07:03:03.495305Z",
     "iopub.status.busy": "2025-05-01T07:03:03.494720Z",
     "iopub.status.idle": "2025-05-01T07:32:55.933220Z",
     "shell.execute_reply": "2025-05-01T07:32:55.932458Z",
     "shell.execute_reply.started": "2025-05-01T07:03:03.495278Z"
    }
   },
   "outputs": [
    {
     "name": "stdout",
     "output_type": "stream",
     "text": [
      " Epoch 1 | Train Loss: 0.0020 | Val Loss: 0.0024\n",
      " Epoch 2 | Train Loss: 0.0020 | Val Loss: 0.0025\n",
      " Epoch 3 | Train Loss: 0.0019 | Val Loss: 0.0025\n",
      " Epoch 4 | Train Loss: 0.0018 | Val Loss: 0.0024\n",
      " Epoch 5 | Train Loss: 0.0018 | Val Loss: 0.0024\n",
      " Epoch 6 | Train Loss: 0.0017 | Val Loss: 0.0025\n",
      " Epoch 7 | Train Loss: 0.0017 | Val Loss: 0.0024\n",
      " Epoch 8 | Train Loss: 0.0016 | Val Loss: 0.0024\n",
      " Epoch 9 | Train Loss: 0.0016 | Val Loss: 0.0024\n",
      " Epoch 10 | Train Loss: 0.0015 | Val Loss: 0.0025\n",
      " Epoch 11 | Train Loss: 0.0015 | Val Loss: 0.0026\n",
      " Epoch 12 | Train Loss: 0.0014 | Val Loss: 0.0025\n",
      " Epoch 13 | Train Loss: 0.0014 | Val Loss: 0.0025\n",
      " Epoch 14 | Train Loss: 0.0013 | Val Loss: 0.0026\n",
      " Epoch 15 | Train Loss: 0.0013 | Val Loss: 0.0026\n",
      " Epoch 16 | Train Loss: 0.0012 | Val Loss: 0.0025\n",
      " Epoch 17 | Train Loss: 0.0012 | Val Loss: 0.0025\n",
      " Epoch 18 | Train Loss: 0.0012 | Val Loss: 0.0026\n",
      " Epoch 19 | Train Loss: 0.0012 | Val Loss: 0.0025\n",
      " Epoch 20 | Train Loss: 0.0011 | Val Loss: 0.0026\n"
     ]
    },
    {
     "data": {
      "image/png": "[encoded data removed]",
      "text/plain": [
       "<Figure size 800x500 with 1 Axes>"
      ]
     },
     "metadata": {},
     "output_type": "display_data"
    }
   ],
   "source": [
    "from torch.utils.data import DataLoader\n",
    "import matplotlib.pyplot as plt\n",
    "\n",
    "train_dataset = SentenceRegressionDataset(\"train_20k.csv\")\n",
    "val_dataset = SentenceRegressionDataset(\"val_20k.csv\")\n",
    "\n",
    "train_loader = DataLoader(train_dataset, batch_size=32, shuffle=True)\n",
    "val_loader = DataLoader(val_dataset, batch_size=32)\n",
    "\n",
    "optimizer = AdamW(model.parameters(), lr=2e-5)\n",
    "EPOCHS = 20\n",
    "\n",
    "train_losses = []\n",
    "val_losses = []\n",
    "\n",
    "for epoch in range(EPOCHS):\n",
    "    model.train()\n",
    "    total_train_loss = 0\n",
    "\n",
    "    for batch in train_loader:\n",
    "        input_ids = batch[\"input_ids\"].cuda()\n",
    "        attention_mask = batch[\"attention_mask\"].cuda()\n",
    "        true_scores = batch[\"score\"].cuda()\n",
    "\n",
    "        outputs = model(input_ids=input_ids, attention_mask=attention_mask)\n",
    "        predicted_scores = outputs.logits.squeeze()\n",
    "\n",
    "        loss = F.mse_loss(predicted_scores, true_scores)\n",
    "        optimizer.zero_grad()\n",
    "        loss.backward()\n",
    "        optimizer.step()\n",
    "\n",
    "        total_train_loss += loss.item()\n",
    "\n",
    "    avg_train_loss = total_train_loss / len(train_loader)\n",
    "    train_losses.append(avg_train_loss)\n",
    "\n",
    "   \n",
    "    model.eval()\n",
    "    total_val_loss = 0\n",
    "    with torch.no_grad():\n",
    "        for batch in val_loader:\n",
    "            input_ids = batch[\"input_ids\"].cuda()\n",
    "            attention_mask = batch[\"attention_mask\"].cuda()\n",
    "            true_scores = batch[\"score\"].cuda()\n",
    "\n",
    "            outputs = model(input_ids=input_ids, attention_mask=attention_mask)\n",
    "            predicted_scores = outputs.logits.squeeze()\n",
    "\n",
    "            loss = F.mse_loss(predicted_scores, true_scores)\n",
    "            total_val_loss += loss.item()\n",
    "\n",
    "    avg_val_loss = total_val_loss / len(val_loader)\n",
    "    val_losses.append(avg_val_loss)\n",
    "\n",
    "    print(f\" Epoch {epoch+1} | Train Loss: {avg_train_loss:.4f} | Val Loss: {avg_val_loss:.4f}\")\n",
    "\n",
    "\n",
    "plt.figure(figsize=(8, 5))\n",
    "plt.plot(range(1, EPOCHS + 1), train_losses, label=\"Train Loss\")\n",
    "plt.plot(range(1, EPOCHS + 1), val_losses, label=\"Validation Loss\")\n",
    "plt.xlabel(\"Epoch\")\n",
    "plt.ylabel(\"Loss\")\n",
    "plt.title(\"Training vs Validation Loss\")\n",
    "plt.legend()\n",
    "plt.grid(True)\n",
    "plt.show()\n"
   ]
  },
  {
   "cell_type": "markdown",
   "metadata": {},
   "source": [
    "### Sentence Ranking Function\n",
    "Defines a rank_sentences() function that takes a raw document and uses the trained LoRA-augmented DistilBERT model to score each sentence individually. Sentences are ranked by predicted importance (based on ROUGE-L recall), and the top k sentences are returned as the extractive summary."
   ]
  },
  {
   "cell_type": "code",
   "execution_count": null,
   "metadata": {
    "execution": {
     "iopub.status.busy": "2025-05-01T07:32:59.885375Z",
     "iopub.status.idle": "2025-05-01T07:32:59.885592Z",
     "shell.execute_reply": "2025-05-01T07:32:59.885493Z",
     "shell.execute_reply.started": "2025-05-01T07:32:59.885483Z"
    }
   },
   "outputs": [],
   "source": [
    "from nltk.tokenize import sent_tokenize\n",
    "\n",
    "def rank_sentences(document, model, tokenizer, top_k=3):\n",
    "    model.eval()\n",
    "    sentences = [s.strip() for s in sent_tokenize(document) if s.strip()]\n",
    "    scored = []\n",
    "\n",
    "    for sent in sentences:\n",
    "        encoding = tokenizer(sent, return_tensors='pt', padding='max_length', truncation=True, max_length=128)\n",
    "        input_ids = encoding['input_ids'].cuda()\n",
    "        attention_mask = encoding['attention_mask'].cuda()\n",
    "\n",
    "        with torch.no_grad():\n",
    "            score = model(input_ids=input_ids, attention_mask=attention_mask).logits.item()\n",
    "        scored.append((sent, score))\n",
    "\n",
    "    ranked = sorted(scored, key=lambda x: x[1], reverse=True)[:top_k]\n",
    "    return [s for s, _ in ranked]\n"
   ]
  },
  {
   "cell_type": "code",
   "execution_count": 103,
   "metadata": {
    "execution": {
     "iopub.execute_input": "2025-05-01T07:32:55.934787Z",
     "iopub.status.busy": "2025-05-01T07:32:55.934537Z",
     "iopub.status.idle": "2025-05-01T07:32:59.839650Z",
     "shell.execute_reply": "2025-05-01T07:32:59.838931Z",
     "shell.execute_reply.started": "2025-05-01T07:32:55.934769Z"
    }
   },
   "outputs": [
    {
     "name": "stdout",
     "output_type": "stream",
     "text": [
      "Collecting peft==0.5.0\n",
      "  Downloading peft-0.5.0-py3-none-any.whl.metadata (22 kB)\n",
      "Requirement already satisfied: numpy>=1.17 in /usr/local/lib/python3.11/dist-packages (from peft==0.5.0) (1.26.4)\n",
      "Requirement already satisfied: packaging>=20.0 in /usr/local/lib/python3.11/dist-packages (from peft==0.5.0) (24.2)\n",
      "Requirement already satisfied: psutil in /usr/local/lib/python3.11/dist-packages (from peft==0.5.0) (7.0.0)\n",
      "Requirement already satisfied: pyyaml in /usr/local/lib/python3.11/dist-packages (from peft==0.5.0) (6.0.2)\n",
      "Requirement already satisfied: torch>=1.13.0 in /usr/local/lib/python3.11/dist-packages (from peft==0.5.0) (2.5.1+cu124)\n",
      "Requirement already satisfied: transformers in /usr/local/lib/python3.11/dist-packages (from peft==0.5.0) (4.51.1)\n",
      "Requirement already satisfied: tqdm in /usr/local/lib/python3.11/dist-packages (from peft==0.5.0) (4.67.1)\n",
      "Requirement already satisfied: accelerate in /usr/local/lib/python3.11/dist-packages (from peft==0.5.0) (1.3.0)\n",
      "Requirement already satisfied: safetensors in /usr/local/lib/python3.11/dist-packages (from peft==0.5.0) (0.5.2)\n",
      "Requirement already satisfied: mkl_fft in /usr/local/lib/python3.11/dist-packages (from numpy>=1.17->peft==0.5.0) (1.3.8)\n",
      "Requirement already satisfied: mkl_random in /usr/local/lib/python3.11/dist-packages (from numpy>=1.17->peft==0.5.0) (1.2.4)\n",
      "Requirement already satisfied: mkl_umath in /usr/local/lib/python3.11/dist-packages (from numpy>=1.17->peft==0.5.0) (0.1.1)\n",
      "Requirement already satisfied: mkl in /usr/local/lib/python3.11/dist-packages (from numpy>=1.17->peft==0.5.0) (2025.1.0)\n",
      "Requirement already satisfied: tbb4py in /usr/local/lib/python3.11/dist-packages (from numpy>=1.17->peft==0.5.0) (2022.1.0)\n",
      "Requirement already satisfied: mkl-service in /usr/local/lib/python3.11/dist-packages (from numpy>=1.17->peft==0.5.0) (2.4.1)\n",
      "Requirement already satisfied: filelock in /usr/local/lib/python3.11/dist-packages (from torch>=1.13.0->peft==0.5.0) (3.18.0)\n",
      "Requirement already satisfied: typing-extensions>=4.8.0 in /usr/local/lib/python3.11/dist-packages (from torch>=1.13.0->peft==0.5.0) (4.13.1)\n",
      "Requirement already satisfied: networkx in /usr/local/lib/python3.11/dist-packages (from torch>=1.13.0->peft==0.5.0) (3.4.2)\n",
      "Requirement already satisfied: jinja2 in /usr/local/lib/python3.11/dist-packages (from torch>=1.13.0->peft==0.5.0) (3.1.6)\n",
      "Requirement already satisfied: fsspec in /usr/local/lib/python3.11/dist-packages (from torch>=1.13.0->peft==0.5.0) (2025.3.2)\n",
      "Requirement already satisfied: nvidia-cuda-nvrtc-cu12==12.4.127 in /usr/local/lib/python3.11/dist-packages (from torch>=1.13.0->peft==0.5.0) (12.4.127)\n",
      "Requirement already satisfied: nvidia-cuda-runtime-cu12==12.4.127 in /usr/local/lib/python3.11/dist-packages (from torch>=1.13.0->peft==0.5.0) (12.4.127)\n",
      "Requirement already satisfied: nvidia-cuda-cupti-cu12==12.4.127 in /usr/local/lib/python3.11/dist-packages (from torch>=1.13.0->peft==0.5.0) (12.4.127)\n",
      "Requirement already satisfied: nvidia-cudnn-cu12==9.1.0.70 in /usr/local/lib/python3.11/dist-packages (from torch>=1.13.0->peft==0.5.0) (9.1.0.70)\n",
      "Requirement already satisfied: nvidia-cublas-cu12==12.4.5.8 in /usr/local/lib/python3.11/dist-packages (from torch>=1.13.0->peft==0.5.0) (12.4.5.8)\n",
      "Requirement already satisfied: nvidia-cufft-cu12==11.2.1.3 in /usr/local/lib/python3.11/dist-packages (from torch>=1.13.0->peft==0.5.0) (11.2.1.3)\n",
      "Requirement already satisfied: nvidia-curand-cu12==10.3.5.147 in /usr/local/lib/python3.11/dist-packages (from torch>=1.13.0->peft==0.5.0) (10.3.5.147)\n",
      "Requirement already satisfied: nvidia-cusolver-cu12==11.6.1.9 in /usr/local/lib/python3.11/dist-packages (from torch>=1.13.0->peft==0.5.0) (11.6.1.9)\n",
      "Requirement already satisfied: nvidia-cusparse-cu12==12.3.1.170 in /usr/local/lib/python3.11/dist-packages (from torch>=1.13.0->peft==0.5.0) (12.3.1.170)\n",
      "Requirement already satisfied: nvidia-nccl-cu12==2.21.5 in /usr/local/lib/python3.11/dist-packages (from torch>=1.13.0->peft==0.5.0) (2.21.5)\n",
      "Requirement already satisfied: nvidia-nvtx-cu12==12.4.127 in /usr/local/lib/python3.11/dist-packages (from torch>=1.13.0->peft==0.5.0) (12.4.127)\n",
      "Requirement already satisfied: nvidia-nvjitlink-cu12==12.4.127 in /usr/local/lib/python3.11/dist-packages (from torch>=1.13.0->peft==0.5.0) (12.4.127)\n",
      "Requirement already satisfied: triton==3.1.0 in /usr/local/lib/python3.11/dist-packages (from torch>=1.13.0->peft==0.5.0) (3.1.0)\n",
      "Requirement already satisfied: sympy==1.13.1 in /usr/local/lib/python3.11/dist-packages (from torch>=1.13.0->peft==0.5.0) (1.13.1)\n",
      "Requirement already satisfied: mpmath<1.4,>=1.1.0 in /usr/local/lib/python3.11/dist-packages (from sympy==1.13.1->torch>=1.13.0->peft==0.5.0) (1.3.0)\n",
      "Requirement already satisfied: huggingface-hub>=0.21.0 in /usr/local/lib/python3.11/dist-packages (from accelerate->peft==0.5.0) (0.30.2)\n",
      "Requirement already satisfied: regex!=2019.12.17 in /usr/local/lib/python3.11/dist-packages (from transformers->peft==0.5.0) (2024.11.6)\n",
      "Requirement already satisfied: requests in /usr/local/lib/python3.11/dist-packages (from transformers->peft==0.5.0) (2.32.3)\n",
      "Requirement already satisfied: tokenizers<0.22,>=0.21 in /usr/local/lib/python3.11/dist-packages (from transformers->peft==0.5.0) (0.21.0)\n",
      "Requirement already satisfied: MarkupSafe>=2.0 in /usr/local/lib/python3.11/dist-packages (from jinja2->torch>=1.13.0->peft==0.5.0) (3.0.2)\n",
      "Requirement already satisfied: intel-openmp<2026,>=2024 in /usr/local/lib/python3.11/dist-packages (from mkl->numpy>=1.17->peft==0.5.0) (2024.2.0)\n",
      "Requirement already satisfied: tbb==2022.* in /usr/local/lib/python3.11/dist-packages (from mkl->numpy>=1.17->peft==0.5.0) (2022.1.0)\n",
      "Requirement already satisfied: tcmlib==1.* in /usr/local/lib/python3.11/dist-packages (from tbb==2022.*->mkl->numpy>=1.17->peft==0.5.0) (1.2.0)\n",
      "Requirement already satisfied: intel-cmplr-lib-rt in /usr/local/lib/python3.11/dist-packages (from mkl_umath->numpy>=1.17->peft==0.5.0) (2024.2.0)\n",
      "Requirement already satisfied: charset-normalizer<4,>=2 in /usr/local/lib/python3.11/dist-packages (from requests->transformers->peft==0.5.0) (3.4.1)\n",
      "Requirement already satisfied: idna<4,>=2.5 in /usr/local/lib/python3.11/dist-packages (from requests->transformers->peft==0.5.0) (3.10)\n",
      "Requirement already satisfied: urllib3<3,>=1.21.1 in /usr/local/lib/python3.11/dist-packages (from requests->transformers->peft==0.5.0) (2.3.0)\n",
      "Requirement already satisfied: certifi>=2017.4.17 in /usr/local/lib/python3.11/dist-packages (from requests->transformers->peft==0.5.0) (2025.1.31)\n",
      "Requirement already satisfied: intel-cmplr-lib-ur==2024.2.0 in /usr/local/lib/python3.11/dist-packages (from intel-openmp<2026,>=2024->mkl->numpy>=1.17->peft==0.5.0) (2024.2.0)\n",
      "Downloading peft-0.5.0-py3-none-any.whl (85 kB)\n",
      "\u001b[2K   \u001b[90m━━━━━━━━━━━━━━━━━━━━━━━━━━━━━━━━━━━━━━━━\u001b[0m \u001b[32m85.6/85.6 kB\u001b[0m \u001b[31m2.6 MB/s\u001b[0m eta \u001b[36m0:00:00\u001b[0m\n",
      "\u001b[?25hInstalling collected packages: peft\n",
      "  Attempting uninstall: peft\n",
      "    Found existing installation: peft 0.14.0\n",
      "    Uninstalling peft-0.14.0:\n",
      "      Successfully uninstalled peft-0.14.0\n",
      "Successfully installed peft-0.5.0\n"
     ]
    }
   ],
   "source": [
    "!pip install peft==0.5.0\n"
   ]
  },
  {
   "cell_type": "code",
   "execution_count": null,
   "metadata": {
    "execution": {
     "iopub.execute_input": "2025-05-01T07:40:20.224645Z",
     "iopub.status.busy": "2025-05-01T07:40:20.223896Z",
     "iopub.status.idle": "2025-05-01T07:40:20.953214Z",
     "shell.execute_reply": "2025-05-01T07:40:20.952458Z",
     "shell.execute_reply.started": "2025-05-01T07:40:20.224621Z"
    }
   },
   "outputs": [
    {
     "name": "stdout",
     "output_type": "stream",
     "text": [
      " Full model saved as lora_full_model.pt\n"
     ]
    }
   ],
   "source": [
    "import torch\n",
    "\n",
    "\n",
    "tokenizer.save_pretrained(\"/kaggle/working/lora_tokenizer\")\n",
    "\n",
    "torch.save(model.state_dict(), \"lora_full_model.pt\")\n",
    "print(\" Full model saved as lora_full_model.pt\")\n",
    "\n"
   ]
  },
  {
   "cell_type": "code",
   "execution_count": 120,
   "metadata": {
    "execution": {
     "iopub.execute_input": "2025-05-01T07:54:12.192589Z",
     "iopub.status.busy": "2025-05-01T07:54:12.192051Z",
     "iopub.status.idle": "2025-05-01T07:54:12.217363Z",
     "shell.execute_reply": "2025-05-01T07:54:12.216800Z",
     "shell.execute_reply.started": "2025-05-01T07:54:12.192566Z"
    }
   },
   "outputs": [
    {
     "data": {
      "text/plain": [
       "'/kaggle/working/lora_tokenizer.zip'"
      ]
     },
     "execution_count": 120,
     "metadata": {},
     "output_type": "execute_result"
    }
   ],
   "source": [
    "import shutil\n",
    "\n",
    "shutil.make_archive(\"/kaggle/working/lora_tokenizer\", 'zip', \"/kaggle/working/lora_tokenizer\")\n"
   ]
  },
  {
   "cell_type": "markdown",
   "metadata": {},
   "source": [
    "### Ranked Sentence Scorer with Output\n",
    "This debug version of the ranking function prints each sentence along with its predicted importance score - based on ROUGE-L recall. It highlights the top-k ranked sentences that form the extractive summary. Useful for validating model behavior during inference."
   ]
  },
  {
   "cell_type": "code",
   "execution_count": null,
   "metadata": {
    "execution": {
     "iopub.execute_input": "2025-05-01T07:45:12.916562Z",
     "iopub.status.busy": "2025-05-01T07:45:12.916339Z",
     "iopub.status.idle": "2025-05-01T07:45:12.922509Z",
     "shell.execute_reply": "2025-05-01T07:45:12.921818Z",
     "shell.execute_reply.started": "2025-05-01T07:45:12.916546Z"
    }
   },
   "outputs": [],
   "source": [
    "def rank_sentences_debug(document, model, tokenizer, top_k=3):\n",
    "    model.eval()\n",
    "    sentences = [s.strip() for s in sent_tokenize(document) if s.strip()]\n",
    "    scored = []\n",
    "\n",
    "    print(\" Sentence Scores:\\n\")\n",
    "    for sent in sentences:\n",
    "        encoding = tokenizer(sent, return_tensors='pt', padding='max_length', truncation=True, max_length=128)\n",
    "        input_ids = encoding['input_ids'].cuda()\n",
    "        attention_mask = encoding['attention_mask'].cuda()\n",
    "\n",
    "        with torch.no_grad():\n",
    "            score = model(input_ids=input_ids, attention_mask=attention_mask).logits.item()\n",
    "        scored.append((sent, score))\n",
    "        print(f\"• {score:.4f} → {sent}\")\n",
    "\n",
    "\n",
    "    ranked = sorted(scored, key=lambda x: x[1], reverse=True)[:top_k]\n",
    "    print(\"\\n Top Extractive Summary:\\n\")\n",
    "    for sent, score in ranked:\n",
    "        print(f\"•{sent}\")\n",
    "    \n",
    "    return [s for s, _ in ranked]\n"
   ]
  },
  {
   "cell_type": "code",
   "execution_count": null,
   "metadata": {
    "execution": {
     "iopub.execute_input": "2025-05-01T07:43:20.760589Z",
     "iopub.status.busy": "2025-05-01T07:43:20.759900Z",
     "iopub.status.idle": "2025-05-01T07:43:24.122416Z",
     "shell.execute_reply": "2025-05-01T07:43:24.121672Z",
     "shell.execute_reply.started": "2025-05-01T07:43:20.760567Z"
    }
   },
   "outputs": [],
   "source": [
    "from datasets import load_dataset\n",
    "\n",
    "test_set = load_dataset(\"ereverter/cnn_dailymail_extractive\", split=\"test[:5%]\")  \n",
    "\n",
    "\n",
    "docs = [\" \".join(x[\"src\"]) for x in test_set]\n",
    "refs = [\" \".join(x[\"tgt\"]) for x in test_set]\n"
   ]
  },
  {
   "cell_type": "markdown",
   "metadata": {},
   "source": [
    "### ROUGE Scoring of Extractive Summaries\n",
    "\n",
    "This method evaluates the extractive summarizer by computing ROUGE-1 and ROUGE-L F1 scores between reference summaries and top-k predicted sentences. For each document:\n",
    "\n",
    "The sentences are sorted using the trained model.\n",
    "Top-k sentences are combined into a candidate summary.\n",
    "The ROUGE scores are calculated against the gold summary.\n",
    "It computes and returns the average ROUGE-1 and ROUGE-L F1 scores of the dataset."
   ]
  },
  {
   "cell_type": "code",
   "execution_count": null,
   "metadata": {
    "execution": {
     "iopub.execute_input": "2025-05-01T07:33:21.054436Z",
     "iopub.status.busy": "2025-05-01T07:33:21.054182Z",
     "iopub.status.idle": "2025-05-01T07:33:21.062167Z",
     "shell.execute_reply": "2025-05-01T07:33:21.061406Z",
     "shell.execute_reply.started": "2025-05-01T07:33:21.054419Z"
    }
   },
   "outputs": [],
   "source": [
    "from rouge_score import rouge_scorer\n",
    "import numpy as np\n",
    "from nltk.tokenize import sent_tokenize\n",
    "\n",
    "def evaluate_rouge(model, tokenizer, docs, refs, top_k=3):\n",
    "    scorer = rouge_scorer.RougeScorer(['rouge1', 'rougeL'], use_stemmer=True)\n",
    "    rouge1_scores = []\n",
    "    rougeL_scores = []\n",
    "\n",
    "    for doc, ref in zip(docs, refs):\n",
    "       \n",
    "        sentences = [s.strip() for s in sent_tokenize(doc) if s.strip()]\n",
    "        scored = []\n",
    "\n",
    "        for sent in sentences:\n",
    "            encoding = tokenizer(sent, return_tensors='pt', padding='max_length', truncation=True, max_length=128)\n",
    "            input_ids = encoding[\"input_ids\"].cuda()\n",
    "            attention_mask = encoding[\"attention_mask\"].cuda()\n",
    "            with torch.no_grad():\n",
    "                score = model(input_ids=input_ids, attention_mask=attention_mask).logits.item()\n",
    "            scored.append((sent, score))\n",
    "\n",
    "        ranked = sorted(scored, key=lambda x: x[1], reverse=True)[:top_k]\n",
    "        candidate = \" \".join([s for s, _ in ranked])\n",
    "\n",
    "        scores = scorer.score(ref, candidate)\n",
    "        rouge1_scores.append(scores[\"rouge1\"].fmeasure)\n",
    "        rougeL_scores.append(scores[\"rougeL\"].fmeasure)\n",
    "\n",
    "    return {\n",
    "        \"ROUGE-1\": np.mean(rouge1_scores),\n",
    "        \"ROUGE-L\": np.mean(rougeL_scores)\n",
    "    }\n"
   ]
  },
  {
   "cell_type": "code",
   "execution_count": 117,
   "metadata": {
    "execution": {
     "iopub.execute_input": "2025-05-01T07:43:24.123766Z",
     "iopub.status.busy": "2025-05-01T07:43:24.123511Z",
     "iopub.status.idle": "2025-05-01T07:45:12.915210Z",
     "shell.execute_reply": "2025-05-01T07:45:12.914578Z",
     "shell.execute_reply.started": "2025-05-01T07:43:24.123741Z"
    }
   },
   "outputs": [
    {
     "name": "stdout",
     "output_type": "stream",
     "text": [
      "ROUGE-1: 0.2538\n",
      "ROUGE-L: 0.1653\n"
     ]
    }
   ],
   "source": [
    "results = evaluate_rouge(model, tokenizer, docs, refs, top_k=3)\n",
    "print(f\"ROUGE-1: {results['ROUGE-1']:.4f}\")\n",
    "print(f\"ROUGE-L: {results['ROUGE-L']:.4f}\")\n"
   ]
  },
  {
   "cell_type": "markdown",
   "metadata": {},
   "source": [
    " These scores reflect moderate lexical and structural overlap between the top-ranked extractive summaries and the reference summaries, indicating the model has learned to identify reasonably relevant content."
   ]
  },
  {
   "cell_type": "markdown",
   "metadata": {},
   "source": [
    "### Testing few Cases"
   ]
  },
  {
   "cell_type": "code",
   "execution_count": 119,
   "metadata": {
    "execution": {
     "iopub.execute_input": "2025-05-01T07:45:12.923488Z",
     "iopub.status.busy": "2025-05-01T07:45:12.923263Z",
     "iopub.status.idle": "2025-05-01T07:45:13.017317Z",
     "shell.execute_reply": "2025-05-01T07:45:13.016590Z",
     "shell.execute_reply.started": "2025-05-01T07:45:12.923464Z"
    }
   },
   "outputs": [
    {
     "name": "stdout",
     "output_type": "stream",
     "text": [
      " Sentence Scores:\n",
      "\n",
      "• 0.0691 → In recent years, the conversation around climate change has evolved from a scientific concern to a central topic in policy, economics, and public health.\n",
      "• 0.0765 → Governments worldwide are being urged by scientists and citizens alike to implement stricter emissions targets and invest heavily in renewable energy infrastructure.\n",
      "• 0.0498 → The 2023 IPCC report emphasized that the window to avoid the most catastrophic effects of climate change is rapidly closing.\n",
      "• 0.0864 → Rising sea levels threaten to displace millions living in coastal regions, while increasingly severe weather events like hurricanes, droughts, and wildfires are already causing billions in damage annually.\n",
      "• 0.0427 → At the same time, corporations are under pressure from both investors and consumers to adopt sustainable practices and disclose environmental impact data.\n",
      "• 0.0742 → Major tech companies have pledged carbon neutrality, and financial institutions are rethinking how they allocate capital to fossil fuel-dependent industries.\n",
      "• 0.0288 → However, progress remains uneven.\n",
      "• 0.0852 → Developing nations argue that they cannot be held to the same standards as industrialized countries, which have historically contributed the most to greenhouse gas accumulation.\n",
      "• 0.0488 → This has led to a renewed focus on climate justice — the idea that those least responsible for climate change are often the most vulnerable to its consequences.\n",
      "• 0.0591 → International cooperation remains crucial, especially as countries navigate economic recovery in the post-pandemic era.\n",
      "• 0.0613 → Initiatives like the Paris Agreement and COP28 are central to aligning global goals, but many experts believe that more aggressive timelines are necessary.\n",
      "• 0.0594 → Public awareness and activism, particularly among younger generations, continue to drive momentum toward meaningful, science-based climate action.\n",
      "\n",
      " Top Extractive Summary:\n",
      "\n",
      "•Rising sea levels threaten to displace millions living in coastal regions, while increasingly severe weather events like hurricanes, droughts, and wildfires are already causing billions in damage annually.\n",
      "•Developing nations argue that they cannot be held to the same standards as industrialized countries, which have historically contributed the most to greenhouse gas accumulation.\n",
      "•Governments worldwide are being urged by scientists and citizens alike to implement stricter emissions targets and invest heavily in renewable energy infrastructure.\n",
      "•Major tech companies have pledged carbon neutrality, and financial institutions are rethinking how they allocate capital to fossil fuel-dependent industries.\n",
      "•In recent years, the conversation around climate change has evolved from a scientific concern to a central topic in policy, economics, and public health.\n"
     ]
    }
   ],
   "source": [
    "doc = \"\"\"\n",
    "In recent years, the conversation around climate change has evolved from a scientific concern to a central topic in policy, economics, and public health. Governments worldwide are being urged by scientists and citizens alike to implement stricter emissions targets and invest heavily in renewable energy infrastructure. The 2023 IPCC report emphasized that the window to avoid the most catastrophic effects of climate change is rapidly closing. Rising sea levels threaten to displace millions living in coastal regions, while increasingly severe weather events like hurricanes, droughts, and wildfires are already causing billions in damage annually. At the same time, corporations are under pressure from both investors and consumers to adopt sustainable practices and disclose environmental impact data. Major tech companies have pledged carbon neutrality, and financial institutions are rethinking how they allocate capital to fossil fuel-dependent industries. However, progress remains uneven. Developing nations argue that they cannot be held to the same standards as industrialized countries, which have historically contributed the most to greenhouse gas accumulation. This has led to a renewed focus on climate justice — the idea that those least responsible for climate change are often the most vulnerable to its consequences. International cooperation remains crucial, especially as countries navigate economic recovery in the post-pandemic era. Initiatives like the Paris Agreement and COP28 are central to aligning global goals, but many experts believe that more aggressive timelines are necessary. Public awareness and activism, particularly among younger generations, continue to drive momentum toward meaningful, science-based climate action.\n",
    "\n",
    "\n",
    "\"\"\"\n",
    "\n",
    "summary = rank_sentences_debug(doc, model, tokenizer, top_k=5)\n"
   ]
  },
  {
   "cell_type": "code",
   "execution_count": 129,
   "metadata": {
    "execution": {
     "iopub.execute_input": "2025-05-01T08:03:02.490282Z",
     "iopub.status.busy": "2025-05-01T08:03:02.489705Z",
     "iopub.status.idle": "2025-05-01T08:03:02.530548Z",
     "shell.execute_reply": "2025-05-01T08:03:02.529984Z",
     "shell.execute_reply.started": "2025-05-01T08:03:02.490261Z"
    }
   },
   "outputs": [
    {
     "name": "stdout",
     "output_type": "stream",
     "text": [
      " Sentence Scores:\n",
      "\n",
      "• 0.0870 → With the rapid advancement of artificial intelligence, lawmakers are scrambling to implement frameworks that ensure ethical and responsible use of AI.\n",
      "• 0.1050 → Recent proposals include mandatory algorithmic audits, transparency requirements, and strict oversight for models deployed in critical sectors like healthcare and law enforcement.\n",
      "• 0.0833 → Companies like OpenAI and Google DeepMind have welcomed regulation in principle, but caution that overly rigid rules may stifle innovation.\n",
      "• 0.0527 → Meanwhile, advocacy groups warn that without enforceable safeguards, AI systems could perpetuate bias, invade privacy, or even pose existential risks.\n",
      "• 0.1307 → The EU’s AI Act is currently the most comprehensive attempt at global regulation, expected to be finalized later this year.\n",
      "\n",
      " Top Extractive Summary:\n",
      "\n",
      "•The EU’s AI Act is currently the most comprehensive attempt at global regulation, expected to be finalized later this year.\n",
      "•Recent proposals include mandatory algorithmic audits, transparency requirements, and strict oversight for models deployed in critical sectors like healthcare and law enforcement.\n",
      "•With the rapid advancement of artificial intelligence, lawmakers are scrambling to implement frameworks that ensure ethical and responsible use of AI.\n"
     ]
    }
   ],
   "source": [
    "doc = \"\"\"\n",
    "With the rapid advancement of artificial intelligence, lawmakers are scrambling to implement frameworks that ensure ethical and responsible use of AI. Recent proposals include mandatory algorithmic audits, transparency requirements, and strict oversight for models deployed in critical sectors like healthcare and law enforcement. Companies like OpenAI and Google DeepMind have welcomed regulation in principle, but caution that overly rigid rules may stifle innovation. Meanwhile, advocacy groups warn that without enforceable safeguards, AI systems could perpetuate bias, invade privacy, or even pose existential risks. The EU’s AI Act is currently the most comprehensive attempt at global regulation, expected to be finalized later this year.\n",
    "\"\"\"\n",
    "summary = rank_sentences_debug(doc, model, tokenizer, top_k=3)\n"
   ]
  },
  {
   "cell_type": "code",
   "execution_count": 130,
   "metadata": {
    "execution": {
     "iopub.execute_input": "2025-05-01T08:03:09.955984Z",
     "iopub.status.busy": "2025-05-01T08:03:09.955410Z",
     "iopub.status.idle": "2025-05-01T08:03:09.998141Z",
     "shell.execute_reply": "2025-05-01T08:03:09.997590Z",
     "shell.execute_reply.started": "2025-05-01T08:03:09.955946Z"
    }
   },
   "outputs": [
    {
     "name": "stdout",
     "output_type": "stream",
     "text": [
      " Sentence Scores:\n",
      "\n",
      "• 0.0788 → After a decade of near-uninterrupted growth, the tech industry is facing its largest wave of layoffs since the dot-com crash.\n",
      "• 0.0672 → Companies like Meta, Amazon, and Google have announced large-scale job cuts, citing rising interest rates, inflationary pressures, and over-hiring during the pandemic.\n",
      "• 0.0707 → Analysts suggest this marks a correction rather than a collapse, with firms realigning their focus on profitability over scale.\n",
      "• 0.1079 → Workers affected by the layoffs are expressing both frustration and hope, with many turning to startups or considering career changes into adjacent industries like ed-tech and climate tech.\n",
      "• 0.0773 → Industry observers say the current downturn could spark a wave of new innovation.\n",
      "\n",
      " Top Extractive Summary:\n",
      "\n",
      "•Workers affected by the layoffs are expressing both frustration and hope, with many turning to startups or considering career changes into adjacent industries like ed-tech and climate tech.\n",
      "•After a decade of near-uninterrupted growth, the tech industry is facing its largest wave of layoffs since the dot-com crash.\n",
      "•Industry observers say the current downturn could spark a wave of new innovation.\n"
     ]
    }
   ],
   "source": [
    "doc = \"\"\"\n",
    "After a decade of near-uninterrupted growth, the tech industry is facing its largest wave of layoffs since the dot-com crash. Companies like Meta, Amazon, and Google have announced large-scale job cuts, citing rising interest rates, inflationary pressures, and over-hiring during the pandemic. Analysts suggest this marks a correction rather than a collapse, with firms realigning their focus on profitability over scale. Workers affected by the layoffs are expressing both frustration and hope, with many turning to startups or considering career changes into adjacent industries like ed-tech and climate tech. Industry observers say the current downturn could spark a wave of new innovation.\n",
    "\"\"\"\n",
    "summary = rank_sentences_debug(doc, model, tokenizer, top_k=3)\n"
   ]
  },
  {
   "cell_type": "code",
   "execution_count": 132,
   "metadata": {
    "execution": {
     "iopub.execute_input": "2025-05-01T08:03:19.742348Z",
     "iopub.status.busy": "2025-05-01T08:03:19.742077Z",
     "iopub.status.idle": "2025-05-01T08:03:19.786751Z",
     "shell.execute_reply": "2025-05-01T08:03:19.786198Z",
     "shell.execute_reply.started": "2025-05-01T08:03:19.742327Z"
    }
   },
   "outputs": [
    {
     "name": "stdout",
     "output_type": "stream",
     "text": [
      " Sentence Scores:\n",
      "\n",
      "• 0.0723 → Access to clean water remains one of the most pressing challenges in many developing countries.\n",
      "• 0.1411 → Recent reports by the WHO and UNICEF highlight that over 2 billion people lack access to safe drinking water.\n",
      "• 0.0752 → Climate change, poor infrastructure, and political instability further exacerbate the crisis.\n",
      "• 0.0703 → Nonprofits and governments are investing in low-cost filtration systems, rainwater harvesting, and public education campaigns.\n",
      "• 0.0502 → However, progress is uneven and often hampered by corruption or lack of funding.\n",
      "• 0.0961 → Experts warn that unless urgent action is taken, water insecurity could lead to mass displacement and regional conflicts in the near future.\n",
      "\n",
      " Top Extractive Summary:\n",
      "\n",
      "•Recent reports by the WHO and UNICEF highlight that over 2 billion people lack access to safe drinking water.\n",
      "•Experts warn that unless urgent action is taken, water insecurity could lead to mass displacement and regional conflicts in the near future.\n",
      "•Climate change, poor infrastructure, and political instability further exacerbate the crisis.\n"
     ]
    }
   ],
   "source": [
    "doc = \"\"\"\n",
    "Access to clean water remains one of the most pressing challenges in many developing countries. Recent reports by the WHO and UNICEF highlight that over 2 billion people lack access to safe drinking water. Climate change, poor infrastructure, and political instability further exacerbate the crisis. Nonprofits and governments are investing in low-cost filtration systems, rainwater harvesting, and public education campaigns. However, progress is uneven and often hampered by corruption or lack of funding. Experts warn that unless urgent action is taken, water insecurity could lead to mass displacement and regional conflicts in the near future.\n",
    "\"\"\"\n",
    "summary = rank_sentences_debug(doc, model, tokenizer, top_k=3)\n"
   ]
  },
  {
   "cell_type": "markdown",
   "metadata": {},
   "source": [
    "## References\n",
    "\n",
    "https://www.digitalocean.com/community/tutorials/bart-model-for-text-summarization-part1\n",
    "\n",
    "https://huggingface.co/facebook/bart-large-cnn\n",
    "\n",
    "https://www.width.ai/post/bart-text-summarization\n",
    "\n",
    "https://medium.com/@sandyeep70/demystifying-text-summarization-with-deep-learning-ce08d99eda97\n",
    "\n",
    "https://www.geeksforgeeks.org/website-summarizer-using-bart/\n",
    "\n",
    "https://ieeexplore.ieee.org/document/9972639\n",
    "\n",
    "https://medium.com/@sarowar.saurav10/6-useful-text-summarization-algorithm-in-python-dfc8a9d33074\n",
    "\n",
    "https://www.geeksforgeeks.org/text-summarization-in-nlp/\n",
    "\n",
    "https://medium.com/@ivavrtaric/t5-for-text-summarization-in-7-lines-of-code-b665c9e40771\n",
    "\n",
    "https://huggingface.co/facebook/bart-large-cnn\n",
    "\n",
    "https://paperswithcode.com/task/abstractive-text-summarization\n",
    "\n",
    "https://www.exxactcorp.com/blog/deep-learning/extractive-summarization-with-llm-using-bert\n",
    "\n",
    "https://colab.research.google.com/drive/1ZunuZ0zFRusvQN5K9sH4q5rCZe63urIL\n",
    "\n",
    "https://medium.com/analytics-vidhya/text-summarization-using-bert-gpt2-xlnet-5ee80608e961"
   ]
  }
 ],
 "metadata": {
  "kaggle": {
   "accelerator": "gpu",
   "dataSources": [
    {
     "datasetId": 7185856,
     "sourceId": 11466855,
     "sourceType": "datasetVersion"
    },
    {
     "datasetId": 7253817,
     "sourceId": 11570036,
     "sourceType": "datasetVersion"
    },
    {
     "datasetId": 7255228,
     "sourceId": 11572320,
     "sourceType": "datasetVersion"
    },
    {
     "datasetId": 7263654,
     "sourceId": 11584722,
     "sourceType": "datasetVersion"
    }
   ],
   "dockerImageVersionId": 31011,
   "isGpuEnabled": true,
   "isInternetEnabled": true,
   "language": "python",
   "sourceType": "notebook"
  },
  "kernelspec": {
   "display_name": "Python 3",
   "language": "python",
   "name": "python3"
  },
  "language_info": {
   "codemirror_mode": {
    "name": "ipython",
    "version": 3
   },
   "file_extension": ".py",
   "mimetype": "text/x-python",
   "name": "python",
   "nbconvert_exporter": "python",
   "pygments_lexer": "ipython3",
   "version": "3.11.11"
  }
 },
 "nbformat": 4,
 "nbformat_minor": 4
}
